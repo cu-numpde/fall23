{
 "cells": [
  {
   "cell_type": "markdown",
   "id": "3471b94b",
   "metadata": {
    "cell_style": "center",
    "slideshow": {
     "slide_type": "slide"
    }
   },
   "source": [
    "# 2023-11-29 Systems"
   ]
  },
  {
   "cell_type": "markdown",
   "id": "4159be0e",
   "metadata": {
    "cell_style": "split",
    "slideshow": {
     "slide_type": ""
    }
   },
   "source": [
    "## Last time\n",
    "\n",
    "* Godunov's Theorem\n",
    "* Slope reconstruction and limiting\n",
    "* Hyperbolic systems\n",
    "\n",
    "## Today\n",
    "* Rankine-Hugoniot and Riemann Invariants\n",
    "* Exact Riemann solvers\n",
    "* Approximate Riemann solvers\n",
    "* Multi-dimensional generalizations"
   ]
  },
  {
   "cell_type": "code",
   "execution_count": 23,
   "id": "7fd7f3b0",
   "metadata": {
    "slideshow": {
     "slide_type": "skip"
    }
   },
   "outputs": [],
   "source": [
    "using LinearAlgebra\n",
    "using Plots\n",
    "default(linewidth=3)\n",
    "\n",
    "struct RKTable\n",
    "    A::Matrix\n",
    "    b::Vector\n",
    "    c::Vector\n",
    "    function RKTable(A, b)\n",
    "        s = length(b)\n",
    "        A = reshape(A, s, s)\n",
    "        c = vec(sum(A, dims=2))\n",
    "        new(A, b, c)\n",
    "    end\n",
    "end\n",
    "\n",
    "rk4 = RKTable([0 0 0 0; .5 0 0 0; 0 .5 0 0; 0 0 1 0], [1, 2, 2, 1] / 6)\n",
    "\n",
    "function ode_rk_explicit(f, u0; tfinal=1., h=0.1, table=rk4)\n",
    "    u = copy(u0)\n",
    "    t = 0.\n",
    "    n, s = length(u), length(table.c)\n",
    "    fY = zeros(n, s)\n",
    "    thist = [t]\n",
    "    uhist = [u0]\n",
    "    while t < tfinal\n",
    "        tnext = min(t+h, tfinal)\n",
    "        h = tnext - t\n",
    "        for i in 1:s\n",
    "            ti = t + h * table.c[i]\n",
    "            Yi = u + h * sum(fY[:,1:i-1] * table.A[i,1:i-1], dims=2)\n",
    "            fY[:,i] = f(ti, Yi)\n",
    "        end\n",
    "        u += h * fY * table.b\n",
    "        t = tnext\n",
    "        push!(thist, t)\n",
    "        push!(uhist, u)\n",
    "    end\n",
    "    thist, hcat(uhist...)\n",
    "end\n",
    "\n",
    "function testfunc(x)\n",
    "    max(1 - 4*abs.(x+2/3),\n",
    "        abs.(x) .< .2,\n",
    "        (2*abs.(x-2/3) .< .5) * cospi(2*(x-2/3)).^2\n",
    "    )\n",
    "end\n",
    "\n",
    "flux_advection(u) = u\n",
    "flux_burgers(u) = u^2/2\n",
    "flux_traffic(u) = u * (1 - u)\n",
    "\n",
    "riemann_advection(uL, uR) = 1*uL # velocity is +1\n",
    "\n",
    "function fv_solve1(riemann, u_init, n, tfinal=1)\n",
    "    h = 2 / n\n",
    "    x = LinRange(-1+h/2, 1-h/2, n) # cell midpoints (centroids)\n",
    "    idxL = 1 .+ (n-1:2*n-2) .% n\n",
    "    idxR = 1 .+ (n+1:2*n) .% n\n",
    "    function rhs(t, u)\n",
    "        fluxL = riemann(u[idxL], u)\n",
    "        fluxR = riemann(u, u[idxR])\n",
    "        (fluxL - fluxR) / h\n",
    "    end\n",
    "    thist, uhist = ode_rk_explicit(rhs, u_init.(x), h=h, tfinal=tfinal)\n",
    "    x, thist, uhist\n",
    "end\n",
    "\n",
    "function riemann_burgers(uL, uR)\n",
    "    flux = zero(uL)\n",
    "    for i in 1:length(flux)\n",
    "        fL = flux_burgers(uL[i])\n",
    "        fR = flux_burgers(uR[i])\n",
    "        flux[i] = if uL[i] > uR[i] # shock\n",
    "            max(fL, fR)\n",
    "        elseif uL[i] > 0 # rarefaction all to the right\n",
    "            fL\n",
    "        elseif uR[i] < 0 # rarefaction all to the left\n",
    "            fR\n",
    "        else\n",
    "            0\n",
    "        end\n",
    "    end\n",
    "    flux\n",
    "end\n",
    "\n",
    "function riemann_traffic(uL, uR)\n",
    "    flux = zero(uL)\n",
    "    for i in 1:length(flux)\n",
    "        fL = flux_traffic(uL[i])\n",
    "        fR = flux_traffic(uR[i])\n",
    "        flux[i] = if uL[i] < uR[i] # shock\n",
    "            min(fL, fR)\n",
    "        elseif uL[i] < .5 # rarefaction all to the right\n",
    "            fL\n",
    "        elseif uR[i] > .5 # rarefaction all to the left\n",
    "            fR\n",
    "        else\n",
    "            flux_traffic(.5)\n",
    "        end\n",
    "    end\n",
    "    flux \n",
    "end\n",
    "\n",
    "limit_zero(r) = 0\n",
    "limit_none(r) = 1\n",
    "limit_minmod(r) = max(min(2*r, 2*(1-r)), 0)\n",
    "limit_sin(r) = (0 < r && r < 1) * sinpi(r)\n",
    "limit_vl(r) = max(4*r*(1-r), 0)\n",
    "limit_bj(r) = max(0, min(1, 4*r, 4*(1-r)))\n",
    "limiters = [limit_zero limit_none limit_minmod limit_sin limit_vl limit_bj];"
   ]
  },
  {
   "cell_type": "markdown",
   "id": "25d011b3",
   "metadata": {
    "slideshow": {
     "slide_type": "slide"
    }
   },
   "source": [
    "# Hyperbolic systems\n",
    "\n",
    "$$ U_t + f(U)_x = 0 $$"
   ]
  },
  {
   "cell_type": "markdown",
   "id": "598defce",
   "metadata": {
    "cell_style": "split",
    "slideshow": {
     "slide_type": ""
    }
   },
   "source": [
    "## Isentropic gas dynamics\n",
    "\n",
    "\\begin{align} U &= \\begin{bmatrix} \\rho \\\\ \\rho u \\end{bmatrix} & f(U) &= \\begin{bmatrix} \\rho u \\\\ \\rho u^2 + p \\end{bmatrix} \\end{align}\n",
    "\n",
    "| Variable | meaning |\n",
    "|----------|--------|\n",
    "| $\\rho$ | density |\n",
    "| $u$    | velocity |\n",
    "| $\\rho u$ | momentum |\n",
    "| $p$      | pressure |\n",
    "\n",
    "\n",
    "* Equation of state $p(\\rho) = C \\rho^\\gamma$ with $\\gamma = 1.4$ (typical air). \n",
    "* \"isothermal\" gas dynamics: $p(\\rho) = c^2 \\rho$, wave speed $c$.\n",
    "* Compute as $ \\rho u^2 = \\frac{(\\rho u)^2}{\\rho} .$"
   ]
  },
  {
   "cell_type": "markdown",
   "id": "35a1e510",
   "metadata": {
    "cell_style": "split"
   },
   "source": [
    "## Smooth wave structure\n",
    "\n",
    "For perturbations of a constant state, systems of equations produce multiple waves with speeds equal to the eigenvalues of the flux Jacobian,\n",
    "$$ f'(U) = \\begin{bmatrix} 0 & 1 \\\\ -u^2 + c^2 & 2 u \\end{bmatrix}. $$\n",
    "We can compute the eigenvalues and eigenvectors,\n",
    "$$ f'(U) = W \\Lambda W^{-1} $$\n",
    "as\n",
    "\\begin{align} \n",
    "W &= \\begin{bmatrix} 1 & 1 \\\\ u-c & u+c \\end{bmatrix} &\n",
    "\\Lambda &= \\begin{bmatrix} u-c &  \\\\ & u+c \\end{bmatrix} .\n",
    "\\end{align}"
   ]
  },
  {
   "cell_type": "markdown",
   "id": "1d945225",
   "metadata": {
    "slideshow": {
     "slide_type": "slide"
    }
   },
   "source": [
    "# Riemann problem for systems: shocks\n",
    "\n",
    "Given states $U_L$ and $U_R$, we will see two waves with some state $U^*$ in between.  There could be two shocks, two rarefactions, or one of each.\n",
    "The type of wave will determine the condition that must be satisfied to connect $U_L$ to $U_*$ and $U_*$ to $U_R$."
   ]
  },
  {
   "cell_type": "markdown",
   "id": "15492bf5",
   "metadata": {
    "cell_style": "split"
   },
   "source": [
    "## Left-moving wave\n",
    "\n",
    "If there is a shock between $U_L$ and $U_*$, the Rankine-Hugoniot condition\n",
    "$$ s \\Delta U = \\Delta f $$\n",
    "will be satisfied along with the entropy condition\n",
    "$$ \\lambda_i(U_L) \\ge s \\ge \\lambda_i(U_*) $$\n",
    "where $\\lambda_i(U)$ is the corresponding eigenvalue of the flux Jacobian $f'(U)$.\n",
    "The inequality in the entropy condition is strict if the wave is genuinely nonlinear.\n",
    "For isothermal gas dynamics, the Rankine-Hugoniot condition is\n",
    "\\begin{align}\n",
    " (\\rho_* - \\rho_L) s &= \\rho_* u_* - \\rho_L u_L \\\\\n",
    " (\\rho_* u_* - \\rho_L u_L) s &= \\Big(\\rho_* u_*^2 + c^2 \\rho_* \\Big) - \\Big( \\rho_L u_L^2 + c^2 \\rho_L \\Big)\n",
    "\\end{align}"
   ]
  },
  {
   "cell_type": "markdown",
   "id": "927703d5",
   "metadata": {
    "cell_style": "split"
   },
   "source": [
    "Solving the first equation for $s$ and substituting into the second, we compute\n",
    "\\begin{split} \\frac{(\\rho_* u_* - \\rho_L u_L)^2}{\\rho_* - \\rho_L} &= \\rho_* u_*^2 - \\rho_L u_L^2 + c^2 (\\rho_* - \\rho_L) \\\\\n",
    " \\rho_*^2 u_*^2 - 2 \\rho_* \\rho_L u_* u_L + \\rho_L^2 u_L^2 &= \\rho_* (\\rho_* - \\rho_L) u_*^2 - \\rho_L (\\rho_* - \\rho_L) u_L^2 + c^2 (\\rho_* - \\rho_L)^2 \\\\\n",
    " \\rho_* \\rho_L \\Big( u_*^2 - 2  u_* u_L + u_L^2 \\Big) &= c^2 (\\rho_* - \\rho_L)^2 \\\\\n",
    " (u_* - u_L)^2 &= c^2 \\frac{(\\rho_* - \\rho_L)^2}{\\rho_* \\rho_L} \\\\\n",
    " u_* - u_L &= \\pm c \\frac{\\rho_* - \\rho_L}{\\sqrt{\\rho_* \\rho_L}}\n",
    "\\end{split}\n",
    "and will need to use the entropy condition to learn which sign to take."
   ]
  },
  {
   "cell_type": "markdown",
   "id": "56dbb58e",
   "metadata": {
    "slideshow": {
     "slide_type": "slide"
    }
   },
   "source": [
    "# Admissible shocks"
   ]
  },
  {
   "cell_type": "markdown",
   "id": "7df0f6a7",
   "metadata": {
    "cell_style": "split"
   },
   "source": [
    "We need to choose the sign\n",
    "$$u_* - u_L = \\pm c \\frac{\\rho_* - \\rho_L}{\\sqrt{\\rho_*\\rho_L}}$$"
   ]
  },
  {
   "cell_type": "markdown",
   "id": "1591c7d4",
   "metadata": {
    "cell_style": "split"
   },
   "source": [
    "The entropy condition requires that\n",
    "$$ \\lambda(U_L) = u_L - c \\ge s \\ge u_* - c = \\lambda(U_*) . $$\n",
    "Meanwhile, the first Rankine-Hugoniot condition and $\\rho > 0$ provides\n",
    "$$  \\rho_L c \\le \\rho_L (u_L - s) = \\rho_* (u_* - s) \\le \\rho_* c $$\n",
    "which is to say that $\\rho_* \\ge \\rho_L$ and consequently we take the negative sign,\n",
    "$$ u_* - u_L = - c\\frac{\\rho_* - \\rho_L}{\\sqrt{\\rho_* \\rho_L}} .$$\n",
    "## Right-moving wave\n",
    "The same process for the right wave $\\lambda(U) = u + c$ yields a shock when $\\rho_* \\ge \\rho_R$, in which case the velocity jump is\n",
    "$$ u_R - u_* = - c \\frac{\\rho_* - \\rho_R}{\\sqrt{\\rho_* \\rho_R}} . $$"
   ]
  },
  {
   "cell_type": "markdown",
   "id": "82495d67",
   "metadata": {
    "slideshow": {
     "slide_type": "slide"
    }
   },
   "source": [
    "# Rarefactions\n",
    "\n",
    "A rarefaction occurs when\n",
    "$$ \\lambda_i(U_L) < \\lambda_i(U_R) $$"
   ]
  },
  {
   "cell_type": "markdown",
   "id": "4417d692",
   "metadata": {
    "cell_style": "split"
   },
   "source": [
    "## Generalized Riemann invariants\n",
    "\n",
    "$$ \\frac{d U^1}{W_i^1} = \\frac{d U^2}{W_i^2} = \\dotsb $$\n",
    "\n",
    "(Derivation of this condition is beyond the scope of this class.)\n",
    "\n",
    "### Isothermal gas dynamics\n",
    "$$ \\frac{d \\rho}{1} = \\frac{d (\\rho u)}{u - c} $$\n",
    "across the wave $\\lambda = u-c$.\n",
    "We can rearrange to\n",
    "$$ (u-c) d \\rho = \\rho d u + u d \\rho $$\n",
    "or\n",
    "$$ d u + \\frac{c}{\\rho} d \\rho = 0 . $$"
   ]
  },
  {
   "cell_type": "markdown",
   "id": "71a05127",
   "metadata": {
    "cell_style": "split",
    "slideshow": {
     "slide_type": ""
    }
   },
   "source": [
    "Integration yields\n",
    "$$ u + \\int \\frac{c}{\\rho} d \\rho = u + c \\log \\rho = \\text{constant} . $$\n",
    "So if we have a rarefaction between $U_L$ and $U_*$ then\n",
    "$$ u_L + c \\log \\rho_L = u_* + c \\log \\rho_* . $$\n",
    "Similarly, for the wave $\\lambda = u + c$, a rarefaction between $U_*$ and $U_R$ results in\n",
    "$$ u_* - c \\log \\rho_* = u_R - c \\log \\rho_R . $$\n",
    "If the rarefaction is sonic, we have $u_0 - c = 0$ for a left rarefaction (or $u_0 + c =0$ for the right) and can compute $\\rho_0$ from\n",
    "$$ u_* -c \\log \\rho_* = u_0 - c \\log \\rho_0,$$\n",
    "via\n",
    "$$ \\rho_0 = \\exp\\big[(u_0 - u_*)/c + \\log \\rho_* \\big].$$"
   ]
  },
  {
   "cell_type": "markdown",
   "id": "67b8903d",
   "metadata": {
    "slideshow": {
     "slide_type": "slide"
    }
   },
   "source": [
    "# Basic algorithm"
   ]
  },
  {
   "cell_type": "markdown",
   "id": "3717562c",
   "metadata": {
    "cell_style": "split",
    "slideshow": {
     "slide_type": ""
    }
   },
   "source": [
    "1. Find $\\rho_*$\n",
    "2. Use entropy condition (for shock speeds)\n",
    "  * If it's a shock: find $u_*$ using Rankine-Hugoniot\n",
    "  * If it's a rarefaction: use       generalized Riemann invariant"
   ]
  },
  {
   "cell_type": "markdown",
   "id": "2cdf121d",
   "metadata": {
    "cell_style": "split"
   },
   "source": [
    "![](../img/Toro-ShockOrRarefaction-2.19.png)"
   ]
  },
  {
   "cell_type": "markdown",
   "id": "a4f2a40f",
   "metadata": {
    "slideshow": {
     "slide_type": "fragment"
    }
   },
   "source": [
    "## First a miracle happens\n",
    "In general we will need to use a Newton method to solve for the state in the star region."
   ]
  },
  {
   "cell_type": "markdown",
   "id": "f4091dea",
   "metadata": {
    "slideshow": {
     "slide_type": "slide"
    }
   },
   "source": [
    "# Exact Riemann solver for isothermal gas dynamics"
   ]
  },
  {
   "cell_type": "code",
   "execution_count": 92,
   "id": "49ef36eb",
   "metadata": {
    "cell_style": "split"
   },
   "outputs": [
    {
     "data": {
      "text/plain": [
       "dujump_isogas (generic function with 1 method)"
      ]
     },
     "execution_count": 92,
     "metadata": {},
     "output_type": "execute_result"
    }
   ],
   "source": [
    "function flux_isogas(U, c=1)\n",
    "    rho = U[1]\n",
    "    u = U[2] / rho\n",
    "    [U[1], U[2]*u + c^2*rho]\n",
    "end\n",
    "\n",
    "function ujump_isogas(rho_L, rho_R, cw)\n",
    "    if sign(rho_L - rho_R) == sign(cw) # shock\n",
    "        sign(cw) * (rho_R - rho_L) / sqrt(rho_L*rho_R)\n",
    "    else # rarefaction\n",
    "        cw * (log(rho_R) - log(rho_L))\n",
    "    end\n",
    "end\n",
    "\n",
    "function dujump_isogas(rho_L, drho_L, rho_R, drho_R, cw)\n",
    "    if sign(rho_L - rho_R) == sign(cw) # shock\n",
    "        sign(cw) * ((drho_R - drho_L) / sqrt(rho_L*rho_R)\n",
    "            - .5*(rho_R - rho_L) * (rho_L*rho_R)^(-3/2) \n",
    "        * (drho_L * rho_R + rho_L * drho_R))\n",
    "    else\n",
    "        cw * (drho_R / rho_R - drho_L / rho_L)\n",
    "    end\n",
    "end"
   ]
  },
  {
   "cell_type": "code",
   "execution_count": 119,
   "id": "f6834fd0",
   "metadata": {
    "cell_style": "split"
   },
   "outputs": [
    {
     "data": {
      "text/plain": [
       "riemann_isogas (generic function with 2 methods)"
      ]
     },
     "execution_count": 119,
     "metadata": {},
     "output_type": "execute_result"
    }
   ],
   "source": [
    "function riemann_isogas(UL, UR, maxit=20)\n",
    "    rho_L, u_L = UL[1], UL[2]/UL[1]\n",
    "    rho_R, u_R = UR[1], UR[2]/UR[1]\n",
    "    rho = .5 * (rho_L + rho_R) # initial guess\n",
    "    U_star = zero.(UL)\n",
    "    for i in 1:maxit\n",
    "        f = (ujump_isogas(UL[1], rho, -1)\n",
    "            + ujump_isogas(rho, UR[1], 1)\n",
    "            - (UR[2]/UR[1] - UL[2]/UL[1]))\n",
    "        if norm(f) < 1e-10\n",
    "            u = u_L + ujump_isogas(UL[1], rho, -1)\n",
    "            U_star[:] = [rho, rho*u]\n",
    "            break\n",
    "        end\n",
    "        J = (dujump_isogas(rho_L, 0, rho, 1, -1)\n",
    "            + dujump_isogas(rho, 1, rho_R, 0, 1))\n",
    "        delta_rho = -f / J\n",
    "        rho += delta_rho\n",
    "        #while rho + delta_rho <= 0\n",
    "        #    delta_rho /= 2 # line search to prevent negative rho\n",
    "        #end\n",
    "    end\n",
    "    U0 = resolve_isogas(UL, UR, U_star)\n",
    "    @show U0\n",
    "    flux_isogas(U0)\n",
    "end"
   ]
  },
  {
   "cell_type": "markdown",
   "id": "5075ad34",
   "metadata": {
    "slideshow": {
     "slide_type": "slide"
    }
   },
   "source": [
    "# Test the Riemann solver"
   ]
  },
  {
   "cell_type": "code",
   "execution_count": 121,
   "id": "521a4dfa",
   "metadata": {},
   "outputs": [
    {
     "name": "stdout",
     "output_type": "stream",
     "text": [
      "U0 = [0.9486804089487428, 0.14484765853290457]\n"
     ]
    },
    {
     "data": {
      "text/plain": [
       "2-element Vector{Float64}:\n",
       " 0.9486804089487428\n",
       " 0.9707962279163911"
      ]
     },
     "execution_count": 121,
     "metadata": {},
     "output_type": "execute_result"
    }
   ],
   "source": [
    "isogas(rho, u) = [rho, rho*u]\n",
    "riemann_isogas(isogas(1, .1), isogas(.9, .1))"
   ]
  },
  {
   "cell_type": "markdown",
   "id": "79faecb0",
   "metadata": {
    "slideshow": {
     "slide_type": "slide"
    }
   },
   "source": [
    "# Resolving waves for isothermal gas dynamics"
   ]
  },
  {
   "cell_type": "code",
   "execution_count": 100,
   "id": "d4e2f3b8",
   "metadata": {
    "cell_style": "split"
   },
   "outputs": [
    {
     "data": {
      "text/plain": [
       "resolve_isogas (generic function with 1 method)"
      ]
     },
     "execution_count": 100,
     "metadata": {},
     "output_type": "execute_result"
    }
   ],
   "source": [
    "function resolve_isogas(UL, UR, U_star; c=1)\n",
    "    rho_L, u_L = UL[1], UL[2]/UL[1]\n",
    "    rho_R, u_R = UR[1], UR[2]/UR[1]\n",
    "    rho, u = U_star[1], U_star[2] / U_star[1]\n",
    "    if ((u_L - c < 0 < u - c) || \n",
    "        (u + c < 0 < u_R + c))\n",
    "        # inside left (right) sonic rarefaction\n",
    "        u0 = sign(u) * c\n",
    "        rho0 = exp((u0-u)/c + log(rho))\n",
    "        [rho0, rho0 * u0]\n",
    "    elseif ((rho_L >= rho && 0 <= u_L - c) ||\n",
    "            (rho_L < rho && 0 < rho*u - UL[2]))\n",
    "        # left rarefaction or shock is supersonic\n",
    "        UL\n",
    "    elseif ((rho_R >= rho && u_R + c <= 0) ||\n",
    "            (rho_R < rho && rho*u - UR[2] < 0))\n",
    "        # right rarefaction or shock is supersonic\n",
    "        UR\n",
    "    else # sample star region\n",
    "        U_star\n",
    "    end\n",
    "end"
   ]
  },
  {
   "cell_type": "code",
   "execution_count": 114,
   "id": "59cbcf65",
   "metadata": {
    "cell_style": "split"
   },
   "outputs": [
    {
     "data": {
      "image/svg+xml": [
       "<?xml version=\"1.0\" encoding=\"utf-8\"?>\n",
       "<svg xmlns=\"http://www.w3.org/2000/svg\" xmlns:xlink=\"http://www.w3.org/1999/xlink\" width=\"600\" height=\"400\" viewBox=\"0 0 2400 1600\">\n",
       "<defs>\n",
       "  <clipPath id=\"clip990\">\n",
       "    <rect x=\"0\" y=\"0\" width=\"2400\" height=\"1600\"/>\n",
       "  </clipPath>\n",
       "</defs>\n",
       "<path clip-path=\"url(#clip990)\" d=\"\n",
       "M0 1600 L2400 1600 L2400 0 L0 0  Z\n",
       "  \" fill=\"#ffffff\" fill-rule=\"evenodd\" fill-opacity=\"1\"/>\n",
       "<defs>\n",
       "  <clipPath id=\"clip991\">\n",
       "    <rect x=\"480\" y=\"0\" width=\"1681\" height=\"1600\"/>\n",
       "  </clipPath>\n",
       "</defs>\n",
       "<path clip-path=\"url(#clip990)\" d=\"\n",
       "M155.765 1486.45 L2352.76 1486.45 L2352.76 47.2441 L155.765 47.2441  Z\n",
       "  \" fill=\"#ffffff\" fill-rule=\"evenodd\" fill-opacity=\"1\"/>\n",
       "<defs>\n",
       "  <clipPath id=\"clip992\">\n",
       "    <rect x=\"155\" y=\"47\" width=\"2198\" height=\"1440\"/>\n",
       "  </clipPath>\n",
       "</defs>\n",
       "<polyline clip-path=\"url(#clip992)\" style=\"stroke:#000000; stroke-linecap:butt; stroke-linejoin:round; stroke-width:2; stroke-opacity:0.1; fill:none\" points=\"\n",
       "  217.944,1486.45 217.944,47.2441 \n",
       "  \"/>\n",
       "<polyline clip-path=\"url(#clip992)\" style=\"stroke:#000000; stroke-linecap:butt; stroke-linejoin:round; stroke-width:2; stroke-opacity:0.1; fill:none\" points=\"\n",
       "  736.102,1486.45 736.102,47.2441 \n",
       "  \"/>\n",
       "<polyline clip-path=\"url(#clip992)\" style=\"stroke:#000000; stroke-linecap:butt; stroke-linejoin:round; stroke-width:2; stroke-opacity:0.1; fill:none\" points=\"\n",
       "  1254.26,1486.45 1254.26,47.2441 \n",
       "  \"/>\n",
       "<polyline clip-path=\"url(#clip992)\" style=\"stroke:#000000; stroke-linecap:butt; stroke-linejoin:round; stroke-width:2; stroke-opacity:0.1; fill:none\" points=\"\n",
       "  1772.42,1486.45 1772.42,47.2441 \n",
       "  \"/>\n",
       "<polyline clip-path=\"url(#clip992)\" style=\"stroke:#000000; stroke-linecap:butt; stroke-linejoin:round; stroke-width:2; stroke-opacity:0.1; fill:none\" points=\"\n",
       "  2290.58,1486.45 2290.58,47.2441 \n",
       "  \"/>\n",
       "<polyline clip-path=\"url(#clip990)\" style=\"stroke:#000000; stroke-linecap:butt; stroke-linejoin:round; stroke-width:4; stroke-opacity:1; fill:none\" points=\"\n",
       "  155.765,1486.45 2352.76,1486.45 \n",
       "  \"/>\n",
       "<polyline clip-path=\"url(#clip990)\" style=\"stroke:#000000; stroke-linecap:butt; stroke-linejoin:round; stroke-width:4; stroke-opacity:1; fill:none\" points=\"\n",
       "  217.944,1486.45 217.944,1467.55 \n",
       "  \"/>\n",
       "<polyline clip-path=\"url(#clip990)\" style=\"stroke:#000000; stroke-linecap:butt; stroke-linejoin:round; stroke-width:4; stroke-opacity:1; fill:none\" points=\"\n",
       "  736.102,1486.45 736.102,1467.55 \n",
       "  \"/>\n",
       "<polyline clip-path=\"url(#clip990)\" style=\"stroke:#000000; stroke-linecap:butt; stroke-linejoin:round; stroke-width:4; stroke-opacity:1; fill:none\" points=\"\n",
       "  1254.26,1486.45 1254.26,1467.55 \n",
       "  \"/>\n",
       "<polyline clip-path=\"url(#clip990)\" style=\"stroke:#000000; stroke-linecap:butt; stroke-linejoin:round; stroke-width:4; stroke-opacity:1; fill:none\" points=\"\n",
       "  1772.42,1486.45 1772.42,1467.55 \n",
       "  \"/>\n",
       "<polyline clip-path=\"url(#clip990)\" style=\"stroke:#000000; stroke-linecap:butt; stroke-linejoin:round; stroke-width:4; stroke-opacity:1; fill:none\" points=\"\n",
       "  2290.58,1486.45 2290.58,1467.55 \n",
       "  \"/>\n",
       "<path clip-path=\"url(#clip990)\" d=\"M164.472 1532.02 L194.148 1532.02 L194.148 1535.95 L164.472 1535.95 L164.472 1532.02 Z\" fill=\"#000000\" fill-rule=\"evenodd\" fill-opacity=\"1\" /><path clip-path=\"url(#clip990)\" d=\"M205.05 1544.91 L212.689 1544.91 L212.689 1518.55 L204.379 1520.21 L204.379 1515.95 L212.643 1514.29 L217.319 1514.29 L217.319 1544.91 L224.958 1544.91 L224.958 1548.85 L205.05 1548.85 L205.05 1544.91 Z\" fill=\"#000000\" fill-rule=\"evenodd\" fill-opacity=\"1\" /><path clip-path=\"url(#clip990)\" d=\"M234.402 1542.97 L239.286 1542.97 L239.286 1548.85 L234.402 1548.85 L234.402 1542.97 Z\" fill=\"#000000\" fill-rule=\"evenodd\" fill-opacity=\"1\" /><path clip-path=\"url(#clip990)\" d=\"M259.471 1517.37 Q255.86 1517.37 254.032 1520.93 Q252.226 1524.47 252.226 1531.6 Q252.226 1538.71 254.032 1542.27 Q255.86 1545.82 259.471 1545.82 Q263.106 1545.82 264.911 1542.27 Q266.74 1538.71 266.74 1531.6 Q266.74 1524.47 264.911 1520.93 Q263.106 1517.37 259.471 1517.37 M259.471 1513.66 Q265.282 1513.66 268.337 1518.27 Q271.416 1522.85 271.416 1531.6 Q271.416 1540.33 268.337 1544.94 Q265.282 1549.52 259.471 1549.52 Q253.661 1549.52 250.583 1544.94 Q247.527 1540.33 247.527 1531.6 Q247.527 1522.85 250.583 1518.27 Q253.661 1513.66 259.471 1513.66 Z\" fill=\"#000000\" fill-rule=\"evenodd\" fill-opacity=\"1\" /><path clip-path=\"url(#clip990)\" d=\"M683.128 1532.02 L712.804 1532.02 L712.804 1535.95 L683.128 1535.95 L683.128 1532.02 Z\" fill=\"#000000\" fill-rule=\"evenodd\" fill-opacity=\"1\" /><path clip-path=\"url(#clip990)\" d=\"M732.896 1517.37 Q729.285 1517.37 727.456 1520.93 Q725.651 1524.47 725.651 1531.6 Q725.651 1538.71 727.456 1542.27 Q729.285 1545.82 732.896 1545.82 Q736.53 1545.82 738.336 1542.27 Q740.165 1538.71 740.165 1531.6 Q740.165 1524.47 738.336 1520.93 Q736.53 1517.37 732.896 1517.37 M732.896 1513.66 Q738.706 1513.66 741.762 1518.27 Q744.841 1522.85 744.841 1531.6 Q744.841 1540.33 741.762 1544.94 Q738.706 1549.52 732.896 1549.52 Q727.086 1549.52 724.007 1544.94 Q720.952 1540.33 720.952 1531.6 Q720.952 1522.85 724.007 1518.27 Q727.086 1513.66 732.896 1513.66 Z\" fill=\"#000000\" fill-rule=\"evenodd\" fill-opacity=\"1\" /><path clip-path=\"url(#clip990)\" d=\"M753.058 1542.97 L757.942 1542.97 L757.942 1548.85 L753.058 1548.85 L753.058 1542.97 Z\" fill=\"#000000\" fill-rule=\"evenodd\" fill-opacity=\"1\" /><path clip-path=\"url(#clip990)\" d=\"M768.174 1514.29 L786.53 1514.29 L786.53 1518.22 L772.456 1518.22 L772.456 1526.7 Q773.475 1526.35 774.493 1526.19 Q775.512 1526 776.53 1526 Q782.317 1526 785.697 1529.17 Q789.076 1532.34 789.076 1537.76 Q789.076 1543.34 785.604 1546.44 Q782.132 1549.52 775.813 1549.52 Q773.637 1549.52 771.368 1549.15 Q769.123 1548.78 766.715 1548.04 L766.715 1543.34 Q768.799 1544.47 771.021 1545.03 Q773.243 1545.58 775.72 1545.58 Q779.725 1545.58 782.063 1543.48 Q784.401 1541.37 784.401 1537.76 Q784.401 1534.15 782.063 1532.04 Q779.725 1529.94 775.72 1529.94 Q773.845 1529.94 771.97 1530.35 Q770.118 1530.77 768.174 1531.65 L768.174 1514.29 Z\" fill=\"#000000\" fill-rule=\"evenodd\" fill-opacity=\"1\" /><path clip-path=\"url(#clip990)\" d=\"M1231.64 1517.37 Q1228.03 1517.37 1226.21 1520.93 Q1224.4 1524.47 1224.4 1531.6 Q1224.4 1538.71 1226.21 1542.27 Q1228.03 1545.82 1231.64 1545.82 Q1235.28 1545.82 1237.08 1542.27 Q1238.91 1538.71 1238.91 1531.6 Q1238.91 1524.47 1237.08 1520.93 Q1235.28 1517.37 1231.64 1517.37 M1231.64 1513.66 Q1237.45 1513.66 1240.51 1518.27 Q1243.59 1522.85 1243.59 1531.6 Q1243.59 1540.33 1240.51 1544.94 Q1237.45 1549.52 1231.64 1549.52 Q1225.83 1549.52 1222.76 1544.94 Q1219.7 1540.33 1219.7 1531.6 Q1219.7 1522.85 1222.76 1518.27 Q1225.83 1513.66 1231.64 1513.66 Z\" fill=\"#000000\" fill-rule=\"evenodd\" fill-opacity=\"1\" /><path clip-path=\"url(#clip990)\" d=\"M1251.81 1542.97 L1256.69 1542.97 L1256.69 1548.85 L1251.81 1548.85 L1251.81 1542.97 Z\" fill=\"#000000\" fill-rule=\"evenodd\" fill-opacity=\"1\" /><path clip-path=\"url(#clip990)\" d=\"M1276.88 1517.37 Q1273.26 1517.37 1271.44 1520.93 Q1269.63 1524.47 1269.63 1531.6 Q1269.63 1538.71 1271.44 1542.27 Q1273.26 1545.82 1276.88 1545.82 Q1280.51 1545.82 1282.32 1542.27 Q1284.14 1538.71 1284.14 1531.6 Q1284.14 1524.47 1282.32 1520.93 Q1280.51 1517.37 1276.88 1517.37 M1276.88 1513.66 Q1282.69 1513.66 1285.74 1518.27 Q1288.82 1522.85 1288.82 1531.6 Q1288.82 1540.33 1285.74 1544.94 Q1282.69 1549.52 1276.88 1549.52 Q1271.07 1549.52 1267.99 1544.94 Q1264.93 1540.33 1264.93 1531.6 Q1264.93 1522.85 1267.99 1518.27 Q1271.07 1513.66 1276.88 1513.66 Z\" fill=\"#000000\" fill-rule=\"evenodd\" fill-opacity=\"1\" /><path clip-path=\"url(#clip990)\" d=\"M1750.3 1517.37 Q1746.69 1517.37 1744.86 1520.93 Q1743.06 1524.47 1743.06 1531.6 Q1743.06 1538.71 1744.86 1542.27 Q1746.69 1545.82 1750.3 1545.82 Q1753.93 1545.82 1755.74 1542.27 Q1757.57 1538.71 1757.57 1531.6 Q1757.57 1524.47 1755.74 1520.93 Q1753.93 1517.37 1750.3 1517.37 M1750.3 1513.66 Q1756.11 1513.66 1759.17 1518.27 Q1762.25 1522.85 1762.25 1531.6 Q1762.25 1540.33 1759.17 1544.94 Q1756.11 1549.52 1750.3 1549.52 Q1744.49 1549.52 1741.41 1544.94 Q1738.36 1540.33 1738.36 1531.6 Q1738.36 1522.85 1741.41 1518.27 Q1744.49 1513.66 1750.3 1513.66 Z\" fill=\"#000000\" fill-rule=\"evenodd\" fill-opacity=\"1\" /><path clip-path=\"url(#clip990)\" d=\"M1770.46 1542.97 L1775.35 1542.97 L1775.35 1548.85 L1770.46 1548.85 L1770.46 1542.97 Z\" fill=\"#000000\" fill-rule=\"evenodd\" fill-opacity=\"1\" /><path clip-path=\"url(#clip990)\" d=\"M1785.58 1514.29 L1803.93 1514.29 L1803.93 1518.22 L1789.86 1518.22 L1789.86 1526.7 Q1790.88 1526.35 1791.9 1526.19 Q1792.92 1526 1793.93 1526 Q1799.72 1526 1803.1 1529.17 Q1806.48 1532.34 1806.48 1537.76 Q1806.48 1543.34 1803.01 1546.44 Q1799.54 1549.52 1793.22 1549.52 Q1791.04 1549.52 1788.77 1549.15 Q1786.53 1548.78 1784.12 1548.04 L1784.12 1543.34 Q1786.2 1544.47 1788.43 1545.03 Q1790.65 1545.58 1793.12 1545.58 Q1797.13 1545.58 1799.47 1543.48 Q1801.81 1541.37 1801.81 1537.76 Q1801.81 1534.15 1799.47 1532.04 Q1797.13 1529.94 1793.12 1529.94 Q1791.25 1529.94 1789.37 1530.35 Q1787.52 1530.77 1785.58 1531.65 L1785.58 1514.29 Z\" fill=\"#000000\" fill-rule=\"evenodd\" fill-opacity=\"1\" /><path clip-path=\"url(#clip990)\" d=\"M2257.73 1544.91 L2265.37 1544.91 L2265.37 1518.55 L2257.06 1520.21 L2257.06 1515.95 L2265.32 1514.29 L2270 1514.29 L2270 1544.91 L2277.64 1544.91 L2277.64 1548.85 L2257.73 1548.85 L2257.73 1544.91 Z\" fill=\"#000000\" fill-rule=\"evenodd\" fill-opacity=\"1\" /><path clip-path=\"url(#clip990)\" d=\"M2287.08 1542.97 L2291.97 1542.97 L2291.97 1548.85 L2287.08 1548.85 L2287.08 1542.97 Z\" fill=\"#000000\" fill-rule=\"evenodd\" fill-opacity=\"1\" /><path clip-path=\"url(#clip990)\" d=\"M2312.15 1517.37 Q2308.54 1517.37 2306.71 1520.93 Q2304.91 1524.47 2304.91 1531.6 Q2304.91 1538.71 2306.71 1542.27 Q2308.54 1545.82 2312.15 1545.82 Q2315.79 1545.82 2317.59 1542.27 Q2319.42 1538.71 2319.42 1531.6 Q2319.42 1524.47 2317.59 1520.93 Q2315.79 1517.37 2312.15 1517.37 M2312.15 1513.66 Q2317.96 1513.66 2321.02 1518.27 Q2324.1 1522.85 2324.1 1531.6 Q2324.1 1540.33 2321.02 1544.94 Q2317.96 1549.52 2312.15 1549.52 Q2306.34 1549.52 2303.26 1544.94 Q2300.21 1540.33 2300.21 1531.6 Q2300.21 1522.85 2303.26 1518.27 Q2306.34 1513.66 2312.15 1513.66 Z\" fill=\"#000000\" fill-rule=\"evenodd\" fill-opacity=\"1\" /><polyline clip-path=\"url(#clip992)\" style=\"stroke:#000000; stroke-linecap:butt; stroke-linejoin:round; stroke-width:2; stroke-opacity:0.1; fill:none\" points=\"\n",
       "  155.765,1258.39 2352.76,1258.39 \n",
       "  \"/>\n",
       "<polyline clip-path=\"url(#clip992)\" style=\"stroke:#000000; stroke-linecap:butt; stroke-linejoin:round; stroke-width:2; stroke-opacity:0.1; fill:none\" points=\"\n",
       "  155.765,1024.23 2352.76,1024.23 \n",
       "  \"/>\n",
       "<polyline clip-path=\"url(#clip992)\" style=\"stroke:#000000; stroke-linecap:butt; stroke-linejoin:round; stroke-width:2; stroke-opacity:0.1; fill:none\" points=\"\n",
       "  155.765,790.071 2352.76,790.071 \n",
       "  \"/>\n",
       "<polyline clip-path=\"url(#clip992)\" style=\"stroke:#000000; stroke-linecap:butt; stroke-linejoin:round; stroke-width:2; stroke-opacity:0.1; fill:none\" points=\"\n",
       "  155.765,555.912 2352.76,555.912 \n",
       "  \"/>\n",
       "<polyline clip-path=\"url(#clip992)\" style=\"stroke:#000000; stroke-linecap:butt; stroke-linejoin:round; stroke-width:2; stroke-opacity:0.1; fill:none\" points=\"\n",
       "  155.765,321.753 2352.76,321.753 \n",
       "  \"/>\n",
       "<polyline clip-path=\"url(#clip992)\" style=\"stroke:#000000; stroke-linecap:butt; stroke-linejoin:round; stroke-width:2; stroke-opacity:0.1; fill:none\" points=\"\n",
       "  155.765,87.5941 2352.76,87.5941 \n",
       "  \"/>\n",
       "<polyline clip-path=\"url(#clip990)\" style=\"stroke:#000000; stroke-linecap:butt; stroke-linejoin:round; stroke-width:4; stroke-opacity:1; fill:none\" points=\"\n",
       "  155.765,1486.45 155.765,47.2441 \n",
       "  \"/>\n",
       "<polyline clip-path=\"url(#clip990)\" style=\"stroke:#000000; stroke-linecap:butt; stroke-linejoin:round; stroke-width:4; stroke-opacity:1; fill:none\" points=\"\n",
       "  155.765,1258.39 174.663,1258.39 \n",
       "  \"/>\n",
       "<polyline clip-path=\"url(#clip990)\" style=\"stroke:#000000; stroke-linecap:butt; stroke-linejoin:round; stroke-width:4; stroke-opacity:1; fill:none\" points=\"\n",
       "  155.765,1024.23 174.663,1024.23 \n",
       "  \"/>\n",
       "<polyline clip-path=\"url(#clip990)\" style=\"stroke:#000000; stroke-linecap:butt; stroke-linejoin:round; stroke-width:4; stroke-opacity:1; fill:none\" points=\"\n",
       "  155.765,790.071 174.663,790.071 \n",
       "  \"/>\n",
       "<polyline clip-path=\"url(#clip990)\" style=\"stroke:#000000; stroke-linecap:butt; stroke-linejoin:round; stroke-width:4; stroke-opacity:1; fill:none\" points=\"\n",
       "  155.765,555.912 174.663,555.912 \n",
       "  \"/>\n",
       "<polyline clip-path=\"url(#clip990)\" style=\"stroke:#000000; stroke-linecap:butt; stroke-linejoin:round; stroke-width:4; stroke-opacity:1; fill:none\" points=\"\n",
       "  155.765,321.753 174.663,321.753 \n",
       "  \"/>\n",
       "<polyline clip-path=\"url(#clip990)\" style=\"stroke:#000000; stroke-linecap:butt; stroke-linejoin:round; stroke-width:4; stroke-opacity:1; fill:none\" points=\"\n",
       "  155.765,87.5941 174.663,87.5941 \n",
       "  \"/>\n",
       "<path clip-path=\"url(#clip990)\" d=\"M63.5847 1244.19 Q59.9736 1244.19 58.1449 1247.75 Q56.3393 1251.29 56.3393 1258.42 Q56.3393 1265.53 58.1449 1269.09 Q59.9736 1272.64 63.5847 1272.64 Q67.2189 1272.64 69.0244 1269.09 Q70.8531 1265.53 70.8531 1258.42 Q70.8531 1251.29 69.0244 1247.75 Q67.2189 1244.19 63.5847 1244.19 M63.5847 1240.48 Q69.3948 1240.48 72.4503 1245.09 Q75.529 1249.67 75.529 1258.42 Q75.529 1267.15 72.4503 1271.76 Q69.3948 1276.34 63.5847 1276.34 Q57.7745 1276.34 54.6958 1271.76 Q51.6403 1267.15 51.6403 1258.42 Q51.6403 1249.67 54.6958 1245.09 Q57.7745 1240.48 63.5847 1240.48 Z\" fill=\"#000000\" fill-rule=\"evenodd\" fill-opacity=\"1\" /><path clip-path=\"url(#clip990)\" d=\"M83.7466 1269.79 L88.6308 1269.79 L88.6308 1275.67 L83.7466 1275.67 L83.7466 1269.79 Z\" fill=\"#000000\" fill-rule=\"evenodd\" fill-opacity=\"1\" /><path clip-path=\"url(#clip990)\" d=\"M98.8622 1241.11 L117.219 1241.11 L117.219 1245.04 L103.145 1245.04 L103.145 1253.52 Q104.163 1253.17 105.182 1253.01 Q106.2 1252.82 107.219 1252.82 Q113.006 1252.82 116.385 1255.99 Q119.765 1259.16 119.765 1264.58 Q119.765 1270.16 116.293 1273.26 Q112.82 1276.34 106.501 1276.34 Q104.325 1276.34 102.057 1275.97 Q99.8113 1275.6 97.4039 1274.86 L97.4039 1270.16 Q99.4872 1271.29 101.709 1271.85 Q103.932 1272.4 106.408 1272.4 Q110.413 1272.4 112.751 1270.3 Q115.089 1268.19 115.089 1264.58 Q115.089 1260.97 112.751 1258.86 Q110.413 1256.76 106.408 1256.76 Q104.534 1256.76 102.659 1257.17 Q100.807 1257.59 98.8622 1258.47 L98.8622 1241.11 Z\" fill=\"#000000\" fill-rule=\"evenodd\" fill-opacity=\"1\" /><path clip-path=\"url(#clip990)\" d=\"M53.3995 1037.57 L61.0384 1037.57 L61.0384 1011.21 L52.7282 1012.88 L52.7282 1008.62 L60.9921 1006.95 L65.668 1006.95 L65.668 1037.57 L73.3068 1037.57 L73.3068 1041.51 L53.3995 1041.51 L53.3995 1037.57 Z\" fill=\"#000000\" fill-rule=\"evenodd\" fill-opacity=\"1\" /><path clip-path=\"url(#clip990)\" d=\"M82.7512 1035.63 L87.6354 1035.63 L87.6354 1041.51 L82.7512 1041.51 L82.7512 1035.63 Z\" fill=\"#000000\" fill-rule=\"evenodd\" fill-opacity=\"1\" /><path clip-path=\"url(#clip990)\" d=\"M107.821 1010.03 Q104.209 1010.03 102.381 1013.59 Q100.575 1017.13 100.575 1024.26 Q100.575 1031.37 102.381 1034.94 Q104.209 1038.48 107.821 1038.48 Q111.455 1038.48 113.26 1034.94 Q115.089 1031.37 115.089 1024.26 Q115.089 1017.13 113.26 1013.59 Q111.455 1010.03 107.821 1010.03 M107.821 1006.32 Q113.631 1006.32 116.686 1010.93 Q119.765 1015.51 119.765 1024.26 Q119.765 1032.99 116.686 1037.6 Q113.631 1042.18 107.821 1042.18 Q102.01 1042.18 98.9317 1037.6 Q95.8761 1032.99 95.8761 1024.26 Q95.8761 1015.51 98.9317 1010.93 Q102.01 1006.32 107.821 1006.32 Z\" fill=\"#000000\" fill-rule=\"evenodd\" fill-opacity=\"1\" /><path clip-path=\"url(#clip990)\" d=\"M54.3949 803.416 L62.0337 803.416 L62.0337 777.05 L53.7236 778.717 L53.7236 774.457 L61.9874 772.791 L66.6633 772.791 L66.6633 803.416 L74.3022 803.416 L74.3022 807.351 L54.3949 807.351 L54.3949 803.416 Z\" fill=\"#000000\" fill-rule=\"evenodd\" fill-opacity=\"1\" /><path clip-path=\"url(#clip990)\" d=\"M83.7466 801.471 L88.6308 801.471 L88.6308 807.351 L83.7466 807.351 L83.7466 801.471 Z\" fill=\"#000000\" fill-rule=\"evenodd\" fill-opacity=\"1\" /><path clip-path=\"url(#clip990)\" d=\"M98.8622 772.791 L117.219 772.791 L117.219 776.726 L103.145 776.726 L103.145 785.198 Q104.163 784.851 105.182 784.689 Q106.2 784.504 107.219 784.504 Q113.006 784.504 116.385 787.675 Q119.765 790.846 119.765 796.263 Q119.765 801.842 116.293 804.943 Q112.82 808.022 106.501 808.022 Q104.325 808.022 102.057 807.652 Q99.8113 807.281 97.4039 806.541 L97.4039 801.842 Q99.4872 802.976 101.709 803.531 Q103.932 804.087 106.408 804.087 Q110.413 804.087 112.751 801.98 Q115.089 799.874 115.089 796.263 Q115.089 792.652 112.751 790.545 Q110.413 788.439 106.408 788.439 Q104.534 788.439 102.659 788.856 Q100.807 789.272 98.8622 790.152 L98.8622 772.791 Z\" fill=\"#000000\" fill-rule=\"evenodd\" fill-opacity=\"1\" /><path clip-path=\"url(#clip990)\" d=\"M56.6171 569.257 L72.9365 569.257 L72.9365 573.192 L50.9921 573.192 L50.9921 569.257 Q53.6541 566.502 58.2375 561.873 Q62.8439 557.22 64.0245 555.877 Q66.2698 553.354 67.1494 551.618 Q68.0522 549.859 68.0522 548.169 Q68.0522 545.414 66.1078 543.678 Q64.1865 541.942 61.0847 541.942 Q58.8856 541.942 56.4319 542.706 Q54.0014 543.47 51.2236 545.021 L51.2236 540.299 Q54.0477 539.164 56.5014 538.586 Q58.955 538.007 60.9921 538.007 Q66.3624 538.007 69.5568 540.692 Q72.7513 543.377 72.7513 547.868 Q72.7513 549.998 71.9411 551.919 Q71.1541 553.817 69.0476 556.41 Q68.4689 557.081 65.367 560.298 Q62.2652 563.493 56.6171 569.257 Z\" fill=\"#000000\" fill-rule=\"evenodd\" fill-opacity=\"1\" /><path clip-path=\"url(#clip990)\" d=\"M82.7512 567.312 L87.6354 567.312 L87.6354 573.192 L82.7512 573.192 L82.7512 567.312 Z\" fill=\"#000000\" fill-rule=\"evenodd\" fill-opacity=\"1\" /><path clip-path=\"url(#clip990)\" d=\"M107.821 541.711 Q104.209 541.711 102.381 545.275 Q100.575 548.817 100.575 555.947 Q100.575 563.053 102.381 566.618 Q104.209 570.159 107.821 570.159 Q111.455 570.159 113.26 566.618 Q115.089 563.053 115.089 555.947 Q115.089 548.817 113.26 545.275 Q111.455 541.711 107.821 541.711 M107.821 538.007 Q113.631 538.007 116.686 542.613 Q119.765 547.197 119.765 555.947 Q119.765 564.673 116.686 569.28 Q113.631 573.863 107.821 573.863 Q102.01 573.863 98.9317 569.28 Q95.8761 564.673 95.8761 555.947 Q95.8761 547.197 98.9317 542.613 Q102.01 538.007 107.821 538.007 Z\" fill=\"#000000\" fill-rule=\"evenodd\" fill-opacity=\"1\" /><path clip-path=\"url(#clip990)\" d=\"M57.6125 335.098 L73.9318 335.098 L73.9318 339.033 L51.9875 339.033 L51.9875 335.098 Q54.6495 332.343 59.2328 327.714 Q63.8393 323.061 65.0198 321.718 Q67.2652 319.195 68.1448 317.459 Q69.0476 315.7 69.0476 314.01 Q69.0476 311.255 67.1032 309.519 Q65.1819 307.783 62.08 307.783 Q59.881 307.783 57.4273 308.547 Q54.9967 309.311 52.219 310.862 L52.219 306.14 Q55.043 305.005 57.4967 304.427 Q59.9504 303.848 61.9874 303.848 Q67.3578 303.848 70.5522 306.533 Q73.7466 309.218 73.7466 313.709 Q73.7466 315.839 72.9365 317.76 Q72.1494 319.658 70.0429 322.251 Q69.4642 322.922 66.3624 326.14 Q63.2606 329.334 57.6125 335.098 Z\" fill=\"#000000\" fill-rule=\"evenodd\" fill-opacity=\"1\" /><path clip-path=\"url(#clip990)\" d=\"M83.7466 333.153 L88.6308 333.153 L88.6308 339.033 L83.7466 339.033 L83.7466 333.153 Z\" fill=\"#000000\" fill-rule=\"evenodd\" fill-opacity=\"1\" /><path clip-path=\"url(#clip990)\" d=\"M98.8622 304.473 L117.219 304.473 L117.219 308.408 L103.145 308.408 L103.145 316.88 Q104.163 316.533 105.182 316.371 Q106.2 316.186 107.219 316.186 Q113.006 316.186 116.385 319.357 Q119.765 322.528 119.765 327.945 Q119.765 333.524 116.293 336.626 Q112.82 339.704 106.501 339.704 Q104.325 339.704 102.057 339.334 Q99.8113 338.964 97.4039 338.223 L97.4039 333.524 Q99.4872 334.658 101.709 335.214 Q103.932 335.769 106.408 335.769 Q110.413 335.769 112.751 333.663 Q115.089 331.556 115.089 327.945 Q115.089 324.334 112.751 322.228 Q110.413 320.121 106.408 320.121 Q104.534 320.121 102.659 320.538 Q100.807 320.954 98.8622 321.834 L98.8622 304.473 Z\" fill=\"#000000\" fill-rule=\"evenodd\" fill-opacity=\"1\" /><path clip-path=\"url(#clip990)\" d=\"M66.7559 86.2399 Q70.1124 86.9575 71.9874 89.226 Q73.8855 91.4945 73.8855 94.8279 Q73.8855 99.9436 70.367 102.744 Q66.8485 105.545 60.3671 105.545 Q58.1912 105.545 55.8764 105.106 Q53.5847 104.689 51.131 103.832 L51.131 99.3186 Q53.0754 100.453 55.3903 101.032 Q57.7051 101.61 60.2282 101.61 Q64.6263 101.61 66.918 99.8741 Q69.2328 98.138 69.2328 94.8279 Q69.2328 91.7723 67.08 90.0594 Q64.9504 88.3233 61.131 88.3233 L57.1032 88.3233 L57.1032 84.4807 L61.3161 84.4807 Q64.7652 84.4807 66.5939 83.115 Q68.4226 81.7261 68.4226 79.1335 Q68.4226 76.4715 66.5245 75.0594 Q64.6495 73.6243 61.131 73.6243 Q59.2097 73.6243 57.0106 74.0409 Q54.8115 74.4576 52.1727 75.3372 L52.1727 71.1706 Q54.8347 70.4298 57.1495 70.0595 Q59.4875 69.6891 61.5476 69.6891 Q66.8717 69.6891 69.9735 72.1196 Q73.0753 74.527 73.0753 78.6474 Q73.0753 81.5177 71.4318 83.5085 Q69.7883 85.476 66.7559 86.2399 Z\" fill=\"#000000\" fill-rule=\"evenodd\" fill-opacity=\"1\" /><path clip-path=\"url(#clip990)\" d=\"M82.7512 98.9945 L87.6354 98.9945 L87.6354 104.874 L82.7512 104.874 L82.7512 98.9945 Z\" fill=\"#000000\" fill-rule=\"evenodd\" fill-opacity=\"1\" /><path clip-path=\"url(#clip990)\" d=\"M107.821 73.3928 Q104.209 73.3928 102.381 76.9576 Q100.575 80.4992 100.575 87.6288 Q100.575 94.7353 102.381 98.3001 Q104.209 101.842 107.821 101.842 Q111.455 101.842 113.26 98.3001 Q115.089 94.7353 115.089 87.6288 Q115.089 80.4992 113.26 76.9576 Q111.455 73.3928 107.821 73.3928 M107.821 69.6891 Q113.631 69.6891 116.686 74.2956 Q119.765 78.8789 119.765 87.6288 Q119.765 96.3556 116.686 100.962 Q113.631 105.545 107.821 105.545 Q102.01 105.545 98.9317 100.962 Q95.8761 96.3556 95.8761 87.6288 Q95.8761 78.8789 98.9317 74.2956 Q102.01 69.6891 107.821 69.6891 Z\" fill=\"#000000\" fill-rule=\"evenodd\" fill-opacity=\"1\" /><polyline clip-path=\"url(#clip992)\" style=\"stroke:#009af9; stroke-linecap:butt; stroke-linejoin:round; stroke-width:12; stroke-opacity:1; fill:none\" points=\"\n",
       "  217.944,1007.07 238.88,1004.1 259.815,1000.68 280.751,996.777 301.687,992.329 322.622,987.28 343.558,981.571 364.494,975.142 385.429,967.927 406.365,959.862 \n",
       "  427.301,950.882 448.236,940.922 469.172,929.918 490.108,917.807 511.044,904.534 531.979,890.044 552.915,874.29 573.851,857.232 594.786,838.84 615.722,819.094 \n",
       "  636.658,797.984 657.593,775.515 678.529,751.706 699.465,726.591 720.4,700.221 741.336,672.665 762.272,644.008 783.207,614.356 804.143,583.832 825.079,552.577 \n",
       "  846.015,520.751 866.95,488.529 887.886,456.102 908.822,423.677 929.757,391.471 950.693,359.71 971.629,328.63 992.564,298.47 1013.5,269.471 1034.44,241.872 \n",
       "  1055.37,215.906 1076.31,191.801 1097.24,169.772 1118.18,150.019 1139.11,132.724 1160.05,118.051 1180.99,106.139 1201.92,97.102 1222.86,91.0281 1243.79,87.9763 \n",
       "  1264.73,87.9763 1285.66,91.0281 1306.6,97.102 1327.54,106.139 1348.47,118.051 1369.41,132.724 1390.34,150.019 1411.28,169.772 1432.21,191.801 1453.15,215.906 \n",
       "  1474.09,241.872 1495.02,269.471 1515.96,298.47 1536.89,328.63 1557.83,359.71 1578.76,391.471 1599.7,423.677 1620.63,456.102 1641.57,488.529 1662.51,520.751 \n",
       "  1683.44,552.577 1704.38,583.832 1725.31,614.356 1746.25,644.008 1767.18,672.665 1788.12,700.221 1809.06,726.591 1829.99,751.706 1850.93,775.515 1871.86,797.984 \n",
       "  1892.8,819.094 1913.73,838.84 1934.67,857.232 1955.61,874.29 1976.54,890.044 1997.48,904.534 2018.41,917.807 2039.35,929.918 2060.28,940.922 2081.22,950.882 \n",
       "  2102.16,959.862 2123.09,967.927 2144.03,975.142 2164.96,981.571 2185.9,987.28 2206.83,992.329 2227.77,996.777 2248.71,1000.68 2269.64,1004.1 2290.58,1007.07 \n",
       "  \n",
       "  \"/>\n",
       "<polyline clip-path=\"url(#clip992)\" style=\"stroke:#e26f46; stroke-linecap:butt; stroke-linejoin:round; stroke-width:12; stroke-opacity:1; fill:none\" points=\"\n",
       "  217.944,1445.72 238.88,1445.72 259.815,1445.72 280.751,1445.72 301.687,1445.72 322.622,1445.72 343.558,1445.72 364.494,1445.72 385.429,1445.72 406.365,1445.72 \n",
       "  427.301,1445.72 448.236,1445.72 469.172,1445.72 490.108,1445.72 511.044,1445.72 531.979,1445.72 552.915,1445.72 573.851,1445.72 594.786,1445.72 615.722,1445.72 \n",
       "  636.658,1445.72 657.593,1445.72 678.529,1445.72 699.465,1445.72 720.4,1445.72 741.336,1445.72 762.272,1445.72 783.207,1445.72 804.143,1445.72 825.079,1445.72 \n",
       "  846.015,1445.72 866.95,1445.72 887.886,1445.72 908.822,1445.72 929.757,1445.72 950.693,1445.72 971.629,1445.72 992.564,1445.72 1013.5,1445.72 1034.44,1445.72 \n",
       "  1055.37,1445.72 1076.31,1445.72 1097.24,1445.72 1118.18,1445.72 1139.11,1445.72 1160.05,1445.72 1180.99,1445.72 1201.92,1445.72 1222.86,1445.72 1243.79,1445.72 \n",
       "  1264.73,1445.72 1285.66,1445.72 1306.6,1445.72 1327.54,1445.72 1348.47,1445.72 1369.41,1445.72 1390.34,1445.72 1411.28,1445.72 1432.21,1445.72 1453.15,1445.72 \n",
       "  1474.09,1445.72 1495.02,1445.72 1515.96,1445.72 1536.89,1445.72 1557.83,1445.72 1578.76,1445.72 1599.7,1445.72 1620.63,1445.72 1641.57,1445.72 1662.51,1445.72 \n",
       "  1683.44,1445.72 1704.38,1445.72 1725.31,1445.72 1746.25,1445.72 1767.18,1445.72 1788.12,1445.72 1809.06,1445.72 1829.99,1445.72 1850.93,1445.72 1871.86,1445.72 \n",
       "  1892.8,1445.72 1913.73,1445.72 1934.67,1445.72 1955.61,1445.72 1976.54,1445.72 1997.48,1445.72 2018.41,1445.72 2039.35,1445.72 2060.28,1445.72 2081.22,1445.72 \n",
       "  2102.16,1445.72 2123.09,1445.72 2144.03,1445.72 2164.96,1445.72 2185.9,1445.72 2206.83,1445.72 2227.77,1445.72 2248.71,1445.72 2269.64,1445.72 2290.58,1445.72 \n",
       "  \n",
       "  \"/>\n",
       "<path clip-path=\"url(#clip990)\" d=\"\n",
       "M1768.35 250.738 L2279.52 250.738 L2279.52 95.2176 L1768.35 95.2176  Z\n",
       "  \" fill=\"#ffffff\" fill-rule=\"evenodd\" fill-opacity=\"1\"/>\n",
       "<polyline clip-path=\"url(#clip990)\" style=\"stroke:#000000; stroke-linecap:butt; stroke-linejoin:round; stroke-width:4; stroke-opacity:1; fill:none\" points=\"\n",
       "  1768.35,250.738 2279.52,250.738 2279.52,95.2176 1768.35,95.2176 1768.35,250.738 \n",
       "  \"/>\n",
       "<polyline clip-path=\"url(#clip990)\" style=\"stroke:#009af9; stroke-linecap:butt; stroke-linejoin:round; stroke-width:4; stroke-opacity:1; fill:none\" points=\"\n",
       "  1792.77,147.058 1939.23,147.058 \n",
       "  \"/>\n",
       "<path clip-path=\"url(#clip990)\" d=\"M1982.55 142.347 L1982.55 128.319 L1986.81 128.319 L1986.81 164.338 L1982.55 164.338 L1982.55 160.449 Q1981.21 162.763 1979.15 163.898 Q1977.11 165.009 1974.24 165.009 Q1969.54 165.009 1966.58 161.259 Q1963.64 157.509 1963.64 151.398 Q1963.64 145.287 1966.58 141.537 Q1969.54 137.787 1974.24 137.787 Q1977.11 137.787 1979.15 138.921 Q1981.21 140.032 1982.55 142.347 M1968.04 151.398 Q1968.04 156.097 1969.96 158.782 Q1971.91 161.444 1975.29 161.444 Q1978.67 161.444 1980.61 158.782 Q1982.55 156.097 1982.55 151.398 Q1982.55 146.699 1980.61 144.037 Q1978.67 141.352 1975.29 141.352 Q1971.91 141.352 1969.96 144.037 Q1968.04 146.699 1968.04 151.398 Z\" fill=\"#000000\" fill-rule=\"evenodd\" fill-opacity=\"1\" /><path clip-path=\"url(#clip990)\" d=\"M2017.76 150.31 L2017.76 152.393 L1998.18 152.393 Q1998.46 156.791 2000.82 159.106 Q2003.2 161.398 2007.44 161.398 Q2009.89 161.398 2012.18 160.796 Q2014.5 160.194 2016.77 158.99 L2016.77 163.018 Q2014.48 163.99 2012.07 164.5 Q2009.66 165.009 2007.18 165.009 Q2000.98 165.009 1997.35 161.398 Q1993.73 157.787 1993.73 151.629 Q1993.73 145.264 1997.16 141.537 Q2000.61 137.787 2006.44 137.787 Q2011.67 137.787 2014.71 141.166 Q2017.76 144.523 2017.76 150.31 M2013.5 149.06 Q2013.46 145.565 2011.54 143.481 Q2009.64 141.398 2006.49 141.398 Q2002.92 141.398 2000.77 143.412 Q1998.64 145.426 1998.32 149.083 L2013.5 149.06 Z\" fill=\"#000000\" fill-rule=\"evenodd\" fill-opacity=\"1\" /><path clip-path=\"url(#clip990)\" d=\"M2046.3 148.689 L2046.3 164.338 L2042.04 164.338 L2042.04 148.828 Q2042.04 145.148 2040.61 143.319 Q2039.17 141.49 2036.3 141.49 Q2032.85 141.49 2030.86 143.69 Q2028.87 145.889 2028.87 149.685 L2028.87 164.338 L2024.59 164.338 L2024.59 138.412 L2028.87 138.412 L2028.87 142.44 Q2030.4 140.102 2032.46 138.944 Q2034.54 137.787 2037.25 137.787 Q2041.72 137.787 2044.01 140.565 Q2046.3 143.319 2046.3 148.689 Z\" fill=\"#000000\" fill-rule=\"evenodd\" fill-opacity=\"1\" /><path clip-path=\"url(#clip990)\" d=\"M2071.33 139.176 L2071.33 143.203 Q2069.52 142.277 2067.58 141.815 Q2065.63 141.352 2063.55 141.352 Q2060.38 141.352 2058.78 142.324 Q2057.21 143.296 2057.21 145.24 Q2057.21 146.722 2058.34 147.578 Q2059.47 148.412 2062.9 149.176 L2064.36 149.5 Q2068.9 150.472 2070.79 152.254 Q2072.72 154.014 2072.72 157.185 Q2072.72 160.796 2069.85 162.902 Q2067 165.009 2062 165.009 Q2059.91 165.009 2057.65 164.592 Q2055.4 164.199 2052.9 163.388 L2052.9 158.99 Q2055.26 160.217 2057.55 160.842 Q2059.85 161.444 2062.09 161.444 Q2065.1 161.444 2066.72 160.426 Q2068.34 159.384 2068.34 157.509 Q2068.34 155.773 2067.16 154.847 Q2066 153.921 2062.04 153.064 L2060.56 152.717 Q2056.6 151.884 2054.85 150.171 Q2053.09 148.435 2053.09 145.426 Q2053.09 141.768 2055.68 139.778 Q2058.27 137.787 2063.04 137.787 Q2065.4 137.787 2067.48 138.134 Q2069.57 138.481 2071.33 139.176 Z\" fill=\"#000000\" fill-rule=\"evenodd\" fill-opacity=\"1\" /><path clip-path=\"url(#clip990)\" d=\"M2079.5 138.412 L2083.76 138.412 L2083.76 164.338 L2079.5 164.338 L2079.5 138.412 M2079.5 128.319 L2083.76 128.319 L2083.76 133.713 L2079.5 133.713 L2079.5 128.319 Z\" fill=\"#000000\" fill-rule=\"evenodd\" fill-opacity=\"1\" /><path clip-path=\"url(#clip990)\" d=\"M2096.88 131.051 L2096.88 138.412 L2105.66 138.412 L2105.66 141.722 L2096.88 141.722 L2096.88 155.796 Q2096.88 158.967 2097.74 159.87 Q2098.62 160.773 2101.28 160.773 L2105.66 160.773 L2105.66 164.338 L2101.28 164.338 Q2096.35 164.338 2094.47 162.509 Q2092.6 160.657 2092.6 155.796 L2092.6 141.722 L2089.47 141.722 L2089.47 138.412 L2092.6 138.412 L2092.6 131.051 L2096.88 131.051 Z\" fill=\"#000000\" fill-rule=\"evenodd\" fill-opacity=\"1\" /><path clip-path=\"url(#clip990)\" d=\"M2122.04 166.745 Q2120.24 171.375 2118.53 172.787 Q2116.81 174.199 2113.94 174.199 L2110.54 174.199 L2110.54 170.634 L2113.04 170.634 Q2114.8 170.634 2115.77 169.8 Q2116.74 168.967 2117.92 165.865 L2118.69 163.921 L2108.2 138.412 L2112.72 138.412 L2120.82 158.689 L2128.92 138.412 L2133.43 138.412 L2122.04 166.745 Z\" fill=\"#000000\" fill-rule=\"evenodd\" fill-opacity=\"1\" /><polyline clip-path=\"url(#clip990)\" style=\"stroke:#e26f46; stroke-linecap:butt; stroke-linejoin:round; stroke-width:4; stroke-opacity:1; fill:none\" points=\"\n",
       "  1792.77,198.898 1939.23,198.898 \n",
       "  \"/>\n",
       "<path clip-path=\"url(#clip990)\" d=\"M1983.99 195.229 Q1985.59 192.358 1987.81 190.993 Q1990.03 189.627 1993.04 189.627 Q1997.09 189.627 1999.29 192.474 Q2001.49 195.298 2001.49 200.529 L2001.49 216.178 L1997.21 216.178 L1997.21 200.668 Q1997.21 196.942 1995.89 195.136 Q1994.57 193.33 1991.86 193.33 Q1988.55 193.33 1986.63 195.53 Q1984.71 197.729 1984.71 201.525 L1984.71 216.178 L1980.42 216.178 L1980.42 200.668 Q1980.42 196.918 1979.1 195.136 Q1977.79 193.33 1975.03 193.33 Q1971.77 193.33 1969.85 195.553 Q1967.92 197.752 1967.92 201.525 L1967.92 216.178 L1963.64 216.178 L1963.64 190.252 L1967.92 190.252 L1967.92 194.28 Q1969.38 191.895 1971.42 190.761 Q1973.46 189.627 1976.26 189.627 Q1979.08 189.627 1981.05 191.062 Q1983.04 192.497 1983.99 195.229 Z\" fill=\"#000000\" fill-rule=\"evenodd\" fill-opacity=\"1\" /><path clip-path=\"url(#clip990)\" d=\"M2020.03 193.238 Q2016.6 193.238 2014.61 195.923 Q2012.62 198.585 2012.62 203.238 Q2012.62 207.891 2014.59 210.576 Q2016.58 213.238 2020.03 213.238 Q2023.43 213.238 2025.42 210.553 Q2027.41 207.867 2027.41 203.238 Q2027.41 198.631 2025.42 195.946 Q2023.43 193.238 2020.03 193.238 M2020.03 189.627 Q2025.59 189.627 2028.76 193.238 Q2031.93 196.849 2031.93 203.238 Q2031.93 209.604 2028.76 213.238 Q2025.59 216.849 2020.03 216.849 Q2014.45 216.849 2011.28 213.238 Q2008.13 209.604 2008.13 203.238 Q2008.13 196.849 2011.28 193.238 Q2014.45 189.627 2020.03 189.627 Z\" fill=\"#000000\" fill-rule=\"evenodd\" fill-opacity=\"1\" /><path clip-path=\"url(#clip990)\" d=\"M2059.17 195.229 Q2060.77 192.358 2062.99 190.993 Q2065.22 189.627 2068.22 189.627 Q2072.28 189.627 2074.47 192.474 Q2076.67 195.298 2076.67 200.529 L2076.67 216.178 L2072.39 216.178 L2072.39 200.668 Q2072.39 196.942 2071.07 195.136 Q2069.75 193.33 2067.04 193.33 Q2063.73 193.33 2061.81 195.53 Q2059.89 197.729 2059.89 201.525 L2059.89 216.178 L2055.61 216.178 L2055.61 200.668 Q2055.61 196.918 2054.29 195.136 Q2052.97 193.33 2050.22 193.33 Q2046.95 193.33 2045.03 195.553 Q2043.11 197.752 2043.11 201.525 L2043.11 216.178 L2038.83 216.178 L2038.83 190.252 L2043.11 190.252 L2043.11 194.28 Q2044.57 191.895 2046.6 190.761 Q2048.64 189.627 2051.44 189.627 Q2054.27 189.627 2056.23 191.062 Q2058.22 192.497 2059.17 195.229 Z\" fill=\"#000000\" fill-rule=\"evenodd\" fill-opacity=\"1\" /><path clip-path=\"url(#clip990)\" d=\"M2107.35 202.15 L2107.35 204.233 L2087.76 204.233 Q2088.04 208.631 2090.4 210.946 Q2092.78 213.238 2097.02 213.238 Q2099.47 213.238 2101.77 212.636 Q2104.08 212.034 2106.35 210.83 L2106.35 214.858 Q2104.06 215.83 2101.65 216.34 Q2099.24 216.849 2096.77 216.849 Q2090.56 216.849 2086.93 213.238 Q2083.32 209.627 2083.32 203.469 Q2083.32 197.104 2086.74 193.377 Q2090.19 189.627 2096.03 189.627 Q2101.26 189.627 2104.29 193.006 Q2107.35 196.363 2107.35 202.15 M2103.09 200.9 Q2103.04 197.405 2101.12 195.321 Q2099.22 193.238 2096.07 193.238 Q2092.51 193.238 2090.35 195.252 Q2088.22 197.266 2087.9 200.923 L2103.09 200.9 Z\" fill=\"#000000\" fill-rule=\"evenodd\" fill-opacity=\"1\" /><path clip-path=\"url(#clip990)\" d=\"M2135.89 200.529 L2135.89 216.178 L2131.63 216.178 L2131.63 200.668 Q2131.63 196.988 2130.19 195.159 Q2128.76 193.33 2125.89 193.33 Q2122.44 193.33 2120.45 195.53 Q2118.46 197.729 2118.46 201.525 L2118.46 216.178 L2114.17 216.178 L2114.17 190.252 L2118.46 190.252 L2118.46 194.28 Q2119.98 191.942 2122.04 190.784 Q2124.13 189.627 2126.84 189.627 Q2131.3 189.627 2133.59 192.405 Q2135.89 195.159 2135.89 200.529 Z\" fill=\"#000000\" fill-rule=\"evenodd\" fill-opacity=\"1\" /><path clip-path=\"url(#clip990)\" d=\"M2148.59 182.891 L2148.59 190.252 L2157.37 190.252 L2157.37 193.562 L2148.59 193.562 L2148.59 207.636 Q2148.59 210.807 2149.45 211.71 Q2150.33 212.613 2152.99 212.613 L2157.37 212.613 L2157.37 216.178 L2152.99 216.178 Q2148.06 216.178 2146.19 214.349 Q2144.31 212.497 2144.31 207.636 L2144.31 193.562 L2141.19 193.562 L2141.19 190.252 L2144.31 190.252 L2144.31 182.891 L2148.59 182.891 Z\" fill=\"#000000\" fill-rule=\"evenodd\" fill-opacity=\"1\" /><path clip-path=\"url(#clip990)\" d=\"M2162.53 205.946 L2162.53 190.252 L2166.79 190.252 L2166.79 205.784 Q2166.79 209.465 2168.22 211.316 Q2169.66 213.145 2172.53 213.145 Q2175.98 213.145 2177.97 210.946 Q2179.98 208.747 2179.98 204.951 L2179.98 190.252 L2184.24 190.252 L2184.24 216.178 L2179.98 216.178 L2179.98 212.196 Q2178.43 214.557 2176.37 215.715 Q2174.34 216.849 2171.63 216.849 Q2167.16 216.849 2164.84 214.071 Q2162.53 211.293 2162.53 205.946 M2173.25 189.627 L2173.25 189.627 Z\" fill=\"#000000\" fill-rule=\"evenodd\" fill-opacity=\"1\" /><path clip-path=\"url(#clip990)\" d=\"M2213.2 195.229 Q2214.8 192.358 2217.02 190.993 Q2219.24 189.627 2222.25 189.627 Q2226.3 189.627 2228.5 192.474 Q2230.7 195.298 2230.7 200.529 L2230.7 216.178 L2226.42 216.178 L2226.42 200.668 Q2226.42 196.942 2225.1 195.136 Q2223.78 193.33 2221.07 193.33 Q2217.76 193.33 2215.84 195.53 Q2213.92 197.729 2213.92 201.525 L2213.92 216.178 L2209.64 216.178 L2209.64 200.668 Q2209.64 196.918 2208.32 195.136 Q2207 193.33 2204.24 193.33 Q2200.98 193.33 2199.06 195.553 Q2197.14 197.752 2197.14 201.525 L2197.14 216.178 L2192.85 216.178 L2192.85 190.252 L2197.14 190.252 L2197.14 194.28 Q2198.59 191.895 2200.63 190.761 Q2202.67 189.627 2205.47 189.627 Q2208.29 189.627 2210.26 191.062 Q2212.25 192.497 2213.2 195.229 Z\" fill=\"#000000\" fill-rule=\"evenodd\" fill-opacity=\"1\" /></svg>\n"
      ]
     },
     "execution_count": 114,
     "metadata": {},
     "output_type": "execute_result"
    }
   ],
   "source": [
    "function initial_isogas(x)\n",
    "    [1 .+ 2 * exp.(-4x .^ 2) 0*x .+ .1]\n",
    "end\n",
    "\n",
    "x = LinRange(-1, 1, 100)\n",
    "U = initial_isogas(x)\n",
    "plot(x, U, label=[\"density\" \"momentum\"])"
   ]
  },
  {
   "cell_type": "markdown",
   "id": "6289ce23",
   "metadata": {
    "slideshow": {
     "slide_type": "slide"
    }
   },
   "source": [
    "# Solver"
   ]
  },
  {
   "cell_type": "code",
   "execution_count": 116,
   "id": "cd777176",
   "metadata": {
    "cell_style": "split",
    "slideshow": {
     "slide_type": ""
    }
   },
   "outputs": [
    {
     "data": {
      "text/plain": [
       "fv_solve2system (generic function with 3 methods)"
      ]
     },
     "execution_count": 116,
     "metadata": {},
     "output_type": "execute_result"
    }
   ],
   "source": [
    "function fv_solve2system(riemann, initfunc, n, tfinal=1, limit=limit_sin)\n",
    "    h = 2 / n\n",
    "    x = LinRange(-1+h/2, 1-h/2, n) # cell midpoints (centroids)\n",
    "    idxL = 1 .+ (n-1:2*n-2) .% n\n",
    "    idxR = 1 .+ (n+1:2*n) .% n\n",
    "    U0 = initfunc(x)\n",
    "    @show U0\n",
    "    n, k = size(U0)\n",
    "    function rhs(t, U)\n",
    "        U = reshape(U, n, k)\n",
    "        jump = U[idxR, :] - U[idxL, :]\n",
    "        r = (U - U[idxL, :]) ./ jump\n",
    "        r[isnan.(r)] .= 0\n",
    "        g = limit.(r) .* jump / 2h\n",
    "        flux = zero.(U)\n",
    "        for i in 1:n\n",
    "            UL = U[idxL[i],:] + g[idxL[i],:] * h/2\n",
    "            UR = U[i,:] - g[i,:] * h/2\n",
    "            flux[i, :] = riemann(UL, UR)\n",
    "        end\n",
    "        #@show flux\n",
    "        vec(flux - flux[idxR, :]) / h\n",
    "    end\n",
    "    thist, uhist = ode_rk_explicit(\n",
    "        rhs, vec(U0), h=h, tfinal=tfinal)\n",
    "    x, thist, reshape(uhist, n, k, length(thist))\n",
    "end"
   ]
  },
  {
   "cell_type": "code",
   "execution_count": 117,
   "id": "e6791ef9",
   "metadata": {
    "cell_style": "split",
    "slideshow": {
     "slide_type": ""
    }
   },
   "outputs": [
    {
     "name": "stdout",
     "output_type": "stream",
     "text": [
      "U0 = [1.039666319787097 0.1; 1.046400139214587 0.10000000000000002; 1.0541036937327009 0.1; 1.0628846728757826 0.10000000000000002; 1.0728572800384581 0.1; 1.0841417149067647 0.1; 1.0968634698359883 0.1; 1.111152425222966 0.1; 1.127141731408609 0.1; 1.1449664678604732 0.1; 1.1647620743372074 0.1; 1.1866625534151052 0.1; 1.2107984491237287 0.1; 1.2372946124257762 0.1; 1.2662677707885637 0.1; 1.2978239260022957 0.1; 1.3320556115447735 0.1; 1.3690390479859786 0.1; 1.4088312419565283 0.1; 1.4514670808384338 0.1; 1.4969564813278082 0.10000000000000002; 1.545281655113354 0.1; 1.5963945588597745 0.1; 1.6502145982411915 0.1; 1.7066266567172028 0.1; 1.7654795188961385 0.1; 1.8265847555406884 0.1; 1.8897161324458822 0.1; 1.9546095985228917 0.1; 2.0209638994845784 0.1; 2.0884418526504147 0.1; 2.156672305741888 0.1; 2.2252527883688327 0.1; 2.2937528495242594 0.1; 2.3617180581838495 0.1; 2.4286746274719153 0.1; 2.4941346062743914 0.1; 2.55760156614281 0.1; 2.618576696342664 0.1; 2.676565206448467 0.1; 2.7310829244435317 0.1; 2.7816629692686177 0.1; 2.8278623705424564 0.1; 2.8692685050348974 0.1; 2.9055052196064217 0.1; 2.9362385138331257 0.1; 2.9611816624048566 0.1; 2.9800996674983358 0.1; 2.9928129444619866 0.1; 2.9992001599786686 0.1; 2.9992001599786686 0.1; 2.9928129444619866 0.1; 2.9800996674983358 0.1; 2.9611816624048566 0.1; 2.9362385138331257 0.1; 2.9055052196064217 0.1; 2.8692685050348974 0.1; 2.827862370542456 0.1; 2.7816629692686177 0.1; 2.731082924443532 0.1; 2.676565206448467 0.1; 2.6185766963426644 0.1; 2.5576015661428095 0.1; 2.4941346062743914 0.1; 2.4286746274719144 0.1; 2.3617180581838495 0.1; 2.2937528495242603 0.1; 2.225252788368832 0.1; 2.156672305741888 0.1; 2.0884418526504143 0.1; 2.0209638994845784 0.1; 1.9546095985228917 0.1; 1.8897161324458822 0.1; 1.8265847555406884 0.1; 1.765479518896138 0.1; 1.7066266567172028 0.1; 1.6502145982411922 0.1; 1.5963945588597745 0.1; 1.5452816551133544 0.1; 1.4969564813278082 0.1; 1.451467080838434 0.1; 1.4088312419565279 0.1; 1.3690390479859786 0.1; 1.3320556115447735 0.1; 1.2978239260022957 0.1; 1.2662677707885637 0.1; 1.2372946124257762 0.1; 1.2107984491237287 0.1; 1.1866625534151054 0.1; 1.1647620743372074 0.1; 1.1449664678604732 0.1; 1.127141731408609 0.1; 1.1111524252229663 0.1; 1.0968634698359883 0.1; 1.0841417149067647 0.1; 1.0728572800384581 0.1; 1.0628846728757826 0.1; 1.0541036937327009 0.1; 1.046400139214587 0.1; 1.039666319787097 0.1]\n"
     ]
    },
    {
     "ename": "LoadError",
     "evalue": "DomainError with Inf:\n`x` cannot be infinite.",
     "output_type": "error",
     "traceback": [
      "DomainError with Inf:\n`x` cannot be infinite.",
      "",
      "Stacktrace:",
      "  [1] sinpi(x::Float64)",
      "    @ Base.Math ./special/trig.jl:753",
      "  [2] limit_sin",
      "    @ ./In[23]:108 [inlined]",
      "  [3] _broadcast_getindex_evalf",
      "    @ ./broadcast.jl:670 [inlined]",
      "  [4] _broadcast_getindex",
      "    @ ./broadcast.jl:643 [inlined]",
      "  [5] _getindex",
      "    @ ./broadcast.jl:666 [inlined]",
      "  [6] _broadcast_getindex",
      "    @ ./broadcast.jl:642 [inlined]",
      "  [7] getindex",
      "    @ ./broadcast.jl:597 [inlined]",
      "  [8] macro expansion",
      "    @ ./broadcast.jl:961 [inlined]",
      "  [9] macro expansion",
      "    @ ./simdloop.jl:77 [inlined]",
      " [10] copyto!",
      "    @ ./broadcast.jl:960 [inlined]",
      " [11] copyto!",
      "    @ ./broadcast.jl:913 [inlined]",
      " [12] copy",
      "    @ ./broadcast.jl:885 [inlined]",
      " [13] materialize",
      "    @ ./broadcast.jl:860 [inlined]",
      " [14] (::var\"#rhs#24\"{typeof(riemann_isogas), Int64, typeof(limit_sin), Int64, Vector{Int64}, Vector{Int64}, Float64})(t::Float64, U::Vector{Float64})",
      "    @ Main ./In[116]:14",
      " [15] ode_rk_explicit(f::var\"#rhs#24\"{typeof(riemann_isogas), Int64, typeof(limit_sin), Int64, Vector{Int64}, Vector{Int64}, Float64}, u0::Vector{Float64}; tfinal::Float64, h::Float64, table::RKTable)",
      "    @ Main ./In[23]:32",
      " [16] fv_solve2system(riemann::typeof(riemann_isogas), initfunc::typeof(initial_isogas), n::Int64, tfinal::Float64, limit::Function)",
      "    @ Main ./In[116]:24",
      " [17] fv_solve2system(riemann::Function, initfunc::Function, n::Int64, tfinal::Float64)",
      "    @ Main ./In[116]:2",
      " [18] top-level scope",
      "    @ In[117]:1",
      " [19] eval",
      "    @ ./boot.jl:368 [inlined]",
      " [20] include_string(mapexpr::typeof(REPL.softscope), mod::Module, code::String, filename::String)",
      "    @ Base ./loading.jl:1428"
     ]
    }
   ],
   "source": [
    "x, t_hist, U_hist = fv_solve2system(riemann_isogas,\n",
    "initial_isogas, 100, 0.1)\n",
    "plot(x, U_hist[:, 1, :])"
   ]
  },
  {
   "cell_type": "markdown",
   "id": "522627ec",
   "metadata": {
    "slideshow": {
     "slide_type": "slide"
    }
   },
   "source": [
    "# Approximate Riemann solvers"
   ]
  },
  {
   "cell_type": "markdown",
   "id": "dd50fb6f",
   "metadata": {
    "cell_style": "split"
   },
   "source": [
    "Exact Riemann solvers are\n",
    "* complicated to implement\n",
    "* fragile in the sense that small changes to the physics, such as in the equation of state $p(\\rho)$, can require changing many conditionals\n",
    "* the need to solve for $\\rho^*$ using a Newton method and then evaluate each case of the wave structure can be expensive.\n",
    "* An exact Riemann solver has never been implemented for some equations.\n",
    "\n",
    "## HLL (Harten, Lax, and van Leer)\n",
    "\n",
    "Assume two shocks with speeds $s_L$ and $s_R$.  These speeds will be estimated and must be at least as fast as the fastest left- and right-traveling waves.  If the wave speeds $s_L$ and $s_R$ are given, we have the Rankine-Hugoniot conditions across both shocks,"
   ]
  },
  {
   "cell_type": "markdown",
   "id": "6e98da72",
   "metadata": {
    "cell_style": "split",
    "slideshow": {
     "slide_type": ""
    }
   },
   "source": [
    "\\begin{align}\n",
    "  s_L (U_* - U_L) &= f(U_*) - f(U_L) \\\\\n",
    "  s_R (U_R - U_*) &= f(U_R) - f(U_*) .\n",
    "\\end{align}\n",
    "\n",
    "Adding these together gives\n",
    "$$s_R U_R - (s_R - s_L) U_* - s_L U_L = f(U_R) - f(U_L)$$\n",
    "which can be solved for $U_*$ as\n",
    "$$ U_* = \\frac{f(U_L) - f(U_R) - s_L U_L + s_R U_R}{s_R - s_L} . $$\n",
    "We can save an extra evaluation of the flux by using the Rankine-Hugoniot conditions\n",
    "$$ f(U_*) = \\frac{s_R f(U_L) - s_L f(U_R) + s_L s_R (U_R - U_L)}{s_R - s_L} . $$\n",
    "### Isothermal gas dynamics\n",
    "\\begin{align} s_L &= \\min( u_L - c, u_R - c ) \\\\\n",
    "s_R &= \\max(u_L + c, u_R + c)\n",
    "\\end{align}"
   ]
  },
  {
   "cell_type": "markdown",
   "id": "8a906089",
   "metadata": {
    "cell_style": "center",
    "slideshow": {
     "slide_type": "skip"
    }
   },
   "source": [
    "### Rusanov method\n",
    "Special case $s_L = - s_R$, in which case the wave structure is always subsonic and the flux is simply\n",
    "$$f(U_*) = \\frac 1 2 \\Big( f(U_L) + f(U_R) \\Big) - \\frac s 2 \\Big( U_R - U_L \\Big) . $$"
   ]
  },
  {
   "cell_type": "markdown",
   "id": "498a9410",
   "metadata": {
    "slideshow": {
     "slide_type": "slide"
    }
   },
   "source": [
    "# Observations on HLL solvers\n",
    "\n",
    "$$ f(U_*) = \\frac{s_R f(U_L) - s_L f(U_R) + s_L s_R (U_R - U_L)}{s_R - s_L} . $$\n",
    "\n",
    "* The term involving $U_R-U_L$ represents diffusion and will cause entropy to decay (physical entropy is produced).\n",
    "* If our Riemann problem produces shocks and we have correctly calculated the wave speeds, the HLL solver is exact and produces the minimum diffusion necessary for conservation.\n",
    "* If the wave speed estimates are slower than reality, the method will be unstable due to CFL.\n",
    "* If the wave speed estimates are faster than reality, the method will be more diffusive than an exact Riemann solver."
   ]
  },
  {
   "cell_type": "markdown",
   "id": "6509efbc",
   "metadata": {
    "slideshow": {
     "slide_type": ""
    }
   },
   "source": [
    "# Switch to Python Notebook"
   ]
  },
  {
   "cell_type": "markdown",
   "id": "94e91544",
   "metadata": {
    "slideshow": {
     "slide_type": "slide"
    }
   },
   "source": [
    "# Schedule a time to meet with me (no later than Friday, Dec 9)\n",
    "\n",
    "* How did your goals evolve and how did you make progress toward those goals?\n",
    "* Can you discuss one or more things you’re proud of this semester?\n",
    "  * This is often your project.\n",
    "  * Can you explain a design decision, and a related method?\n",
    "  * What are the key efficiency-accuracy tradeoffs?\n",
    "  * What does verification and validation look like?\n",
    "* What are your career goals and how do you envision this class might serve you?\n",
    "* How could the course be made to better serve people like you?\n",
    "* What advice would you give your former self?\n",
    "* What grade would you say reflects your growth and quality of work this semester?"
   ]
  }
 ],
 "metadata": {
  "@webio": {
   "lastCommId": null,
   "lastKernelId": null
  },
  "celltoolbar": "Slideshow",
  "kernelspec": {
   "display_name": "Julia 1.7.2",
   "language": "julia",
   "name": "julia-1.7"
  },
  "language_info": {
   "file_extension": ".jl",
   "mimetype": "application/julia",
   "name": "julia",
   "version": "1.8.3"
  },
  "rise": {
   "enable_chalkboard": true
  }
 },
 "nbformat": 4,
 "nbformat_minor": 5
}
