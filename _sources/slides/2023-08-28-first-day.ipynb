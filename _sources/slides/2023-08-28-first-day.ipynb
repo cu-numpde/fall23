{
 "cells": [
  {
   "cell_type": "markdown",
   "id": "4159be0e",
   "metadata": {
    "slideshow": {
     "slide_type": "slide"
    }
   },
   "source": [
    "# 2023-08-28 First Day\n",
    "## CSCI-5636: Numerical solution of partial differential equations (PDE)\n",
    "\n",
    "## Instructor: Jed Brown, jed.brown@colorado.edu, ECOT 824\n",
    "## Meeting: Mon, Wed, Fri at 1:25-2:15p in ECCS 1B14 (and virtually)"
   ]
  },
  {
   "cell_type": "markdown",
   "id": "f9a6ef4f",
   "metadata": {
    "slideshow": {
     "slide_type": "slide"
    }
   },
   "source": [
    "# What are PDE?"
   ]
  },
  {
   "cell_type": "markdown",
   "id": "2ed9e205",
   "metadata": {
    "cell_style": "split"
   },
   "source": [
    "## partial derivatives\n",
    "\n",
    "* Gradient $\\mathbf g(\\mathbf x) = \\nabla u(\\mathbf x)$\n",
    "  * scalar field to vector field\n",
    "* Curl $\\mathbf c(\\mathbf x) = \\nabla\\times \\mathbf g(\\mathbf x)$\n",
    " * vector field to vector field\n",
    "* Divergence $d(\\mathbf x) = \\nabla\\cdot \\mathbf c(\\mathbf x)$\n",
    "  * vector field to scalar field\n",
    "* time derivatives: $\\frac{\\partial u(t, \\mathbf x)}{\\partial t}$"
   ]
  },
  {
   "cell_type": "markdown",
   "id": "80cd870f",
   "metadata": {
    "cell_style": "split"
   },
   "source": [
    "## what do they describe?\n",
    "\n",
    "* heat transfer\n",
    "* electrostatics, electromagnetics\n",
    "* solid mechanics\n",
    "* fluid mechanics\n",
    "* quantum mechanics\n",
    "* population dynamics"
   ]
  },
  {
   "cell_type": "markdown",
   "id": "b821aa3b",
   "metadata": {
    "slideshow": {
     "slide_type": "fragment"
    }
   },
   "source": [
    "Find $u$ such that\n",
    "\\begin{align}\n",
    "-\\nabla\\cdot\\big(\\kappa(\\mathbf x) \\nabla u(\\mathbf x)\\big) &= f(\\mathbf x) & \\mathbf x &\\in \\Omega \\\\\n",
    "u(\\mathbf x) &= g(\\mathbf x) & \\mathbf x &\\in \\Gamma_D \\subset \\partial\\Omega \\\\\n",
    "\\kappa(\\mathbf x) \\nabla u(\\mathbf x) \\cdot \\mathbf{\\hat n}(\\mathbf x) &= h(\\mathbf x) & \\mathbf x &\\in \\Gamma_N \\subset\\partial\\Omega\n",
    "\\end{align}"
   ]
  },
  {
   "cell_type": "markdown",
   "id": "56e3e731",
   "metadata": {
    "slideshow": {
     "slide_type": "slide"
    }
   },
   "source": [
    "# Structural mechanics"
   ]
  },
  {
   "cell_type": "markdown",
   "id": "a16730a7",
   "metadata": {
    "cell_style": "split"
   },
   "source": [
    "<video src=\"img/schwarz-pendulum.webm\" autoplay loop />"
   ]
  },
  {
   "cell_type": "markdown",
   "id": "0cd59d35",
   "metadata": {
    "cell_style": "split"
   },
   "source": [
    "<video src=\"img/schwarz-q2-5x5x5-t20-l2-r2.webm\" autoplay loop />"
   ]
  },
  {
   "cell_type": "markdown",
   "id": "d7681fb5",
   "metadata": {
    "hideOutput": true,
    "slideshow": {
     "slide_type": "slide"
    }
   },
   "source": [
    "# What does it mean to discretize a PDE?\n",
    "\n",
    "Find $u$ such that\n",
    "\\begin{align}\n",
    "-\\nabla\\cdot\\big(\\kappa(\\mathbf x) \\nabla u(\\mathbf x)\\big) &= f(\\mathbf x) & \\mathbf x &\\in \\Omega \\\\\n",
    "u(\\mathbf x) &= g(\\mathbf x) & \\mathbf x &\\in \\Gamma_D \\subset \\partial\\Omega \\\\\n",
    "\\nabla u(\\mathbf x) \\cdot \\mathbf{\\hat n}(\\mathbf x) &= h(\\mathbf x) & \\mathbf x &\\in \\Gamma_N \\subset\\partial\\Omega\n",
    "\\end{align}"
   ]
  },
  {
   "cell_type": "markdown",
   "id": "11676997",
   "metadata": {
    "cell_style": "center",
    "slideshow": {
     "slide_type": "fragment"
    }
   },
   "source": [
    "## How is it satisfied?\n",
    "* At grid points with rules to approximate derivatives\n",
    "  * Finite Difference / collocation\n",
    "* A weak (integral) over elements with rules to reconstruct from element averages and define fluxes\n",
    "  * Finite Volume\n",
    "* A weak form over elements with solution and \"test functions\" in the same space\n",
    "  * Finite Element / Galerkin"
   ]
  },
  {
   "cell_type": "markdown",
   "id": "3d1ef4b2",
   "metadata": {
    "cell_style": "center",
    "slideshow": {
     "slide_type": "slide"
    }
   },
   "source": [
    "## How expensive is it?\n",
    "\n",
    "* Suppose our domain is $\\Omega = (0, 1)^3$"
   ]
  },
  {
   "cell_type": "code",
   "execution_count": 19,
   "id": "5f8264aa",
   "metadata": {
    "cell_style": "split"
   },
   "outputs": [
    {
     "data": {
      "text/plain": [
       "cost2 (generic function with 1 method)"
      ]
     },
     "execution_count": 19,
     "metadata": {},
     "output_type": "execute_result"
    }
   ],
   "source": [
    "using Plots\n",
    "\n",
    "# a common \"good\" discretiation\n",
    "error(h) = min(1, 10*h^4)\n",
    "\n",
    "function cost(h)\n",
    "    n = 1/h # number of points per dimension\n",
    "    N = n^3 # total number of grid points in 3D\n",
    "    N\n",
    "end\n",
    "\n",
    "function cost2(h)\n",
    "    N = cost(h)\n",
    "    N^2\n",
    "end"
   ]
  },
  {
   "cell_type": "code",
   "execution_count": 20,
   "id": "ba54e8f7",
   "metadata": {
    "cell_style": "split"
   },
   "outputs": [
    {
     "data": {
      "image/png": "[encoded data removed]",
      "image/svg+xml": [
       "<?xml version=\"1.0\" encoding=\"utf-8\"?>\n",
       "<svg xmlns=\"http://www.w3.org/2000/svg\" xmlns:xlink=\"http://www.w3.org/1999/xlink\" width=\"600\" height=\"400\" viewBox=\"0 0 2400 1600\">\n",
       "<defs>\n",
       "  <clipPath id=\"clip970\">\n",
       "    <rect x=\"0\" y=\"0\" width=\"2400\" height=\"1600\"/>\n",
       "  </clipPath>\n",
       "</defs>\n",
       "<path clip-path=\"url(#clip970)\" d=\"M0 1600 L2400 1600 L2400 0 L0 0  Z\" fill=\"#ffffff\" fill-rule=\"evenodd\" fill-opacity=\"1\"/>\n",
       "<defs>\n",
       "  <clipPath id=\"clip971\">\n",
       "    <rect x=\"480\" y=\"0\" width=\"1681\" height=\"1600\"/>\n",
       "  </clipPath>\n",
       "</defs>\n",
       "<path clip-path=\"url(#clip970)\" d=\"M252.764 1410.9 L2352.76 1410.9 L2352.76 47.2441 L252.764 47.2441  Z\" fill=\"#ffffff\" fill-rule=\"evenodd\" fill-opacity=\"1\"/>\n",
       "<defs>\n",
       "  <clipPath id=\"clip972\">\n",
       "    <rect x=\"252\" y=\"47\" width=\"2101\" height=\"1365\"/>\n",
       "  </clipPath>\n",
       "</defs>\n",
       "<polyline clip-path=\"url(#clip972)\" style=\"stroke:#000000; stroke-linecap:round; stroke-linejoin:round; stroke-width:2; stroke-opacity:0.1; fill:none\" points=\"312.198,1410.9 312.198,47.2441 \"/>\n",
       "<polyline clip-path=\"url(#clip972)\" style=\"stroke:#000000; stroke-linecap:round; stroke-linejoin:round; stroke-width:2; stroke-opacity:0.1; fill:none\" points=\"1137.67,1410.9 1137.67,47.2441 \"/>\n",
       "<polyline clip-path=\"url(#clip972)\" style=\"stroke:#000000; stroke-linecap:round; stroke-linejoin:round; stroke-width:2; stroke-opacity:0.1; fill:none\" points=\"1963.13,1410.9 1963.13,47.2441 \"/>\n",
       "<polyline clip-path=\"url(#clip970)\" style=\"stroke:#000000; stroke-linecap:round; stroke-linejoin:round; stroke-width:4; stroke-opacity:1; fill:none\" points=\"252.764,1410.9 2352.76,1410.9 \"/>\n",
       "<polyline clip-path=\"url(#clip970)\" style=\"stroke:#000000; stroke-linecap:round; stroke-linejoin:round; stroke-width:4; stroke-opacity:1; fill:none\" points=\"312.198,1410.9 312.198,1392 \"/>\n",
       "<polyline clip-path=\"url(#clip970)\" style=\"stroke:#000000; stroke-linecap:round; stroke-linejoin:round; stroke-width:4; stroke-opacity:1; fill:none\" points=\"1137.67,1410.9 1137.67,1392 \"/>\n",
       "<polyline clip-path=\"url(#clip970)\" style=\"stroke:#000000; stroke-linecap:round; stroke-linejoin:round; stroke-width:4; stroke-opacity:1; fill:none\" points=\"1963.13,1410.9 1963.13,1392 \"/>\n",
       "<path clip-path=\"url(#clip970)\" d=\"M277.181 1485.02 L284.819 1485.02 L284.819 1458.66 L276.509 1460.32 L276.509 1456.06 L284.773 1454.4 L289.449 1454.4 L289.449 1485.02 L297.088 1485.02 L297.088 1488.96 L277.181 1488.96 L277.181 1485.02 Z\" fill=\"#000000\" fill-rule=\"nonzero\" fill-opacity=\"1\" /><path clip-path=\"url(#clip970)\" d=\"M316.532 1457.48 Q312.921 1457.48 311.092 1461.04 Q309.287 1464.58 309.287 1471.71 Q309.287 1478.82 311.092 1482.38 Q312.921 1485.92 316.532 1485.92 Q320.166 1485.92 321.972 1482.38 Q323.801 1478.82 323.801 1471.71 Q323.801 1464.58 321.972 1461.04 Q320.166 1457.48 316.532 1457.48 M316.532 1453.77 Q322.342 1453.77 325.398 1458.38 Q328.477 1462.96 328.477 1471.71 Q328.477 1480.44 325.398 1485.04 Q322.342 1489.63 316.532 1489.63 Q310.722 1489.63 307.643 1485.04 Q304.588 1480.44 304.588 1471.71 Q304.588 1462.96 307.643 1458.38 Q310.722 1453.77 316.532 1453.77 Z\" fill=\"#000000\" fill-rule=\"nonzero\" fill-opacity=\"1\" /><path clip-path=\"url(#clip970)\" d=\"M338.181 1435.97 Q335.247 1435.97 333.762 1438.86 Q332.295 1441.74 332.295 1447.53 Q332.295 1453.31 333.762 1456.2 Q335.247 1459.08 338.181 1459.08 Q341.134 1459.08 342.601 1456.2 Q344.087 1453.31 344.087 1447.53 Q344.087 1441.74 342.601 1438.86 Q341.134 1435.97 338.181 1435.97 M338.181 1432.96 Q342.902 1432.96 345.385 1436.7 Q347.886 1440.43 347.886 1447.53 Q347.886 1454.62 345.385 1458.37 Q342.902 1462.09 338.181 1462.09 Q333.461 1462.09 330.959 1458.37 Q328.477 1454.62 328.477 1447.53 Q328.477 1440.43 330.959 1436.7 Q333.461 1432.96 338.181 1432.96 Z\" fill=\"#000000\" fill-rule=\"nonzero\" fill-opacity=\"1\" /><path clip-path=\"url(#clip970)\" d=\"M1103.27 1485.02 L1110.91 1485.02 L1110.91 1458.66 L1102.6 1460.32 L1102.6 1456.06 L1110.86 1454.4 L1115.54 1454.4 L1115.54 1485.02 L1123.18 1485.02 L1123.18 1488.96 L1103.27 1488.96 L1103.27 1485.02 Z\" fill=\"#000000\" fill-rule=\"nonzero\" fill-opacity=\"1\" /><path clip-path=\"url(#clip970)\" d=\"M1142.62 1457.48 Q1139.01 1457.48 1137.18 1461.04 Q1135.38 1464.58 1135.38 1471.71 Q1135.38 1478.82 1137.18 1482.38 Q1139.01 1485.92 1142.62 1485.92 Q1146.26 1485.92 1148.06 1482.38 Q1149.89 1478.82 1149.89 1471.71 Q1149.89 1464.58 1148.06 1461.04 Q1146.26 1457.48 1142.62 1457.48 M1142.62 1453.77 Q1148.43 1453.77 1151.49 1458.38 Q1154.57 1462.96 1154.57 1471.71 Q1154.57 1480.44 1151.49 1485.04 Q1148.43 1489.63 1142.62 1489.63 Q1136.81 1489.63 1133.73 1485.04 Q1130.68 1480.44 1130.68 1471.71 Q1130.68 1462.96 1133.73 1458.38 Q1136.81 1453.77 1142.62 1453.77 Z\" fill=\"#000000\" fill-rule=\"nonzero\" fill-opacity=\"1\" /><path clip-path=\"url(#clip970)\" d=\"M1155.75 1433.47 L1170.67 1433.47 L1170.67 1436.66 L1159.23 1436.66 L1159.23 1443.55 Q1160.06 1443.27 1160.89 1443.13 Q1161.71 1442.98 1162.54 1442.98 Q1167.24 1442.98 1169.99 1445.56 Q1172.73 1448.14 1172.73 1452.54 Q1172.73 1457.07 1169.91 1459.59 Q1167.09 1462.09 1161.96 1462.09 Q1160.19 1462.09 1158.35 1461.79 Q1156.52 1461.49 1154.57 1460.89 L1154.57 1457.07 Q1156.26 1457.99 1158.06 1458.44 Q1159.87 1458.89 1161.88 1458.89 Q1165.14 1458.89 1167.04 1457.18 Q1168.93 1455.47 1168.93 1452.54 Q1168.93 1449.6 1167.04 1447.89 Q1165.14 1446.18 1161.88 1446.18 Q1160.36 1446.18 1158.84 1446.52 Q1157.33 1446.86 1155.75 1447.57 L1155.75 1433.47 Z\" fill=\"#000000\" fill-rule=\"nonzero\" fill-opacity=\"1\" /><path clip-path=\"url(#clip970)\" d=\"M1916.71 1485.02 L1924.35 1485.02 L1924.35 1458.66 L1916.04 1460.32 L1916.04 1456.06 L1924.3 1454.4 L1928.98 1454.4 L1928.98 1485.02 L1936.62 1485.02 L1936.62 1488.96 L1916.71 1488.96 L1916.71 1485.02 Z\" fill=\"#000000\" fill-rule=\"nonzero\" fill-opacity=\"1\" /><path clip-path=\"url(#clip970)\" d=\"M1956.06 1457.48 Q1952.45 1457.48 1950.62 1461.04 Q1948.82 1464.58 1948.82 1471.71 Q1948.82 1478.82 1950.62 1482.38 Q1952.45 1485.92 1956.06 1485.92 Q1959.7 1485.92 1961.5 1482.38 Q1963.33 1478.82 1963.33 1471.71 Q1963.33 1464.58 1961.5 1461.04 Q1959.7 1457.48 1956.06 1457.48 M1956.06 1453.77 Q1961.87 1453.77 1964.93 1458.38 Q1968.01 1462.96 1968.01 1471.71 Q1968.01 1480.44 1964.93 1485.04 Q1961.87 1489.63 1956.06 1489.63 Q1950.25 1489.63 1947.17 1485.04 Q1944.12 1480.44 1944.12 1471.71 Q1944.12 1462.96 1947.17 1458.38 Q1950.25 1453.77 1956.06 1453.77 Z\" fill=\"#000000\" fill-rule=\"nonzero\" fill-opacity=\"1\" /><path clip-path=\"url(#clip970)\" d=\"M1968.55 1458.35 L1974.76 1458.35 L1974.76 1436.93 L1968.01 1438.28 L1968.01 1434.82 L1974.72 1433.47 L1978.52 1433.47 L1978.52 1458.35 L1984.73 1458.35 L1984.73 1461.55 L1968.55 1461.55 L1968.55 1458.35 Z\" fill=\"#000000\" fill-rule=\"nonzero\" fill-opacity=\"1\" /><path clip-path=\"url(#clip970)\" d=\"M2000.53 1435.97 Q1997.59 1435.97 1996.11 1438.86 Q1994.64 1441.74 1994.64 1447.53 Q1994.64 1453.31 1996.11 1456.2 Q1997.59 1459.08 2000.53 1459.08 Q2003.48 1459.08 2004.95 1456.2 Q2006.43 1453.31 2006.43 1447.53 Q2006.43 1441.74 2004.95 1438.86 Q2003.48 1435.97 2000.53 1435.97 M2000.53 1432.96 Q2005.25 1432.96 2007.73 1436.7 Q2010.23 1440.43 2010.23 1447.53 Q2010.23 1454.62 2007.73 1458.37 Q2005.25 1462.09 2000.53 1462.09 Q1995.8 1462.09 1993.3 1458.37 Q1990.82 1454.62 1990.82 1447.53 Q1990.82 1440.43 1993.3 1436.7 Q1995.8 1432.96 2000.53 1432.96 Z\" fill=\"#000000\" fill-rule=\"nonzero\" fill-opacity=\"1\" /><path clip-path=\"url(#clip970)\" d=\"M1271.23 1530.33 L1271.23 1537.11 Q1267.99 1534.08 1264.3 1532.59 Q1260.63 1531.09 1256.5 1531.09 Q1248.35 1531.09 1244.02 1536.09 Q1239.69 1541.05 1239.69 1550.47 Q1239.69 1559.86 1244.02 1564.86 Q1248.35 1569.82 1256.5 1569.82 Q1260.63 1569.82 1264.3 1568.33 Q1267.99 1566.83 1271.23 1563.81 L1271.23 1570.53 Q1267.86 1572.82 1264.07 1573.96 Q1260.32 1575.11 1256.12 1575.11 Q1245.33 1575.11 1239.12 1568.52 Q1232.91 1561.9 1232.91 1550.47 Q1232.91 1539.01 1239.12 1532.43 Q1245.33 1525.81 1256.12 1525.81 Q1260.38 1525.81 1264.14 1526.95 Q1267.92 1528.07 1271.23 1530.33 Z\" fill=\"#000000\" fill-rule=\"nonzero\" fill-opacity=\"1\" /><path clip-path=\"url(#clip970)\" d=\"M1294.72 1542.64 Q1290.01 1542.64 1287.28 1546.34 Q1284.54 1550 1284.54 1556.39 Q1284.54 1562.79 1287.24 1566.48 Q1289.98 1570.14 1294.72 1570.14 Q1299.4 1570.14 1302.14 1566.45 Q1304.88 1562.76 1304.88 1556.39 Q1304.88 1550.06 1302.14 1546.37 Q1299.4 1542.64 1294.72 1542.64 M1294.72 1537.68 Q1302.36 1537.68 1306.72 1542.64 Q1311.08 1547.61 1311.08 1556.39 Q1311.08 1565.15 1306.72 1570.14 Q1302.36 1575.11 1294.72 1575.11 Q1287.05 1575.11 1282.69 1570.14 Q1278.36 1565.15 1278.36 1556.39 Q1278.36 1547.61 1282.69 1542.64 Q1287.05 1537.68 1294.72 1537.68 Z\" fill=\"#000000\" fill-rule=\"nonzero\" fill-opacity=\"1\" /><path clip-path=\"url(#clip970)\" d=\"M1343.52 1539.59 L1343.52 1545.13 Q1341.03 1543.85 1338.36 1543.22 Q1335.69 1542.58 1332.82 1542.58 Q1328.46 1542.58 1326.27 1543.92 Q1324.1 1545.25 1324.1 1547.93 Q1324.1 1549.96 1325.66 1551.14 Q1327.22 1552.29 1331.93 1553.34 L1333.94 1553.78 Q1340.17 1555.12 1342.78 1557.57 Q1345.43 1559.99 1345.43 1564.35 Q1345.43 1569.32 1341.48 1572.21 Q1337.56 1575.11 1330.69 1575.11 Q1327.82 1575.11 1324.71 1574.54 Q1321.62 1573.99 1318.18 1572.88 L1318.18 1566.83 Q1321.43 1568.52 1324.58 1569.38 Q1327.73 1570.21 1330.82 1570.21 Q1334.95 1570.21 1337.18 1568.81 Q1339.41 1567.37 1339.41 1564.8 Q1339.41 1562.41 1337.79 1561.14 Q1336.2 1559.86 1330.75 1558.68 L1328.72 1558.21 Q1323.27 1557.06 1320.85 1554.71 Q1318.44 1552.32 1318.44 1548.18 Q1318.44 1543.15 1322 1540.42 Q1325.57 1537.68 1332.12 1537.68 Q1335.37 1537.68 1338.23 1538.16 Q1341.1 1538.63 1343.52 1539.59 Z\" fill=\"#000000\" fill-rule=\"nonzero\" fill-opacity=\"1\" /><path clip-path=\"url(#clip970)\" d=\"M1360.54 1528.42 L1360.54 1538.54 L1372.61 1538.54 L1372.61 1543.09 L1360.54 1543.09 L1360.54 1562.44 Q1360.54 1566.8 1361.72 1568.04 Q1362.93 1569.28 1366.59 1569.28 L1372.61 1569.28 L1372.61 1574.19 L1366.59 1574.19 Q1359.81 1574.19 1357.23 1571.67 Q1354.66 1569.12 1354.66 1562.44 L1354.66 1543.09 L1350.36 1543.09 L1350.36 1538.54 L1354.66 1538.54 L1354.66 1528.42 L1360.54 1528.42 Z\" fill=\"#000000\" fill-rule=\"nonzero\" fill-opacity=\"1\" /><polyline clip-path=\"url(#clip972)\" style=\"stroke:#000000; stroke-linecap:round; stroke-linejoin:round; stroke-width:2; stroke-opacity:0.1; fill:none\" points=\"252.764,1188.52 2352.76,1188.52 \"/>\n",
       "<polyline clip-path=\"url(#clip972)\" style=\"stroke:#000000; stroke-linecap:round; stroke-linejoin:round; stroke-width:2; stroke-opacity:0.1; fill:none\" points=\"252.764,820.961 2352.76,820.961 \"/>\n",
       "<polyline clip-path=\"url(#clip972)\" style=\"stroke:#000000; stroke-linecap:round; stroke-linejoin:round; stroke-width:2; stroke-opacity:0.1; fill:none\" points=\"252.764,453.399 2352.76,453.399 \"/>\n",
       "<polyline clip-path=\"url(#clip972)\" style=\"stroke:#000000; stroke-linecap:round; stroke-linejoin:round; stroke-width:2; stroke-opacity:0.1; fill:none\" points=\"252.764,85.838 2352.76,85.838 \"/>\n",
       "<polyline clip-path=\"url(#clip970)\" style=\"stroke:#000000; stroke-linecap:round; stroke-linejoin:round; stroke-width:4; stroke-opacity:1; fill:none\" points=\"252.764,1410.9 252.764,47.2441 \"/>\n",
       "<polyline clip-path=\"url(#clip970)\" style=\"stroke:#000000; stroke-linecap:round; stroke-linejoin:round; stroke-width:4; stroke-opacity:1; fill:none\" points=\"252.764,1188.52 271.662,1188.52 \"/>\n",
       "<polyline clip-path=\"url(#clip970)\" style=\"stroke:#000000; stroke-linecap:round; stroke-linejoin:round; stroke-width:4; stroke-opacity:1; fill:none\" points=\"252.764,820.961 271.662,820.961 \"/>\n",
       "<polyline clip-path=\"url(#clip970)\" style=\"stroke:#000000; stroke-linecap:round; stroke-linejoin:round; stroke-width:4; stroke-opacity:1; fill:none\" points=\"252.764,453.399 271.662,453.399 \"/>\n",
       "<polyline clip-path=\"url(#clip970)\" style=\"stroke:#000000; stroke-linecap:round; stroke-linejoin:round; stroke-width:4; stroke-opacity:1; fill:none\" points=\"252.764,85.838 271.662,85.838 \"/>\n",
       "<path clip-path=\"url(#clip970)\" d=\"M115.195 1208.31 L122.834 1208.31 L122.834 1181.95 L114.523 1183.62 L114.523 1179.36 L122.787 1177.69 L127.463 1177.69 L127.463 1208.31 L135.102 1208.31 L135.102 1212.25 L115.195 1212.25 L115.195 1208.31 Z\" fill=\"#000000\" fill-rule=\"nonzero\" fill-opacity=\"1\" /><path clip-path=\"url(#clip970)\" d=\"M154.546 1180.77 Q150.935 1180.77 149.107 1184.33 Q147.301 1187.87 147.301 1195 Q147.301 1202.11 149.107 1205.68 Q150.935 1209.22 154.546 1209.22 Q158.181 1209.22 159.986 1205.68 Q161.815 1202.11 161.815 1195 Q161.815 1187.87 159.986 1184.33 Q158.181 1180.77 154.546 1180.77 M154.546 1177.06 Q160.357 1177.06 163.412 1181.67 Q166.491 1186.25 166.491 1195 Q166.491 1203.73 163.412 1208.34 Q160.357 1212.92 154.546 1212.92 Q148.736 1212.92 145.658 1208.34 Q142.602 1203.73 142.602 1195 Q142.602 1186.25 145.658 1181.67 Q148.736 1177.06 154.546 1177.06 Z\" fill=\"#000000\" fill-rule=\"nonzero\" fill-opacity=\"1\" /><path clip-path=\"url(#clip970)\" d=\"M166.491 1171.17 L190.602 1171.17 L190.602 1174.36 L166.491 1174.36 L166.491 1171.17 Z\" fill=\"#000000\" fill-rule=\"nonzero\" fill-opacity=\"1\" /><path clip-path=\"url(#clip970)\" d=\"M207.398 1169.29 Q204.84 1169.29 203.335 1171.03 Q201.849 1172.78 201.849 1175.83 Q201.849 1178.86 203.335 1180.63 Q204.84 1182.38 207.398 1182.38 Q209.956 1182.38 211.441 1180.63 Q212.946 1178.86 212.946 1175.83 Q212.946 1172.78 211.441 1171.03 Q209.956 1169.29 207.398 1169.29 M214.94 1157.38 L214.94 1160.84 Q213.51 1160.16 212.043 1159.81 Q210.595 1159.45 209.166 1159.45 Q205.404 1159.45 203.41 1161.99 Q201.436 1164.53 201.153 1169.66 Q202.263 1168.03 203.937 1167.16 Q205.611 1166.28 207.623 1166.28 Q211.855 1166.28 214.3 1168.85 Q216.764 1171.41 216.764 1175.83 Q216.764 1180.16 214.206 1182.77 Q211.648 1185.38 207.398 1185.38 Q202.526 1185.38 199.95 1181.66 Q197.373 1177.92 197.373 1170.83 Q197.373 1164.17 200.533 1160.22 Q203.693 1156.25 209.015 1156.25 Q210.445 1156.25 211.893 1156.53 Q213.36 1156.82 214.94 1157.38 Z\" fill=\"#000000\" fill-rule=\"nonzero\" fill-opacity=\"1\" /><path clip-path=\"url(#clip970)\" d=\"M114.931 840.753 L122.57 840.753 L122.57 814.388 L114.26 816.054 L114.26 811.795 L122.524 810.128 L127.2 810.128 L127.2 840.753 L134.839 840.753 L134.839 844.688 L114.931 844.688 L114.931 840.753 Z\" fill=\"#000000\" fill-rule=\"nonzero\" fill-opacity=\"1\" /><path clip-path=\"url(#clip970)\" d=\"M154.283 813.207 Q150.672 813.207 148.843 816.772 Q147.038 820.313 147.038 827.443 Q147.038 834.549 148.843 838.114 Q150.672 841.656 154.283 841.656 Q157.917 841.656 159.723 838.114 Q161.552 834.549 161.552 827.443 Q161.552 820.313 159.723 816.772 Q157.917 813.207 154.283 813.207 M154.283 809.503 Q160.093 809.503 163.149 814.11 Q166.227 818.693 166.227 827.443 Q166.227 836.17 163.149 840.776 Q160.093 845.36 154.283 845.36 Q148.473 845.36 145.394 840.776 Q142.339 836.17 142.339 827.443 Q142.339 818.693 145.394 814.11 Q148.473 809.503 154.283 809.503 Z\" fill=\"#000000\" fill-rule=\"nonzero\" fill-opacity=\"1\" /><path clip-path=\"url(#clip970)\" d=\"M166.227 803.605 L190.339 803.605 L190.339 806.802 L166.227 806.802 L166.227 803.605 Z\" fill=\"#000000\" fill-rule=\"nonzero\" fill-opacity=\"1\" /><path clip-path=\"url(#clip970)\" d=\"M208.978 792.508 L199.386 807.498 L208.978 807.498 L208.978 792.508 M207.981 789.198 L212.758 789.198 L212.758 807.498 L216.764 807.498 L216.764 810.658 L212.758 810.658 L212.758 817.278 L208.978 817.278 L208.978 810.658 L196.301 810.658 L196.301 806.99 L207.981 789.198 Z\" fill=\"#000000\" fill-rule=\"nonzero\" fill-opacity=\"1\" /><path clip-path=\"url(#clip970)\" d=\"M116.624 473.192 L124.263 473.192 L124.263 446.826 L115.953 448.493 L115.953 444.234 L124.217 442.567 L128.893 442.567 L128.893 473.192 L136.531 473.192 L136.531 477.127 L116.624 477.127 L116.624 473.192 Z\" fill=\"#000000\" fill-rule=\"nonzero\" fill-opacity=\"1\" /><path clip-path=\"url(#clip970)\" d=\"M155.976 445.646 Q152.365 445.646 150.536 449.21 Q148.73 452.752 148.73 459.882 Q148.73 466.988 150.536 470.553 Q152.365 474.095 155.976 474.095 Q159.61 474.095 161.416 470.553 Q163.244 466.988 163.244 459.882 Q163.244 452.752 161.416 449.21 Q159.61 445.646 155.976 445.646 M155.976 441.942 Q161.786 441.942 164.841 446.548 Q167.92 451.132 167.92 459.882 Q167.92 468.608 164.841 473.215 Q161.786 477.798 155.976 477.798 Q150.166 477.798 147.087 473.215 Q144.031 468.608 144.031 459.882 Q144.031 451.132 147.087 446.548 Q150.166 441.942 155.976 441.942 Z\" fill=\"#000000\" fill-rule=\"nonzero\" fill-opacity=\"1\" /><path clip-path=\"url(#clip970)\" d=\"M167.92 436.043 L192.032 436.043 L192.032 439.241 L167.92 439.241 L167.92 436.043 Z\" fill=\"#000000\" fill-rule=\"nonzero\" fill-opacity=\"1\" /><path clip-path=\"url(#clip970)\" d=\"M203.504 446.519 L216.764 446.519 L216.764 449.717 L198.934 449.717 L198.934 446.519 Q201.097 444.281 204.821 440.52 Q208.564 436.739 209.523 435.648 Q211.347 433.598 212.062 432.188 Q212.796 430.758 212.796 429.385 Q212.796 427.147 211.216 425.737 Q209.655 424.326 207.134 424.326 Q205.348 424.326 203.354 424.947 Q201.379 425.567 199.122 426.828 L199.122 422.991 Q201.417 422.069 203.41 421.599 Q205.404 421.129 207.059 421.129 Q211.423 421.129 214.018 423.31 Q216.613 425.492 216.613 429.141 Q216.613 430.871 215.955 432.432 Q215.316 433.974 213.604 436.081 Q213.134 436.626 210.614 439.241 Q208.094 441.836 203.504 446.519 Z\" fill=\"#000000\" fill-rule=\"nonzero\" fill-opacity=\"1\" /><path clip-path=\"url(#clip970)\" d=\"M146.058 105.63 L153.697 105.63 L153.697 79.2649 L145.387 80.9315 L145.387 76.6723 L153.651 75.0056 L158.327 75.0056 L158.327 105.63 L165.966 105.63 L165.966 109.566 L146.058 109.566 L146.058 105.63 Z\" fill=\"#000000\" fill-rule=\"nonzero\" fill-opacity=\"1\" /><path clip-path=\"url(#clip970)\" d=\"M185.41 78.0843 Q181.799 78.0843 179.97 81.6491 Q178.165 85.1908 178.165 92.3204 Q178.165 99.4268 179.97 102.992 Q181.799 106.533 185.41 106.533 Q189.044 106.533 190.85 102.992 Q192.678 99.4268 192.678 92.3204 Q192.678 85.1908 190.85 81.6491 Q189.044 78.0843 185.41 78.0843 M185.41 74.3806 Q191.22 74.3806 194.276 78.9871 Q197.354 83.5704 197.354 92.3204 Q197.354 101.047 194.276 105.654 Q191.22 110.237 185.41 110.237 Q179.6 110.237 176.521 105.654 Q173.466 101.047 173.466 92.3204 Q173.466 83.5704 176.521 78.9871 Q179.6 74.3806 185.41 74.3806 Z\" fill=\"#000000\" fill-rule=\"nonzero\" fill-opacity=\"1\" /><path clip-path=\"url(#clip970)\" d=\"M207.059 56.5767 Q204.125 56.5767 202.639 59.4731 Q201.172 62.3507 201.172 68.1434 Q201.172 73.9174 202.639 76.8138 Q204.125 79.6914 207.059 79.6914 Q210.012 79.6914 211.479 76.8138 Q212.965 73.9174 212.965 68.1434 Q212.965 62.3507 211.479 59.4731 Q210.012 56.5767 207.059 56.5767 M207.059 53.5674 Q211.78 53.5674 214.263 57.3102 Q216.764 61.0341 216.764 68.1434 Q216.764 75.234 214.263 78.9767 Q211.78 82.7007 207.059 82.7007 Q202.338 82.7007 199.837 78.9767 Q197.354 75.234 197.354 68.1434 Q197.354 61.0341 199.837 57.3102 Q202.338 53.5674 207.059 53.5674 Z\" fill=\"#000000\" fill-rule=\"nonzero\" fill-opacity=\"1\" /><path clip-path=\"url(#clip970)\" d=\"M16.4842 805.316 L16.4842 775.269 L21.895 775.269 L21.895 798.886 L35.9632 798.886 L35.9632 776.256 L41.3741 776.256 L41.3741 798.886 L58.5933 798.886 L58.5933 774.697 L64.0042 774.697 L64.0042 805.316 L16.4842 805.316 Z\" fill=\"#000000\" fill-rule=\"nonzero\" fill-opacity=\"1\" /><path clip-path=\"url(#clip970)\" d=\"M33.8307 743.727 Q33.2578 744.714 33.0032 745.892 Q32.7167 747.038 32.7167 748.438 Q32.7167 753.403 35.9632 756.077 Q39.1779 758.719 45.2253 758.719 L64.0042 758.719 L64.0042 764.607 L28.3562 764.607 L28.3562 758.719 L33.8944 758.719 Q30.6479 756.873 29.0883 753.913 Q27.4968 750.952 27.4968 746.719 Q27.4968 746.115 27.5923 745.382 Q27.656 744.65 27.8151 743.759 L33.8307 743.727 Z\" fill=\"#000000\" fill-rule=\"nonzero\" fill-opacity=\"1\" /><path clip-path=\"url(#clip970)\" d=\"M33.8307 718.074 Q33.2578 719.06 33.0032 720.238 Q32.7167 721.384 32.7167 722.784 Q32.7167 727.749 35.9632 730.423 Q39.1779 733.065 45.2253 733.065 L64.0042 733.065 L64.0042 738.953 L28.3562 738.953 L28.3562 733.065 L33.8944 733.065 Q30.6479 731.219 29.0883 728.259 Q27.4968 725.299 27.4968 721.065 Q27.4968 720.461 27.5923 719.729 Q27.656 718.997 27.8151 718.105 L33.8307 718.074 Z\" fill=\"#000000\" fill-rule=\"nonzero\" fill-opacity=\"1\" /><path clip-path=\"url(#clip970)\" d=\"M32.4621 699.549 Q32.4621 704.26 36.1542 706.997 Q39.8145 709.735 46.212 709.735 Q52.6095 709.735 56.3017 707.029 Q59.9619 704.292 59.9619 699.549 Q59.9619 694.871 56.2698 692.133 Q52.5777 689.396 46.212 689.396 Q39.8781 689.396 36.186 692.133 Q32.4621 694.871 32.4621 699.549 M27.4968 699.549 Q27.4968 691.911 32.4621 687.55 Q37.4273 683.19 46.212 683.19 Q54.9649 683.19 59.9619 687.55 Q64.9272 691.911 64.9272 699.549 Q64.9272 707.22 59.9619 711.581 Q54.9649 715.909 46.212 715.909 Q37.4273 715.909 32.4621 711.581 Q27.4968 707.22 27.4968 699.549 Z\" fill=\"#000000\" fill-rule=\"nonzero\" fill-opacity=\"1\" /><path clip-path=\"url(#clip970)\" d=\"M33.8307 652.825 Q33.2578 653.812 33.0032 654.989 Q32.7167 656.135 32.7167 657.536 Q32.7167 662.501 35.9632 665.175 Q39.1779 667.816 45.2253 667.816 L64.0042 667.816 L64.0042 673.705 L28.3562 673.705 L28.3562 667.816 L33.8944 667.816 Q30.6479 665.97 29.0883 663.01 Q27.4968 660.05 27.4968 655.817 Q27.4968 655.212 27.5923 654.48 Q27.656 653.748 27.8151 652.857 L33.8307 652.825 Z\" fill=\"#000000\" fill-rule=\"nonzero\" fill-opacity=\"1\" /><polyline clip-path=\"url(#clip972)\" style=\"stroke:#009af9; stroke-linecap:round; stroke-linejoin:round; stroke-width:4; stroke-opacity:1; fill:none\" points=\"1302.76,1372.3 1215.91,1243.39 1154.21,1151.81 1106.32,1080.73 1067.17,1022.63 1034.07,973.494 1005.38,930.92 980.078,893.362 957.44,859.76 936.958,829.361 918.259,801.606 901.056,776.072 885.127,752.43 870.297,730.419 856.424,709.828 843.392,690.485 831.105,672.247 819.481,654.995 808.454,638.627 797.964,623.058 787.963,608.213 778.405,594.028 769.255,580.446 760.478,567.419 752.045,554.902 743.93,542.858 736.11,531.251 728.565,520.052 721.275,509.232 714.225,498.767 707.398,488.634 700.781,478.813 694.362,469.285 688.128,460.033 682.07,451.042 676.179,442.297 670.444,433.785 664.858,425.495 659.414,417.414 654.104,409.532 648.922,401.841 643.861,394.33 638.918,386.992 634.085,379.819 629.358,372.804 624.733,365.939 620.206,359.219 615.771,352.638 611.427,346.189 607.168,339.868 602.992,333.67 598.896,327.59 594.876,321.623 590.93,315.766 587.055,310.015 583.248,304.365 579.508,298.814 575.832,293.357 572.217,287.992 568.662,282.716 565.165,277.525 561.724,272.418 558.337,267.391 555.003,262.442 551.719,257.568 548.485,252.768 545.299,248.039 542.159,243.379 539.065,238.786 536.014,234.258 533.006,229.793 530.04,225.39 527.113,221.047 524.227,216.762 521.378,212.534 518.567,208.361 515.791,204.242 513.052,200.176 510.346,196.16 507.675,192.195 505.036,188.278 502.429,184.408 499.853,180.585 497.308,176.808 494.792,173.074 492.306,169.383 489.848,165.735 487.418,162.128 485.014,158.561 482.638,155.034 480.287,151.545 477.962,148.094 475.662,144.68 473.386,141.302 471.134,137.959 468.905,134.651 466.699,131.377 464.516,128.136 462.354,124.927 460.214,121.751 458.095,118.606 455.997,115.491 453.919,112.407 451.86,109.352 449.822,106.326 447.802,103.329 445.802,100.359 443.819,97.4171 441.855,94.5017 439.909,91.6127 437.98,88.7496 436.068,85.912 434.173,85.838 432.294,85.838 430.432,85.838 428.586,85.838 426.756,85.838 424.941,85.838 423.141,85.838 421.356,85.838 419.586,85.838 417.83,85.838 416.088,85.838 414.361,85.838 412.647,85.838 410.947,85.838 409.26,85.838 407.586,85.838 405.925,85.838 404.277,85.838 402.641,85.838 401.018,85.838 399.407,85.838 397.808,85.838 396.221,85.838 394.645,85.838 393.081,85.838 391.528,85.838 389.986,85.838 388.455,85.838 386.935,85.838 385.426,85.838 383.927,85.838 382.438,85.838 380.96,85.838 379.492,85.838 378.034,85.838 376.585,85.838 375.147,85.838 373.717,85.838 372.298,85.838 370.887,85.838 369.486,85.838 368.094,85.838 366.711,85.838 365.337,85.838 363.971,85.838 362.614,85.838 361.265,85.838 359.925,85.838 358.594,85.838 357.27,85.838 355.954,85.838 354.647,85.838 353.347,85.838 352.056,85.838 350.771,85.838 349.495,85.838 348.226,85.838 346.964,85.838 345.71,85.838 344.463,85.838 343.224,85.838 341.991,85.838 340.766,85.838 339.547,85.838 338.335,85.838 337.13,85.838 335.932,85.838 334.74,85.838 333.555,85.838 332.377,85.838 331.205,85.838 330.039,85.838 328.879,85.838 327.726,85.838 326.579,85.838 325.438,85.838 324.303,85.838 323.174,85.838 322.051,85.838 320.933,85.838 319.822,85.838 318.716,85.838 317.616,85.838 316.521,85.838 315.432,85.838 314.349,85.838 313.27,85.838 312.198,85.838 \"/>\n",
       "<polyline clip-path=\"url(#clip972)\" style=\"stroke:#e26f46; stroke-linecap:round; stroke-linejoin:round; stroke-width:4; stroke-opacity:1; fill:none\" points=\"2293.32,1372.3 2119.61,1243.39 1996.22,1151.81 1900.44,1080.73 1822.15,1022.63 1755.94,973.494 1698.57,930.92 1647.96,893.362 1602.68,859.76 1561.72,829.361 1524.32,801.606 1489.91,776.072 1458.06,752.43 1428.4,730.419 1400.65,709.828 1374.59,690.485 1350.01,672.247 1326.76,654.995 1304.71,638.627 1283.73,623.058 1263.73,608.213 1244.61,594.028 1226.31,580.446 1208.76,567.419 1191.89,554.902 1175.66,542.858 1160.02,531.251 1144.93,520.052 1130.35,509.232 1116.25,498.767 1102.6,488.634 1089.36,478.813 1076.53,469.285 1064.06,460.033 1051.94,451.042 1040.16,442.297 1028.69,433.785 1017.52,425.495 1006.63,417.414 996.01,409.532 985.645,401.841 975.525,394.33 965.637,386.992 955.972,379.819 946.519,372.804 937.269,365.939 928.214,359.219 919.345,352.638 910.656,346.189 902.139,339.868 893.787,333.67 885.594,327.59 877.554,321.623 869.662,315.766 861.912,310.015 854.299,304.365 846.818,298.814 839.466,293.357 832.236,287.992 825.127,282.716 818.133,277.525 811.251,272.418 804.477,267.391 797.808,262.442 791.241,257.568 784.773,252.768 778.4,248.039 772.121,243.379 765.932,238.786 759.831,234.258 753.815,229.793 747.882,225.39 742.029,221.047 736.256,216.762 730.558,212.534 724.935,208.361 719.385,204.242 713.906,200.176 708.495,196.16 703.152,192.195 697.874,188.278 692.66,184.408 687.508,180.585 682.418,176.808 677.387,173.074 672.414,169.383 667.498,165.735 662.637,162.128 657.831,158.561 653.078,155.034 648.377,151.545 643.727,148.094 639.126,144.68 634.574,141.302 630.07,137.959 625.612,134.651 621.201,131.377 616.834,128.136 612.51,124.927 608.23,121.751 603.992,118.606 599.796,115.491 595.64,112.407 591.523,109.352 587.446,106.326 583.407,103.329 579.405,100.359 575.441,97.4171 571.512,94.5017 567.619,91.6127 563.762,88.7496 559.938,85.912 556.148,85.838 552.391,85.838 548.667,85.838 544.974,85.838 541.313,85.838 537.683,85.838 534.084,85.838 530.514,85.838 526.973,85.838 523.462,85.838 519.979,85.838 516.524,85.838 513.096,85.838 509.696,85.838 506.322,85.838 502.974,85.838 499.652,85.838 496.356,85.838 493.085,85.838 489.838,85.838 486.616,85.838 483.418,85.838 480.243,85.838 477.092,85.838 473.963,85.838 470.858,85.838 467.774,85.838 464.712,85.838 461.672,85.838 458.653,85.838 455.656,85.838 452.679,85.838 449.722,85.838 446.786,85.838 443.87,85.838 440.973,85.838 438.096,85.838 435.237,85.838 432.398,85.838 429.577,85.838 426.775,85.838 423.99,85.838 421.224,85.838 418.475,85.838 415.744,85.838 413.03,85.838 410.333,85.838 407.653,85.838 404.989,85.838 402.342,85.838 399.711,85.838 397.096,85.838 394.497,85.838 391.913,85.838 389.345,85.838 386.792,85.838 384.254,85.838 381.731,85.838 379.223,85.838 376.729,85.838 374.25,85.838 371.785,85.838 369.334,85.838 366.896,85.838 364.473,85.838 362.063,85.838 359.666,85.838 357.283,85.838 354.913,85.838 352.556,85.838 350.212,85.838 347.88,85.838 345.561,85.838 343.255,85.838 340.96,85.838 338.678,85.838 336.408,85.838 334.15,85.838 331.904,85.838 329.669,85.838 327.446,85.838 325.234,85.838 323.034,85.838 320.845,85.838 318.667,85.838 316.499,85.838 314.343,85.838 312.198,85.838 \"/>\n",
       "<path clip-path=\"url(#clip970)\" d=\"M2020.33 248.219 L2282.76 248.219 L2282.76 92.6992 L2020.33 92.6992  Z\" fill=\"#ffffff\" fill-rule=\"evenodd\" fill-opacity=\"1\"/>\n",
       "<polyline clip-path=\"url(#clip970)\" style=\"stroke:#000000; stroke-linecap:round; stroke-linejoin:round; stroke-width:4; stroke-opacity:1; fill:none\" points=\"2020.33,248.219 2282.76,248.219 2282.76,92.6992 2020.33,92.6992 2020.33,248.219 \"/>\n",
       "<polyline clip-path=\"url(#clip970)\" style=\"stroke:#009af9; stroke-linecap:round; stroke-linejoin:round; stroke-width:4; stroke-opacity:1; fill:none\" points=\"2043.66,144.539 2183.66,144.539 \"/>\n",
       "<path clip-path=\"url(#clip970)\" d=\"M2220.84 164.227 Q2219.03 168.856 2217.32 170.268 Q2215.6 171.68 2212.73 171.68 L2209.33 171.68 L2209.33 168.115 L2211.83 168.115 Q2213.59 168.115 2214.56 167.282 Q2215.53 166.449 2216.71 163.347 L2217.48 161.403 L2206.99 135.893 L2211.51 135.893 L2219.61 156.171 L2227.71 135.893 L2232.22 135.893 L2220.84 164.227 Z\" fill=\"#000000\" fill-rule=\"nonzero\" fill-opacity=\"1\" /><path clip-path=\"url(#clip970)\" d=\"M2239.52 157.884 L2247.15 157.884 L2247.15 131.518 L2238.84 133.185 L2238.84 128.926 L2247.11 127.259 L2251.78 127.259 L2251.78 157.884 L2259.42 157.884 L2259.42 161.819 L2239.52 161.819 L2239.52 157.884 Z\" fill=\"#000000\" fill-rule=\"nonzero\" fill-opacity=\"1\" /><polyline clip-path=\"url(#clip970)\" style=\"stroke:#e26f46; stroke-linecap:round; stroke-linejoin:round; stroke-width:4; stroke-opacity:1; fill:none\" points=\"2043.66,196.379 2183.66,196.379 \"/>\n",
       "<path clip-path=\"url(#clip970)\" d=\"M2220.84 216.067 Q2219.03 220.696 2217.32 222.108 Q2215.6 223.52 2212.73 223.52 L2209.33 223.52 L2209.33 219.955 L2211.83 219.955 Q2213.59 219.955 2214.56 219.122 Q2215.53 218.289 2216.71 215.187 L2217.48 213.243 L2206.99 187.733 L2211.51 187.733 L2219.61 208.011 L2227.71 187.733 L2232.22 187.733 L2220.84 216.067 Z\" fill=\"#000000\" fill-rule=\"nonzero\" fill-opacity=\"1\" /><path clip-path=\"url(#clip970)\" d=\"M2242.73 209.724 L2259.05 209.724 L2259.05 213.659 L2237.11 213.659 L2237.11 209.724 Q2239.77 206.969 2244.35 202.34 Q2248.96 197.687 2250.14 196.344 Q2252.39 193.821 2253.27 192.085 Q2254.17 190.326 2254.17 188.636 Q2254.17 185.882 2252.22 184.145 Q2250.3 182.409 2247.2 182.409 Q2245 182.409 2242.55 183.173 Q2240.12 183.937 2237.34 185.488 L2237.34 180.766 Q2240.16 179.632 2242.62 179.053 Q2245.07 178.474 2247.11 178.474 Q2252.48 178.474 2255.67 181.159 Q2258.87 183.845 2258.87 188.335 Q2258.87 190.465 2258.06 192.386 Q2257.27 194.284 2255.16 196.877 Q2254.58 197.548 2251.48 200.766 Q2248.38 203.96 2242.73 209.724 Z\" fill=\"#000000\" fill-rule=\"nonzero\" fill-opacity=\"1\" /></svg>\n"
      ],
      "text/html": [
       "<?xml version=\"1.0\" encoding=\"utf-8\"?>\n",
       "<svg xmlns=\"http://www.w3.org/2000/svg\" xmlns:xlink=\"http://www.w3.org/1999/xlink\" width=\"600\" height=\"400\" viewBox=\"0 0 2400 1600\">\n",
       "<defs>\n",
       "  <clipPath id=\"clip020\">\n",
       "    <rect x=\"0\" y=\"0\" width=\"2400\" height=\"1600\"/>\n",
       "  </clipPath>\n",
       "</defs>\n",
       "<path clip-path=\"url(#clip020)\" d=\"M0 1600 L2400 1600 L2400 0 L0 0  Z\" fill=\"#ffffff\" fill-rule=\"evenodd\" fill-opacity=\"1\"/>\n",
       "<defs>\n",
       "  <clipPath id=\"clip021\">\n",
       "    <rect x=\"480\" y=\"0\" width=\"1681\" height=\"1600\"/>\n",
       "  </clipPath>\n",
       "</defs>\n",
       "<path clip-path=\"url(#clip020)\" d=\"M252.764 1410.9 L2352.76 1410.9 L2352.76 47.2441 L252.764 47.2441  Z\" fill=\"#ffffff\" fill-rule=\"evenodd\" fill-opacity=\"1\"/>\n",
       "<defs>\n",
       "  <clipPath id=\"clip022\">\n",
       "    <rect x=\"252\" y=\"47\" width=\"2101\" height=\"1365\"/>\n",
       "  </clipPath>\n",
       "</defs>\n",
       "<polyline clip-path=\"url(#clip022)\" style=\"stroke:#000000; stroke-linecap:round; stroke-linejoin:round; stroke-width:2; stroke-opacity:0.1; fill:none\" points=\"312.198,1410.9 312.198,47.2441 \"/>\n",
       "<polyline clip-path=\"url(#clip022)\" style=\"stroke:#000000; stroke-linecap:round; stroke-linejoin:round; stroke-width:2; stroke-opacity:0.1; fill:none\" points=\"1137.67,1410.9 1137.67,47.2441 \"/>\n",
       "<polyline clip-path=\"url(#clip022)\" style=\"stroke:#000000; stroke-linecap:round; stroke-linejoin:round; stroke-width:2; stroke-opacity:0.1; fill:none\" points=\"1963.13,1410.9 1963.13,47.2441 \"/>\n",
       "<polyline clip-path=\"url(#clip020)\" style=\"stroke:#000000; stroke-linecap:round; stroke-linejoin:round; stroke-width:4; stroke-opacity:1; fill:none\" points=\"252.764,1410.9 2352.76,1410.9 \"/>\n",
       "<polyline clip-path=\"url(#clip020)\" style=\"stroke:#000000; stroke-linecap:round; stroke-linejoin:round; stroke-width:4; stroke-opacity:1; fill:none\" points=\"312.198,1410.9 312.198,1392 \"/>\n",
       "<polyline clip-path=\"url(#clip020)\" style=\"stroke:#000000; stroke-linecap:round; stroke-linejoin:round; stroke-width:4; stroke-opacity:1; fill:none\" points=\"1137.67,1410.9 1137.67,1392 \"/>\n",
       "<polyline clip-path=\"url(#clip020)\" style=\"stroke:#000000; stroke-linecap:round; stroke-linejoin:round; stroke-width:4; stroke-opacity:1; fill:none\" points=\"1963.13,1410.9 1963.13,1392 \"/>\n",
       "<path clip-path=\"url(#clip020)\" d=\"M277.181 1485.02 L284.819 1485.02 L284.819 1458.66 L276.509 1460.32 L276.509 1456.06 L284.773 1454.4 L289.449 1454.4 L289.449 1485.02 L297.088 1485.02 L297.088 1488.96 L277.181 1488.96 L277.181 1485.02 Z\" fill=\"#000000\" fill-rule=\"nonzero\" fill-opacity=\"1\" /><path clip-path=\"url(#clip020)\" d=\"M316.532 1457.48 Q312.921 1457.48 311.092 1461.04 Q309.287 1464.58 309.287 1471.71 Q309.287 1478.82 311.092 1482.38 Q312.921 1485.92 316.532 1485.92 Q320.166 1485.92 321.972 1482.38 Q323.801 1478.82 323.801 1471.71 Q323.801 1464.58 321.972 1461.04 Q320.166 1457.48 316.532 1457.48 M316.532 1453.77 Q322.342 1453.77 325.398 1458.38 Q328.477 1462.96 328.477 1471.71 Q328.477 1480.44 325.398 1485.04 Q322.342 1489.63 316.532 1489.63 Q310.722 1489.63 307.643 1485.04 Q304.588 1480.44 304.588 1471.71 Q304.588 1462.96 307.643 1458.38 Q310.722 1453.77 316.532 1453.77 Z\" fill=\"#000000\" fill-rule=\"nonzero\" fill-opacity=\"1\" /><path clip-path=\"url(#clip020)\" d=\"M338.181 1435.97 Q335.247 1435.97 333.762 1438.86 Q332.295 1441.74 332.295 1447.53 Q332.295 1453.31 333.762 1456.2 Q335.247 1459.08 338.181 1459.08 Q341.134 1459.08 342.601 1456.2 Q344.087 1453.31 344.087 1447.53 Q344.087 1441.74 342.601 1438.86 Q341.134 1435.97 338.181 1435.97 M338.181 1432.96 Q342.902 1432.96 345.385 1436.7 Q347.886 1440.43 347.886 1447.53 Q347.886 1454.62 345.385 1458.37 Q342.902 1462.09 338.181 1462.09 Q333.461 1462.09 330.959 1458.37 Q328.477 1454.62 328.477 1447.53 Q328.477 1440.43 330.959 1436.7 Q333.461 1432.96 338.181 1432.96 Z\" fill=\"#000000\" fill-rule=\"nonzero\" fill-opacity=\"1\" /><path clip-path=\"url(#clip020)\" d=\"M1103.27 1485.02 L1110.91 1485.02 L1110.91 1458.66 L1102.6 1460.32 L1102.6 1456.06 L1110.86 1454.4 L1115.54 1454.4 L1115.54 1485.02 L1123.18 1485.02 L1123.18 1488.96 L1103.27 1488.96 L1103.27 1485.02 Z\" fill=\"#000000\" fill-rule=\"nonzero\" fill-opacity=\"1\" /><path clip-path=\"url(#clip020)\" d=\"M1142.62 1457.48 Q1139.01 1457.48 1137.18 1461.04 Q1135.38 1464.58 1135.38 1471.71 Q1135.38 1478.82 1137.18 1482.38 Q1139.01 1485.92 1142.62 1485.92 Q1146.26 1485.92 1148.06 1482.38 Q1149.89 1478.82 1149.89 1471.71 Q1149.89 1464.58 1148.06 1461.04 Q1146.26 1457.48 1142.62 1457.48 M1142.62 1453.77 Q1148.43 1453.77 1151.49 1458.38 Q1154.57 1462.96 1154.57 1471.71 Q1154.57 1480.44 1151.49 1485.04 Q1148.43 1489.63 1142.62 1489.63 Q1136.81 1489.63 1133.73 1485.04 Q1130.68 1480.44 1130.68 1471.71 Q1130.68 1462.96 1133.73 1458.38 Q1136.81 1453.77 1142.62 1453.77 Z\" fill=\"#000000\" fill-rule=\"nonzero\" fill-opacity=\"1\" /><path clip-path=\"url(#clip020)\" d=\"M1155.75 1433.47 L1170.67 1433.47 L1170.67 1436.66 L1159.23 1436.66 L1159.23 1443.55 Q1160.06 1443.27 1160.89 1443.13 Q1161.71 1442.98 1162.54 1442.98 Q1167.24 1442.98 1169.99 1445.56 Q1172.73 1448.14 1172.73 1452.54 Q1172.73 1457.07 1169.91 1459.59 Q1167.09 1462.09 1161.96 1462.09 Q1160.19 1462.09 1158.35 1461.79 Q1156.52 1461.49 1154.57 1460.89 L1154.57 1457.07 Q1156.26 1457.99 1158.06 1458.44 Q1159.87 1458.89 1161.88 1458.89 Q1165.14 1458.89 1167.04 1457.18 Q1168.93 1455.47 1168.93 1452.54 Q1168.93 1449.6 1167.04 1447.89 Q1165.14 1446.18 1161.88 1446.18 Q1160.36 1446.18 1158.84 1446.52 Q1157.33 1446.86 1155.75 1447.57 L1155.75 1433.47 Z\" fill=\"#000000\" fill-rule=\"nonzero\" fill-opacity=\"1\" /><path clip-path=\"url(#clip020)\" d=\"M1916.71 1485.02 L1924.35 1485.02 L1924.35 1458.66 L1916.04 1460.32 L1916.04 1456.06 L1924.3 1454.4 L1928.98 1454.4 L1928.98 1485.02 L1936.62 1485.02 L1936.62 1488.96 L1916.71 1488.96 L1916.71 1485.02 Z\" fill=\"#000000\" fill-rule=\"nonzero\" fill-opacity=\"1\" /><path clip-path=\"url(#clip020)\" d=\"M1956.06 1457.48 Q1952.45 1457.48 1950.62 1461.04 Q1948.82 1464.58 1948.82 1471.71 Q1948.82 1478.82 1950.62 1482.38 Q1952.45 1485.92 1956.06 1485.92 Q1959.7 1485.92 1961.5 1482.38 Q1963.33 1478.82 1963.33 1471.71 Q1963.33 1464.58 1961.5 1461.04 Q1959.7 1457.48 1956.06 1457.48 M1956.06 1453.77 Q1961.87 1453.77 1964.93 1458.38 Q1968.01 1462.96 1968.01 1471.71 Q1968.01 1480.44 1964.93 1485.04 Q1961.87 1489.63 1956.06 1489.63 Q1950.25 1489.63 1947.17 1485.04 Q1944.12 1480.44 1944.12 1471.71 Q1944.12 1462.96 1947.17 1458.38 Q1950.25 1453.77 1956.06 1453.77 Z\" fill=\"#000000\" fill-rule=\"nonzero\" fill-opacity=\"1\" /><path clip-path=\"url(#clip020)\" d=\"M1968.55 1458.35 L1974.76 1458.35 L1974.76 1436.93 L1968.01 1438.28 L1968.01 1434.82 L1974.72 1433.47 L1978.52 1433.47 L1978.52 1458.35 L1984.73 1458.35 L1984.73 1461.55 L1968.55 1461.55 L1968.55 1458.35 Z\" fill=\"#000000\" fill-rule=\"nonzero\" fill-opacity=\"1\" /><path clip-path=\"url(#clip020)\" d=\"M2000.53 1435.97 Q1997.59 1435.97 1996.11 1438.86 Q1994.64 1441.74 1994.64 1447.53 Q1994.64 1453.31 1996.11 1456.2 Q1997.59 1459.08 2000.53 1459.08 Q2003.48 1459.08 2004.95 1456.2 Q2006.43 1453.31 2006.43 1447.53 Q2006.43 1441.74 2004.95 1438.86 Q2003.48 1435.97 2000.53 1435.97 M2000.53 1432.96 Q2005.25 1432.96 2007.73 1436.7 Q2010.23 1440.43 2010.23 1447.53 Q2010.23 1454.62 2007.73 1458.37 Q2005.25 1462.09 2000.53 1462.09 Q1995.8 1462.09 1993.3 1458.37 Q1990.82 1454.62 1990.82 1447.53 Q1990.82 1440.43 1993.3 1436.7 Q1995.8 1432.96 2000.53 1432.96 Z\" fill=\"#000000\" fill-rule=\"nonzero\" fill-opacity=\"1\" /><path clip-path=\"url(#clip020)\" d=\"M1271.23 1530.33 L1271.23 1537.11 Q1267.99 1534.08 1264.3 1532.59 Q1260.63 1531.09 1256.5 1531.09 Q1248.35 1531.09 1244.02 1536.09 Q1239.69 1541.05 1239.69 1550.47 Q1239.69 1559.86 1244.02 1564.86 Q1248.35 1569.82 1256.5 1569.82 Q1260.63 1569.82 1264.3 1568.33 Q1267.99 1566.83 1271.23 1563.81 L1271.23 1570.53 Q1267.86 1572.82 1264.07 1573.96 Q1260.32 1575.11 1256.12 1575.11 Q1245.33 1575.11 1239.12 1568.52 Q1232.91 1561.9 1232.91 1550.47 Q1232.91 1539.01 1239.12 1532.43 Q1245.33 1525.81 1256.12 1525.81 Q1260.38 1525.81 1264.14 1526.95 Q1267.92 1528.07 1271.23 1530.33 Z\" fill=\"#000000\" fill-rule=\"nonzero\" fill-opacity=\"1\" /><path clip-path=\"url(#clip020)\" d=\"M1294.72 1542.64 Q1290.01 1542.64 1287.28 1546.34 Q1284.54 1550 1284.54 1556.39 Q1284.54 1562.79 1287.24 1566.48 Q1289.98 1570.14 1294.72 1570.14 Q1299.4 1570.14 1302.14 1566.45 Q1304.88 1562.76 1304.88 1556.39 Q1304.88 1550.06 1302.14 1546.37 Q1299.4 1542.64 1294.72 1542.64 M1294.72 1537.68 Q1302.36 1537.68 1306.72 1542.64 Q1311.08 1547.61 1311.08 1556.39 Q1311.08 1565.15 1306.72 1570.14 Q1302.36 1575.11 1294.72 1575.11 Q1287.05 1575.11 1282.69 1570.14 Q1278.36 1565.15 1278.36 1556.39 Q1278.36 1547.61 1282.69 1542.64 Q1287.05 1537.68 1294.72 1537.68 Z\" fill=\"#000000\" fill-rule=\"nonzero\" fill-opacity=\"1\" /><path clip-path=\"url(#clip020)\" d=\"M1343.52 1539.59 L1343.52 1545.13 Q1341.03 1543.85 1338.36 1543.22 Q1335.69 1542.58 1332.82 1542.58 Q1328.46 1542.58 1326.27 1543.92 Q1324.1 1545.25 1324.1 1547.93 Q1324.1 1549.96 1325.66 1551.14 Q1327.22 1552.29 1331.93 1553.34 L1333.94 1553.78 Q1340.17 1555.12 1342.78 1557.57 Q1345.43 1559.99 1345.43 1564.35 Q1345.43 1569.32 1341.48 1572.21 Q1337.56 1575.11 1330.69 1575.11 Q1327.82 1575.11 1324.71 1574.54 Q1321.62 1573.99 1318.18 1572.88 L1318.18 1566.83 Q1321.43 1568.52 1324.58 1569.38 Q1327.73 1570.21 1330.82 1570.21 Q1334.95 1570.21 1337.18 1568.81 Q1339.41 1567.37 1339.41 1564.8 Q1339.41 1562.41 1337.79 1561.14 Q1336.2 1559.86 1330.75 1558.68 L1328.72 1558.21 Q1323.27 1557.06 1320.85 1554.71 Q1318.44 1552.32 1318.44 1548.18 Q1318.44 1543.15 1322 1540.42 Q1325.57 1537.68 1332.12 1537.68 Q1335.37 1537.68 1338.23 1538.16 Q1341.1 1538.63 1343.52 1539.59 Z\" fill=\"#000000\" fill-rule=\"nonzero\" fill-opacity=\"1\" /><path clip-path=\"url(#clip020)\" d=\"M1360.54 1528.42 L1360.54 1538.54 L1372.61 1538.54 L1372.61 1543.09 L1360.54 1543.09 L1360.54 1562.44 Q1360.54 1566.8 1361.72 1568.04 Q1362.93 1569.28 1366.59 1569.28 L1372.61 1569.28 L1372.61 1574.19 L1366.59 1574.19 Q1359.81 1574.19 1357.23 1571.67 Q1354.66 1569.12 1354.66 1562.44 L1354.66 1543.09 L1350.36 1543.09 L1350.36 1538.54 L1354.66 1538.54 L1354.66 1528.42 L1360.54 1528.42 Z\" fill=\"#000000\" fill-rule=\"nonzero\" fill-opacity=\"1\" /><polyline clip-path=\"url(#clip022)\" style=\"stroke:#000000; stroke-linecap:round; stroke-linejoin:round; stroke-width:2; stroke-opacity:0.1; fill:none\" points=\"252.764,1188.52 2352.76,1188.52 \"/>\n",
       "<polyline clip-path=\"url(#clip022)\" style=\"stroke:#000000; stroke-linecap:round; stroke-linejoin:round; stroke-width:2; stroke-opacity:0.1; fill:none\" points=\"252.764,820.961 2352.76,820.961 \"/>\n",
       "<polyline clip-path=\"url(#clip022)\" style=\"stroke:#000000; stroke-linecap:round; stroke-linejoin:round; stroke-width:2; stroke-opacity:0.1; fill:none\" points=\"252.764,453.399 2352.76,453.399 \"/>\n",
       "<polyline clip-path=\"url(#clip022)\" style=\"stroke:#000000; stroke-linecap:round; stroke-linejoin:round; stroke-width:2; stroke-opacity:0.1; fill:none\" points=\"252.764,85.838 2352.76,85.838 \"/>\n",
       "<polyline clip-path=\"url(#clip020)\" style=\"stroke:#000000; stroke-linecap:round; stroke-linejoin:round; stroke-width:4; stroke-opacity:1; fill:none\" points=\"252.764,1410.9 252.764,47.2441 \"/>\n",
       "<polyline clip-path=\"url(#clip020)\" style=\"stroke:#000000; stroke-linecap:round; stroke-linejoin:round; stroke-width:4; stroke-opacity:1; fill:none\" points=\"252.764,1188.52 271.662,1188.52 \"/>\n",
       "<polyline clip-path=\"url(#clip020)\" style=\"stroke:#000000; stroke-linecap:round; stroke-linejoin:round; stroke-width:4; stroke-opacity:1; fill:none\" points=\"252.764,820.961 271.662,820.961 \"/>\n",
       "<polyline clip-path=\"url(#clip020)\" style=\"stroke:#000000; stroke-linecap:round; stroke-linejoin:round; stroke-width:4; stroke-opacity:1; fill:none\" points=\"252.764,453.399 271.662,453.399 \"/>\n",
       "<polyline clip-path=\"url(#clip020)\" style=\"stroke:#000000; stroke-linecap:round; stroke-linejoin:round; stroke-width:4; stroke-opacity:1; fill:none\" points=\"252.764,85.838 271.662,85.838 \"/>\n",
       "<path clip-path=\"url(#clip020)\" d=\"M115.195 1208.31 L122.834 1208.31 L122.834 1181.95 L114.523 1183.62 L114.523 1179.36 L122.787 1177.69 L127.463 1177.69 L127.463 1208.31 L135.102 1208.31 L135.102 1212.25 L115.195 1212.25 L115.195 1208.31 Z\" fill=\"#000000\" fill-rule=\"nonzero\" fill-opacity=\"1\" /><path clip-path=\"url(#clip020)\" d=\"M154.546 1180.77 Q150.935 1180.77 149.107 1184.33 Q147.301 1187.87 147.301 1195 Q147.301 1202.11 149.107 1205.68 Q150.935 1209.22 154.546 1209.22 Q158.181 1209.22 159.986 1205.68 Q161.815 1202.11 161.815 1195 Q161.815 1187.87 159.986 1184.33 Q158.181 1180.77 154.546 1180.77 M154.546 1177.06 Q160.357 1177.06 163.412 1181.67 Q166.491 1186.25 166.491 1195 Q166.491 1203.73 163.412 1208.34 Q160.357 1212.92 154.546 1212.92 Q148.736 1212.92 145.658 1208.34 Q142.602 1203.73 142.602 1195 Q142.602 1186.25 145.658 1181.67 Q148.736 1177.06 154.546 1177.06 Z\" fill=\"#000000\" fill-rule=\"nonzero\" fill-opacity=\"1\" /><path clip-path=\"url(#clip020)\" d=\"M166.491 1171.17 L190.602 1171.17 L190.602 1174.36 L166.491 1174.36 L166.491 1171.17 Z\" fill=\"#000000\" fill-rule=\"nonzero\" fill-opacity=\"1\" /><path clip-path=\"url(#clip020)\" d=\"M207.398 1169.29 Q204.84 1169.29 203.335 1171.03 Q201.849 1172.78 201.849 1175.83 Q201.849 1178.86 203.335 1180.63 Q204.84 1182.38 207.398 1182.38 Q209.956 1182.38 211.441 1180.63 Q212.946 1178.86 212.946 1175.83 Q212.946 1172.78 211.441 1171.03 Q209.956 1169.29 207.398 1169.29 M214.94 1157.38 L214.94 1160.84 Q213.51 1160.16 212.043 1159.81 Q210.595 1159.45 209.166 1159.45 Q205.404 1159.45 203.41 1161.99 Q201.436 1164.53 201.153 1169.66 Q202.263 1168.03 203.937 1167.16 Q205.611 1166.28 207.623 1166.28 Q211.855 1166.28 214.3 1168.85 Q216.764 1171.41 216.764 1175.83 Q216.764 1180.16 214.206 1182.77 Q211.648 1185.38 207.398 1185.38 Q202.526 1185.38 199.95 1181.66 Q197.373 1177.92 197.373 1170.83 Q197.373 1164.17 200.533 1160.22 Q203.693 1156.25 209.015 1156.25 Q210.445 1156.25 211.893 1156.53 Q213.36 1156.82 214.94 1157.38 Z\" fill=\"#000000\" fill-rule=\"nonzero\" fill-opacity=\"1\" /><path clip-path=\"url(#clip020)\" d=\"M114.931 840.753 L122.57 840.753 L122.57 814.388 L114.26 816.054 L114.26 811.795 L122.524 810.128 L127.2 810.128 L127.2 840.753 L134.839 840.753 L134.839 844.688 L114.931 844.688 L114.931 840.753 Z\" fill=\"#000000\" fill-rule=\"nonzero\" fill-opacity=\"1\" /><path clip-path=\"url(#clip020)\" d=\"M154.283 813.207 Q150.672 813.207 148.843 816.772 Q147.038 820.313 147.038 827.443 Q147.038 834.549 148.843 838.114 Q150.672 841.656 154.283 841.656 Q157.917 841.656 159.723 838.114 Q161.552 834.549 161.552 827.443 Q161.552 820.313 159.723 816.772 Q157.917 813.207 154.283 813.207 M154.283 809.503 Q160.093 809.503 163.149 814.11 Q166.227 818.693 166.227 827.443 Q166.227 836.17 163.149 840.776 Q160.093 845.36 154.283 845.36 Q148.473 845.36 145.394 840.776 Q142.339 836.17 142.339 827.443 Q142.339 818.693 145.394 814.11 Q148.473 809.503 154.283 809.503 Z\" fill=\"#000000\" fill-rule=\"nonzero\" fill-opacity=\"1\" /><path clip-path=\"url(#clip020)\" d=\"M166.227 803.605 L190.339 803.605 L190.339 806.802 L166.227 806.802 L166.227 803.605 Z\" fill=\"#000000\" fill-rule=\"nonzero\" fill-opacity=\"1\" /><path clip-path=\"url(#clip020)\" d=\"M208.978 792.508 L199.386 807.498 L208.978 807.498 L208.978 792.508 M207.981 789.198 L212.758 789.198 L212.758 807.498 L216.764 807.498 L216.764 810.658 L212.758 810.658 L212.758 817.278 L208.978 817.278 L208.978 810.658 L196.301 810.658 L196.301 806.99 L207.981 789.198 Z\" fill=\"#000000\" fill-rule=\"nonzero\" fill-opacity=\"1\" /><path clip-path=\"url(#clip020)\" d=\"M116.624 473.192 L124.263 473.192 L124.263 446.826 L115.953 448.493 L115.953 444.234 L124.217 442.567 L128.893 442.567 L128.893 473.192 L136.531 473.192 L136.531 477.127 L116.624 477.127 L116.624 473.192 Z\" fill=\"#000000\" fill-rule=\"nonzero\" fill-opacity=\"1\" /><path clip-path=\"url(#clip020)\" d=\"M155.976 445.646 Q152.365 445.646 150.536 449.21 Q148.73 452.752 148.73 459.882 Q148.73 466.988 150.536 470.553 Q152.365 474.095 155.976 474.095 Q159.61 474.095 161.416 470.553 Q163.244 466.988 163.244 459.882 Q163.244 452.752 161.416 449.21 Q159.61 445.646 155.976 445.646 M155.976 441.942 Q161.786 441.942 164.841 446.548 Q167.92 451.132 167.92 459.882 Q167.92 468.608 164.841 473.215 Q161.786 477.798 155.976 477.798 Q150.166 477.798 147.087 473.215 Q144.031 468.608 144.031 459.882 Q144.031 451.132 147.087 446.548 Q150.166 441.942 155.976 441.942 Z\" fill=\"#000000\" fill-rule=\"nonzero\" fill-opacity=\"1\" /><path clip-path=\"url(#clip020)\" d=\"M167.92 436.043 L192.032 436.043 L192.032 439.241 L167.92 439.241 L167.92 436.043 Z\" fill=\"#000000\" fill-rule=\"nonzero\" fill-opacity=\"1\" /><path clip-path=\"url(#clip020)\" d=\"M203.504 446.519 L216.764 446.519 L216.764 449.717 L198.934 449.717 L198.934 446.519 Q201.097 444.281 204.821 440.52 Q208.564 436.739 209.523 435.648 Q211.347 433.598 212.062 432.188 Q212.796 430.758 212.796 429.385 Q212.796 427.147 211.216 425.737 Q209.655 424.326 207.134 424.326 Q205.348 424.326 203.354 424.947 Q201.379 425.567 199.122 426.828 L199.122 422.991 Q201.417 422.069 203.41 421.599 Q205.404 421.129 207.059 421.129 Q211.423 421.129 214.018 423.31 Q216.613 425.492 216.613 429.141 Q216.613 430.871 215.955 432.432 Q215.316 433.974 213.604 436.081 Q213.134 436.626 210.614 439.241 Q208.094 441.836 203.504 446.519 Z\" fill=\"#000000\" fill-rule=\"nonzero\" fill-opacity=\"1\" /><path clip-path=\"url(#clip020)\" d=\"M146.058 105.63 L153.697 105.63 L153.697 79.2649 L145.387 80.9315 L145.387 76.6723 L153.651 75.0056 L158.327 75.0056 L158.327 105.63 L165.966 105.63 L165.966 109.566 L146.058 109.566 L146.058 105.63 Z\" fill=\"#000000\" fill-rule=\"nonzero\" fill-opacity=\"1\" /><path clip-path=\"url(#clip020)\" d=\"M185.41 78.0843 Q181.799 78.0843 179.97 81.6491 Q178.165 85.1908 178.165 92.3204 Q178.165 99.4268 179.97 102.992 Q181.799 106.533 185.41 106.533 Q189.044 106.533 190.85 102.992 Q192.678 99.4268 192.678 92.3204 Q192.678 85.1908 190.85 81.6491 Q189.044 78.0843 185.41 78.0843 M185.41 74.3806 Q191.22 74.3806 194.276 78.9871 Q197.354 83.5704 197.354 92.3204 Q197.354 101.047 194.276 105.654 Q191.22 110.237 185.41 110.237 Q179.6 110.237 176.521 105.654 Q173.466 101.047 173.466 92.3204 Q173.466 83.5704 176.521 78.9871 Q179.6 74.3806 185.41 74.3806 Z\" fill=\"#000000\" fill-rule=\"nonzero\" fill-opacity=\"1\" /><path clip-path=\"url(#clip020)\" d=\"M207.059 56.5767 Q204.125 56.5767 202.639 59.4731 Q201.172 62.3507 201.172 68.1434 Q201.172 73.9174 202.639 76.8138 Q204.125 79.6914 207.059 79.6914 Q210.012 79.6914 211.479 76.8138 Q212.965 73.9174 212.965 68.1434 Q212.965 62.3507 211.479 59.4731 Q210.012 56.5767 207.059 56.5767 M207.059 53.5674 Q211.78 53.5674 214.263 57.3102 Q216.764 61.0341 216.764 68.1434 Q216.764 75.234 214.263 78.9767 Q211.78 82.7007 207.059 82.7007 Q202.338 82.7007 199.837 78.9767 Q197.354 75.234 197.354 68.1434 Q197.354 61.0341 199.837 57.3102 Q202.338 53.5674 207.059 53.5674 Z\" fill=\"#000000\" fill-rule=\"nonzero\" fill-opacity=\"1\" /><path clip-path=\"url(#clip020)\" d=\"M16.4842 805.316 L16.4842 775.269 L21.895 775.269 L21.895 798.886 L35.9632 798.886 L35.9632 776.256 L41.3741 776.256 L41.3741 798.886 L58.5933 798.886 L58.5933 774.697 L64.0042 774.697 L64.0042 805.316 L16.4842 805.316 Z\" fill=\"#000000\" fill-rule=\"nonzero\" fill-opacity=\"1\" /><path clip-path=\"url(#clip020)\" d=\"M33.8307 743.727 Q33.2578 744.714 33.0032 745.892 Q32.7167 747.038 32.7167 748.438 Q32.7167 753.403 35.9632 756.077 Q39.1779 758.719 45.2253 758.719 L64.0042 758.719 L64.0042 764.607 L28.3562 764.607 L28.3562 758.719 L33.8944 758.719 Q30.6479 756.873 29.0883 753.913 Q27.4968 750.952 27.4968 746.719 Q27.4968 746.115 27.5923 745.382 Q27.656 744.65 27.8151 743.759 L33.8307 743.727 Z\" fill=\"#000000\" fill-rule=\"nonzero\" fill-opacity=\"1\" /><path clip-path=\"url(#clip020)\" d=\"M33.8307 718.074 Q33.2578 719.06 33.0032 720.238 Q32.7167 721.384 32.7167 722.784 Q32.7167 727.749 35.9632 730.423 Q39.1779 733.065 45.2253 733.065 L64.0042 733.065 L64.0042 738.953 L28.3562 738.953 L28.3562 733.065 L33.8944 733.065 Q30.6479 731.219 29.0883 728.259 Q27.4968 725.299 27.4968 721.065 Q27.4968 720.461 27.5923 719.729 Q27.656 718.997 27.8151 718.105 L33.8307 718.074 Z\" fill=\"#000000\" fill-rule=\"nonzero\" fill-opacity=\"1\" /><path clip-path=\"url(#clip020)\" d=\"M32.4621 699.549 Q32.4621 704.26 36.1542 706.997 Q39.8145 709.735 46.212 709.735 Q52.6095 709.735 56.3017 707.029 Q59.9619 704.292 59.9619 699.549 Q59.9619 694.871 56.2698 692.133 Q52.5777 689.396 46.212 689.396 Q39.8781 689.396 36.186 692.133 Q32.4621 694.871 32.4621 699.549 M27.4968 699.549 Q27.4968 691.911 32.4621 687.55 Q37.4273 683.19 46.212 683.19 Q54.9649 683.19 59.9619 687.55 Q64.9272 691.911 64.9272 699.549 Q64.9272 707.22 59.9619 711.581 Q54.9649 715.909 46.212 715.909 Q37.4273 715.909 32.4621 711.581 Q27.4968 707.22 27.4968 699.549 Z\" fill=\"#000000\" fill-rule=\"nonzero\" fill-opacity=\"1\" /><path clip-path=\"url(#clip020)\" d=\"M33.8307 652.825 Q33.2578 653.812 33.0032 654.989 Q32.7167 656.135 32.7167 657.536 Q32.7167 662.501 35.9632 665.175 Q39.1779 667.816 45.2253 667.816 L64.0042 667.816 L64.0042 673.705 L28.3562 673.705 L28.3562 667.816 L33.8944 667.816 Q30.6479 665.97 29.0883 663.01 Q27.4968 660.05 27.4968 655.817 Q27.4968 655.212 27.5923 654.48 Q27.656 653.748 27.8151 652.857 L33.8307 652.825 Z\" fill=\"#000000\" fill-rule=\"nonzero\" fill-opacity=\"1\" /><polyline clip-path=\"url(#clip022)\" style=\"stroke:#009af9; stroke-linecap:round; stroke-linejoin:round; stroke-width:4; stroke-opacity:1; fill:none\" points=\"1302.76,1372.3 1215.91,1243.39 1154.21,1151.81 1106.32,1080.73 1067.17,1022.63 1034.07,973.494 1005.38,930.92 980.078,893.362 957.44,859.76 936.958,829.361 918.259,801.606 901.056,776.072 885.127,752.43 870.297,730.419 856.424,709.828 843.392,690.485 831.105,672.247 819.481,654.995 808.454,638.627 797.964,623.058 787.963,608.213 778.405,594.028 769.255,580.446 760.478,567.419 752.045,554.902 743.93,542.858 736.11,531.251 728.565,520.052 721.275,509.232 714.225,498.767 707.398,488.634 700.781,478.813 694.362,469.285 688.128,460.033 682.07,451.042 676.179,442.297 670.444,433.785 664.858,425.495 659.414,417.414 654.104,409.532 648.922,401.841 643.861,394.33 638.918,386.992 634.085,379.819 629.358,372.804 624.733,365.939 620.206,359.219 615.771,352.638 611.427,346.189 607.168,339.868 602.992,333.67 598.896,327.59 594.876,321.623 590.93,315.766 587.055,310.015 583.248,304.365 579.508,298.814 575.832,293.357 572.217,287.992 568.662,282.716 565.165,277.525 561.724,272.418 558.337,267.391 555.003,262.442 551.719,257.568 548.485,252.768 545.299,248.039 542.159,243.379 539.065,238.786 536.014,234.258 533.006,229.793 530.04,225.39 527.113,221.047 524.227,216.762 521.378,212.534 518.567,208.361 515.791,204.242 513.052,200.176 510.346,196.16 507.675,192.195 505.036,188.278 502.429,184.408 499.853,180.585 497.308,176.808 494.792,173.074 492.306,169.383 489.848,165.735 487.418,162.128 485.014,158.561 482.638,155.034 480.287,151.545 477.962,148.094 475.662,144.68 473.386,141.302 471.134,137.959 468.905,134.651 466.699,131.377 464.516,128.136 462.354,124.927 460.214,121.751 458.095,118.606 455.997,115.491 453.919,112.407 451.86,109.352 449.822,106.326 447.802,103.329 445.802,100.359 443.819,97.4171 441.855,94.5017 439.909,91.6127 437.98,88.7496 436.068,85.912 434.173,85.838 432.294,85.838 430.432,85.838 428.586,85.838 426.756,85.838 424.941,85.838 423.141,85.838 421.356,85.838 419.586,85.838 417.83,85.838 416.088,85.838 414.361,85.838 412.647,85.838 410.947,85.838 409.26,85.838 407.586,85.838 405.925,85.838 404.277,85.838 402.641,85.838 401.018,85.838 399.407,85.838 397.808,85.838 396.221,85.838 394.645,85.838 393.081,85.838 391.528,85.838 389.986,85.838 388.455,85.838 386.935,85.838 385.426,85.838 383.927,85.838 382.438,85.838 380.96,85.838 379.492,85.838 378.034,85.838 376.585,85.838 375.147,85.838 373.717,85.838 372.298,85.838 370.887,85.838 369.486,85.838 368.094,85.838 366.711,85.838 365.337,85.838 363.971,85.838 362.614,85.838 361.265,85.838 359.925,85.838 358.594,85.838 357.27,85.838 355.954,85.838 354.647,85.838 353.347,85.838 352.056,85.838 350.771,85.838 349.495,85.838 348.226,85.838 346.964,85.838 345.71,85.838 344.463,85.838 343.224,85.838 341.991,85.838 340.766,85.838 339.547,85.838 338.335,85.838 337.13,85.838 335.932,85.838 334.74,85.838 333.555,85.838 332.377,85.838 331.205,85.838 330.039,85.838 328.879,85.838 327.726,85.838 326.579,85.838 325.438,85.838 324.303,85.838 323.174,85.838 322.051,85.838 320.933,85.838 319.822,85.838 318.716,85.838 317.616,85.838 316.521,85.838 315.432,85.838 314.349,85.838 313.27,85.838 312.198,85.838 \"/>\n",
       "<polyline clip-path=\"url(#clip022)\" style=\"stroke:#e26f46; stroke-linecap:round; stroke-linejoin:round; stroke-width:4; stroke-opacity:1; fill:none\" points=\"2293.32,1372.3 2119.61,1243.39 1996.22,1151.81 1900.44,1080.73 1822.15,1022.63 1755.94,973.494 1698.57,930.92 1647.96,893.362 1602.68,859.76 1561.72,829.361 1524.32,801.606 1489.91,776.072 1458.06,752.43 1428.4,730.419 1400.65,709.828 1374.59,690.485 1350.01,672.247 1326.76,654.995 1304.71,638.627 1283.73,623.058 1263.73,608.213 1244.61,594.028 1226.31,580.446 1208.76,567.419 1191.89,554.902 1175.66,542.858 1160.02,531.251 1144.93,520.052 1130.35,509.232 1116.25,498.767 1102.6,488.634 1089.36,478.813 1076.53,469.285 1064.06,460.033 1051.94,451.042 1040.16,442.297 1028.69,433.785 1017.52,425.495 1006.63,417.414 996.01,409.532 985.645,401.841 975.525,394.33 965.637,386.992 955.972,379.819 946.519,372.804 937.269,365.939 928.214,359.219 919.345,352.638 910.656,346.189 902.139,339.868 893.787,333.67 885.594,327.59 877.554,321.623 869.662,315.766 861.912,310.015 854.299,304.365 846.818,298.814 839.466,293.357 832.236,287.992 825.127,282.716 818.133,277.525 811.251,272.418 804.477,267.391 797.808,262.442 791.241,257.568 784.773,252.768 778.4,248.039 772.121,243.379 765.932,238.786 759.831,234.258 753.815,229.793 747.882,225.39 742.029,221.047 736.256,216.762 730.558,212.534 724.935,208.361 719.385,204.242 713.906,200.176 708.495,196.16 703.152,192.195 697.874,188.278 692.66,184.408 687.508,180.585 682.418,176.808 677.387,173.074 672.414,169.383 667.498,165.735 662.637,162.128 657.831,158.561 653.078,155.034 648.377,151.545 643.727,148.094 639.126,144.68 634.574,141.302 630.07,137.959 625.612,134.651 621.201,131.377 616.834,128.136 612.51,124.927 608.23,121.751 603.992,118.606 599.796,115.491 595.64,112.407 591.523,109.352 587.446,106.326 583.407,103.329 579.405,100.359 575.441,97.4171 571.512,94.5017 567.619,91.6127 563.762,88.7496 559.938,85.912 556.148,85.838 552.391,85.838 548.667,85.838 544.974,85.838 541.313,85.838 537.683,85.838 534.084,85.838 530.514,85.838 526.973,85.838 523.462,85.838 519.979,85.838 516.524,85.838 513.096,85.838 509.696,85.838 506.322,85.838 502.974,85.838 499.652,85.838 496.356,85.838 493.085,85.838 489.838,85.838 486.616,85.838 483.418,85.838 480.243,85.838 477.092,85.838 473.963,85.838 470.858,85.838 467.774,85.838 464.712,85.838 461.672,85.838 458.653,85.838 455.656,85.838 452.679,85.838 449.722,85.838 446.786,85.838 443.87,85.838 440.973,85.838 438.096,85.838 435.237,85.838 432.398,85.838 429.577,85.838 426.775,85.838 423.99,85.838 421.224,85.838 418.475,85.838 415.744,85.838 413.03,85.838 410.333,85.838 407.653,85.838 404.989,85.838 402.342,85.838 399.711,85.838 397.096,85.838 394.497,85.838 391.913,85.838 389.345,85.838 386.792,85.838 384.254,85.838 381.731,85.838 379.223,85.838 376.729,85.838 374.25,85.838 371.785,85.838 369.334,85.838 366.896,85.838 364.473,85.838 362.063,85.838 359.666,85.838 357.283,85.838 354.913,85.838 352.556,85.838 350.212,85.838 347.88,85.838 345.561,85.838 343.255,85.838 340.96,85.838 338.678,85.838 336.408,85.838 334.15,85.838 331.904,85.838 329.669,85.838 327.446,85.838 325.234,85.838 323.034,85.838 320.845,85.838 318.667,85.838 316.499,85.838 314.343,85.838 312.198,85.838 \"/>\n",
       "<path clip-path=\"url(#clip020)\" d=\"M2020.33 248.219 L2282.76 248.219 L2282.76 92.6992 L2020.33 92.6992  Z\" fill=\"#ffffff\" fill-rule=\"evenodd\" fill-opacity=\"1\"/>\n",
       "<polyline clip-path=\"url(#clip020)\" style=\"stroke:#000000; stroke-linecap:round; stroke-linejoin:round; stroke-width:4; stroke-opacity:1; fill:none\" points=\"2020.33,248.219 2282.76,248.219 2282.76,92.6992 2020.33,92.6992 2020.33,248.219 \"/>\n",
       "<polyline clip-path=\"url(#clip020)\" style=\"stroke:#009af9; stroke-linecap:round; stroke-linejoin:round; stroke-width:4; stroke-opacity:1; fill:none\" points=\"2043.66,144.539 2183.66,144.539 \"/>\n",
       "<path clip-path=\"url(#clip020)\" d=\"M2220.84 164.227 Q2219.03 168.856 2217.32 170.268 Q2215.6 171.68 2212.73 171.68 L2209.33 171.68 L2209.33 168.115 L2211.83 168.115 Q2213.59 168.115 2214.56 167.282 Q2215.53 166.449 2216.71 163.347 L2217.48 161.403 L2206.99 135.893 L2211.51 135.893 L2219.61 156.171 L2227.71 135.893 L2232.22 135.893 L2220.84 164.227 Z\" fill=\"#000000\" fill-rule=\"nonzero\" fill-opacity=\"1\" /><path clip-path=\"url(#clip020)\" d=\"M2239.52 157.884 L2247.15 157.884 L2247.15 131.518 L2238.84 133.185 L2238.84 128.926 L2247.11 127.259 L2251.78 127.259 L2251.78 157.884 L2259.42 157.884 L2259.42 161.819 L2239.52 161.819 L2239.52 157.884 Z\" fill=\"#000000\" fill-rule=\"nonzero\" fill-opacity=\"1\" /><polyline clip-path=\"url(#clip020)\" style=\"stroke:#e26f46; stroke-linecap:round; stroke-linejoin:round; stroke-width:4; stroke-opacity:1; fill:none\" points=\"2043.66,196.379 2183.66,196.379 \"/>\n",
       "<path clip-path=\"url(#clip020)\" d=\"M2220.84 216.067 Q2219.03 220.696 2217.32 222.108 Q2215.6 223.52 2212.73 223.52 L2209.33 223.52 L2209.33 219.955 L2211.83 219.955 Q2213.59 219.955 2214.56 219.122 Q2215.53 218.289 2216.71 215.187 L2217.48 213.243 L2206.99 187.733 L2211.51 187.733 L2219.61 208.011 L2227.71 187.733 L2232.22 187.733 L2220.84 216.067 Z\" fill=\"#000000\" fill-rule=\"nonzero\" fill-opacity=\"1\" /><path clip-path=\"url(#clip020)\" d=\"M2242.73 209.724 L2259.05 209.724 L2259.05 213.659 L2237.11 213.659 L2237.11 209.724 Q2239.77 206.969 2244.35 202.34 Q2248.96 197.687 2250.14 196.344 Q2252.39 193.821 2253.27 192.085 Q2254.17 190.326 2254.17 188.636 Q2254.17 185.882 2252.22 184.145 Q2250.3 182.409 2247.2 182.409 Q2245 182.409 2242.55 183.173 Q2240.12 183.937 2237.34 185.488 L2237.34 180.766 Q2240.16 179.632 2242.62 179.053 Q2245.07 178.474 2247.11 178.474 Q2252.48 178.474 2255.67 181.159 Q2258.87 183.845 2258.87 188.335 Q2258.87 190.465 2258.06 192.386 Q2257.27 194.284 2255.16 196.877 Q2254.58 197.548 2251.48 200.766 Q2248.38 203.96 2242.73 209.724 Z\" fill=\"#000000\" fill-rule=\"nonzero\" fill-opacity=\"1\" /></svg>\n"
      ]
     },
     "execution_count": 20,
     "metadata": {},
     "output_type": "execute_result"
    }
   ],
   "source": [
    "plot([cost, cost2], error, .01, 1, xscale=:log10, yscale=:log10,\n",
    "  xlabel=\"Cost\", ylabel=\"Error\")"
   ]
  },
  {
   "cell_type": "markdown",
   "id": "5ea5f5ba",
   "metadata": {
    "slideshow": {
     "slide_type": "slide"
    }
   },
   "source": [
    "# What goes in? What comes out?"
   ]
  },
  {
   "cell_type": "markdown",
   "id": "0b172918",
   "metadata": {
    "cell_style": "split"
   },
   "source": [
    "* Equations\n",
    "  * Conservation\n",
    "  * Variational principles\n",
    "  * Materials\n",
    "* Geometry\n",
    "  * meshing needed?\n",
    "* Boundary conditions\n",
    "  * essential/Dirichlet\n",
    "  * natural/Neumann\n",
    "  * mixed\n",
    "* Initial conditions"
   ]
  },
  {
   "cell_type": "markdown",
   "id": "5524288e",
   "metadata": {
    "cell_style": "split"
   },
   "source": [
    "* Discrete solutions\n",
    "  * Sampled on a grid\n",
    "  * Time series\n",
    "* Quantities of Interest (QoI)\n",
    "  * Heat flux\n",
    "  * Maximum temperature\n",
    "  * Maximum stress\n",
    "  * Lift, drag\n",
    "* Eigensolutions\n",
    "  * Resonant frequencies/modes\n",
    "  * Orbitals"
   ]
  },
  {
   "cell_type": "markdown",
   "id": "5e47d410",
   "metadata": {
    "slideshow": {
     "slide_type": "slide"
    }
   },
   "source": [
    "# Who works with PDE solvers?"
   ]
  },
  {
   "cell_type": "markdown",
   "id": "5a67fee9",
   "metadata": {
    "slideshow": {
     "slide_type": "subslide"
    }
   },
   "source": [
    "* Numerical analysts\n",
    "* Domain scientists and engineers\n",
    "* Materials scientists\n",
    "* HPC specialists\n",
    "* Optimizers\n",
    "* Statisticians"
   ]
  },
  {
   "cell_type": "markdown",
   "id": "a7c4ecde",
   "metadata": {
    "slideshow": {
     "slide_type": "slide"
    }
   },
   "source": [
    "# What skills should they have?\n",
    "\n",
    "Breakout groups: pick one role and make a list of essential and nice-to-have skills, plus at least one question. Pick one member to report out."
   ]
  },
  {
   "cell_type": "markdown",
   "id": "670d0a5e",
   "metadata": {
    "cell_style": "split",
    "slideshow": {
     "slide_type": ""
    }
   },
   "source": [
    "* ..."
   ]
  },
  {
   "cell_type": "markdown",
   "id": "bce00a75",
   "metadata": {
    "cell_style": "split"
   },
   "source": [
    "* ..."
   ]
  },
  {
   "cell_type": "markdown",
   "id": "a181eea5",
   "metadata": {
    "slideshow": {
     "slide_type": "slide"
    }
   },
   "source": [
    "# Computer Science = Runnable Abstraction Science"
   ]
  },
  {
   "cell_type": "markdown",
   "id": "b66498d2",
   "metadata": {
    "cell_style": "split"
   },
   "source": [
    "## In the \"grinder\"\n",
    "* Mathematical language and principles for each major class of method\n",
    "  * What is covered by theory\n",
    "  * When you're venturing off-trail\n",
    "  * Analytic tools to predict and debug\n",
    "* Realistic cost and exploitable structure\n",
    "  * Performance on modern hardware\n",
    "  * Algebraic solvers and time integrators\n",
    "* Write/modify stand-alone code\n",
    "* Select and use (parallel) libraries"
   ]
  },
  {
   "cell_type": "markdown",
   "id": "ad132037",
   "metadata": {
    "cell_style": "split"
   },
   "source": [
    "## How can you trust the solution?\n",
    "* Verification: solving the problem right\n",
    "* Validation: solving the right problem\n",
    "\n",
    "## Abstractions/collaboration\n",
    "* Domain scientists, engineers\n",
    "* Optimizers, statisticians\n",
    "* Abstractions that reduce cognitive load\n",
    "* Metrics/visualization for decisions"
   ]
  },
  {
   "cell_type": "markdown",
   "id": "d910b1c2",
   "metadata": {
    "slideshow": {
     "slide_type": "slide"
    }
   },
   "source": [
    "# On programming languages"
   ]
  },
  {
   "cell_type": "markdown",
   "id": "1b6d3017",
   "metadata": {
    "cell_style": "split"
   },
   "source": [
    "## C\n",
    "Reliable and popular for libraries (PETSc, etc.). \"Simple\", unsafe, capable of encapsulation.\n",
    "\n",
    "## C++\n",
    "Popular with applications and some libraries. Powerful, but complicated and unsafe.\n",
    "\n",
    "## Fortran\n",
    "The OG of numerical computing. Good for \"array programming\", but encapsulation is hard. Unsafe depending on dialect."
   ]
  },
  {
   "cell_type": "markdown",
   "id": "19695d74",
   "metadata": {
    "cell_style": "split"
   },
   "source": [
    "## Julia\n",
    "For ground-up examples in class and in activities. Capable of high performance, expressive multiple dispatch, works well in a notebook. Library ecosystem for PDEs is limited, but rapidly improving.\n",
    "\n",
    "## Python\n",
    "Good access to JIT, libraries like FEniCS. Poor native performance, but good libraries to compiled code.\n",
    "\n",
    "## Rust\n",
    "New compiled language. Good performance, encapsulation, safety, static analysis. Poor libraries (so far)."
   ]
  },
  {
   "cell_type": "markdown",
   "id": "9e462589",
   "metadata": {},
   "source": [
    "You don't need to know any of these well and you can choose the language for your project."
   ]
  },
  {
   "cell_type": "markdown",
   "id": "51106d86",
   "metadata": {
    "slideshow": {
     "slide_type": "slide"
    }
   },
   "source": [
    "# Intrinsic motivation\n",
    "\n",
    "<img src=\"img/Butler1988-Table1.png\" width=\"80%\" />"
   ]
  },
  {
   "cell_type": "markdown",
   "id": "a69f134c",
   "metadata": {
    "slideshow": {
     "slide_type": "slide"
    }
   },
   "source": [
    "# I won't grade and I won't waste your time"
   ]
  },
  {
   "cell_type": "markdown",
   "id": "1ad89faa",
   "metadata": {
    "cell_style": "center",
    "slideshow": {
     "slide_type": "fragment"
    }
   },
   "source": [
    "<div class=\"floatleft70\"\n",
    "\n",
    "  * I will provide feedback   \n",
    "  * I will be a mentor and guide navigating this field\n",
    "  * I will help you get what you want out of the class (with a dash of wholesome context)\n",
    "\n",
    "  > My mom said, \"basically, your professor is asking you to be an adult\". That was too flexible.\n",
    "\n",
    "  > In other classes, I didn’t feel like I could bounce back, but in this one I did.\n",
    "</div>\n",
    "\n",
    "<div class=\"floatright30\">\n",
    "<a href=\"https://www.wvupressonline.com/ungrading\"><img src=\"img/Ungrading.jpg\" width=\"100%\" /></a>\n",
    "</div>"
   ]
  },
  {
   "cell_type": "markdown",
   "id": "8b1167b9",
   "metadata": {
    "slideshow": {
     "slide_type": "slide"
    }
   },
   "source": [
    "# What about the letter grade?"
   ]
  },
  {
   "cell_type": "markdown",
   "id": "748b2379",
   "metadata": {
    "cell_style": "split",
    "slideshow": {
     "slide_type": "fragment"
    }
   },
   "source": [
    "* Collect a portfolio of the work and insights you're most proud of\n",
    "* Individual meetings during the last week of the semester (mid-term preview)\n",
    "* We'll have a conversation and you'll propose a grade based on your portfolio\n",
    "  * I'll trust you."
   ]
  },
  {
   "cell_type": "markdown",
   "id": "5c2adec6",
   "metadata": {
    "cell_style": "split"
   },
   "source": [
    "<img src=\"https://dpuk71x9wlmkf.cloudfront.net/assets/2020/02/10170035/02_V4-01.jpg\" />"
   ]
  },
  {
   "cell_type": "markdown",
   "id": "6e66274a",
   "metadata": {
    "slideshow": {
     "slide_type": "fragment"
    }
   },
   "source": [
    "*I can nudge upward when students are too modest -- pretty common. In rare cases, I may adjust down.*"
   ]
  },
  {
   "cell_type": "markdown",
   "id": "123c7b1c",
   "metadata": {
    "slideshow": {
     "slide_type": "slide"
    }
   },
   "source": [
    "# What I need from you: Growth Mindset\n",
    "\n",
    "<img src=\"img/Henry2019-Table1.png\" width=\"90%\" />"
   ]
  },
  {
   "cell_type": "markdown",
   "id": "47fe3ae4",
   "metadata": {
    "slideshow": {
     "slide_type": "slide"
    }
   },
   "source": [
    "# How will the semester look?"
   ]
  },
  {
   "cell_type": "markdown",
   "id": "583d6bfb",
   "metadata": {
    "cell_style": "split"
   },
   "source": [
    "## Lecture periods\n",
    "* Refresh, introduce, activity/group discussion, reflect\n",
    "* Pointers to further resources/activities\n",
    "\n",
    "## In-class and homework activities\n",
    "* (Short) coding, experiments, presentation of results\n",
    "* Use the math and programming tools of the field\n",
    "* Open-ended, go further occasionally\n",
    "\n",
    "## Learning plans\n",
    "* Write, track, and revise a personal learning plan.\n",
    "* Meet/chat approx weekly to check in with partner"
   ]
  },
  {
   "cell_type": "markdown",
   "id": "c3f5351b",
   "metadata": {
    "cell_style": "split"
   },
   "source": [
    "## Projects (second half of semester)\n",
    "* Dig into community software for solving PDEs\n",
    "* Short presentation on how the community works\n",
    " * Key stakeholders\n",
    " * Strengths and weaknesses\n",
    "* Discuss and critique\n",
    "\n",
    "## Community contribution\n",
    "* Tutorial, documentation, performance study, comparison, new features, new application\n",
    "* Reflect in a short presentation"
   ]
  },
  {
   "cell_type": "markdown",
   "id": "a473030e",
   "metadata": {
    "slideshow": {
     "slide_type": "slide"
    }
   },
   "source": [
    "# Tools"
   ]
  },
  {
   "cell_type": "markdown",
   "id": "61105cbb",
   "metadata": {
    "cell_style": "split"
   },
   "source": [
    "## Git and GitHub\n",
    "\n",
    "* GitHub CLassroom to manage repositories\n",
    "* Write using notebooks and markdown\n",
    "* Review using GitHub tools and nbgrader\n",
    "* [Discussions](https://github.com/cu-numpde/fall23/discussions/)"
   ]
  },
  {
   "cell_type": "markdown",
   "id": "7850eace",
   "metadata": {
    "cell_style": "split"
   },
   "source": [
    "## Jupyter\n",
    "\n",
    "* RISE slides available on website\n",
    "* Activities with scaffolding\n",
    "* Nbgrader for writing feedback\n",
    "* Works with many languages; we'll mostly use Julia\n",
    "* Collaborative mode (new)\n",
    "\n",
    "## JupyterHub: [coding.csel.io](https://coding.csel.io)\n",
    "* Nothing to install, persistent storage"
   ]
  },
  {
   "cell_type": "markdown",
   "id": "b5c127a2",
   "metadata": {
    "slideshow": {
     "slide_type": "slide"
    }
   },
   "source": [
    "# A note about illnesses"
   ]
  },
  {
   "cell_type": "markdown",
   "id": "fed9a1d9",
   "metadata": {
    "cell_style": "split"
   },
   "source": [
    "* There is a new covid variant circulating.\n",
    "* Updated vaccines aren't available yet.\n",
    "* High-quality masks are effective.\n",
    "* You're welcome to attend virtually (and please do if you have symptoms or have had exposures).\n",
    "\n",
    "## Resources\n",
    "\n",
    "* [CDPHE Wastewater Data](https://cdphe.maps.arcgis.com/apps/dashboards/d79cf93c3938470ca4bcc4823328946b) by county\n",
    "* [State dashboard](https://covid19.colorado.gov/data)"
   ]
  },
  {
   "cell_type": "markdown",
   "id": "9044801a",
   "metadata": {
    "cell_style": "split"
   },
   "source": [
    "* I have a 3yo in childcare and a 6yo in first grade.\n",
    "* Illnesses circulate often and sometimes they need to stay home.\n",
    "* I'll likely need to teach remotely at some times, or otherwise make it up to you\n",
    "\n",
    "![](img/cdphe-wastewater-trends.png)"
   ]
  },
  {
   "cell_type": "markdown",
   "id": "fc669b50",
   "metadata": {
    "slideshow": {
     "slide_type": "slide"
    }
   },
   "source": [
    "# Choices in scoping the class"
   ]
  },
  {
   "cell_type": "markdown",
   "id": "339f3aae",
   "metadata": {
    "cell_style": "split"
   },
   "source": [
    "## Theory\n",
    "\n",
    "Analysis first, confirm using numerics.\n",
    "Limited to simpler models."
   ]
  },
  {
   "cell_type": "markdown",
   "id": "415071e9",
   "metadata": {
    "cell_style": "split"
   },
   "source": [
    "## Applied\n",
    "Numerics first, pointers to useful theory."
   ]
  },
  {
   "cell_type": "markdown",
   "id": "01262771",
   "metadata": {},
   "source": [
    "---"
   ]
  },
  {
   "cell_type": "markdown",
   "id": "3483ca71",
   "metadata": {
    "cell_style": "split",
    "slideshow": {
     "slide_type": "fragment"
    }
   },
   "source": [
    "## Build from scratch\n",
    "\n",
    "Limited to simpler models, but you'll understand everything under the hood."
   ]
  },
  {
   "cell_type": "markdown",
   "id": "0a060582",
   "metadata": {
    "cell_style": "split"
   },
   "source": [
    "## Build using libraries\n",
    "\n",
    "More installation and software layers, but can solve more interesting problems."
   ]
  }
 ],
 "metadata": {
  "celltoolbar": "Slideshow",
  "kernelspec": {
   "display_name": "Julia 1.9.3",
   "language": "julia",
   "name": "julia-1.9"
  },
  "language_info": {
   "file_extension": ".jl",
   "mimetype": "application/julia",
   "name": "julia",
   "version": "1.9.4"
  },
  "rise": {
   "enable_chalkboard": true
  }
 },
 "nbformat": 4,
 "nbformat_minor": 5
}
