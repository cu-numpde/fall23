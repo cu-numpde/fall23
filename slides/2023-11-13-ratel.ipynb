{
 "cells": [
  {
   "cell_type": "markdown",
   "id": "3471b94b",
   "metadata": {
    "cell_style": "center",
    "slideshow": {
     "slide_type": "slide"
    }
   },
   "source": [
    "# 2023-11-13 Ratel for Solid Mechanics"
   ]
  },
  {
   "cell_type": "markdown",
   "id": "4159be0e",
   "metadata": {
    "cell_style": "split",
    "slideshow": {
     "slide_type": ""
    }
   },
   "source": [
    "## Last time\n",
    "\n",
    "* Stabilized methods\n",
    "* Dispersion diagrams\n",
    "* Mixed finite elements\n",
    "\n",
    "## Today\n",
    "* Intro to solid mechanics, Ratel\n",
    "* Singularities and $hp$ adaptivity\n",
    "* Cost of sparse matrices\n",
    "* GPU performance with Ratel and context"
   ]
  },
  {
   "cell_type": "code",
   "execution_count": 1,
   "id": "e82d841d",
   "metadata": {
    "hideOutput": true,
    "slideshow": {
     "slide_type": "skip"
    }
   },
   "outputs": [],
   "source": [
    "using Plots\n",
    "default(linewidth=3)\n",
    "using LinearAlgebra\n",
    "using SparseArrays"
   ]
  },
  {
   "cell_type": "markdown",
   "id": "4545d387",
   "metadata": {
    "slideshow": {
     "slide_type": "slide"
    }
   },
   "source": [
    "# Solid mechanics: [Ratel Theory Guide](https://ratel.micromorph.org/doc/modeling/continuum-mechanics/balance-laws/)"
   ]
  },
  {
   "cell_type": "markdown",
   "id": "4850fc47",
   "metadata": {
    "cell_style": "split"
   },
   "source": [
    "## Material coordinates\n",
    "\n",
    "The current configuration $x$ is a function of the initial configuration $X$. We typically solve for displacement $u = x - X$, and define the **deformation gradient**\n",
    "$$ F = \\frac{\\partial x}{\\partial X} = I + \\underbrace{\\frac{\\partial u}{\\partial \n",
    "X}}_H$$\n",
    "where $H$ is known as **displacement gradient**."
   ]
  },
  {
   "cell_type": "markdown",
   "id": "442d7015",
   "metadata": {
    "cell_style": "split"
   },
   "source": [
    "## Conservation\n",
    "\n",
    "### Mass by definition of density\n",
    "### Momentum by equations we solve\n",
    "### Angular momentum by symmetry of stress and strain tensors"
   ]
  },
  {
   "cell_type": "markdown",
   "id": "07f518e9",
   "metadata": {
    "slideshow": {
     "slide_type": "slide"
    }
   },
   "source": [
    "# Momentum balance in initial configuration\n",
    "\n",
    "$$\\nabla\\cdot \\mathbf F \\mathbf S = 0$$\n",
    "\n",
    "where $\\mathbf F = I + H$ and $\\mathbf S$ is the symmetric stress tensor (Second Piola-Kirchhoff tensor)."
   ]
  },
  {
   "cell_type": "markdown",
   "id": "fbf1991a",
   "metadata": {
    "cell_style": "split"
   },
   "source": [
    "# Strain measures\n",
    "\n",
    "Stress $\\mathbf S$ must be defined as a function of displacement. A common choice is to define the **right Cauchy-Green tensor**\n",
    "\n",
    "$$ C = F^T F$$\n",
    "\n",
    "This has value $I$ for zero strain. A better formulation uses\n",
    "\n",
    "$$ E = \\frac 1 2 (C - I) = \\underbrace{\\frac 1 2 (H + H^T + H^T H)}_{\\text{stable}}$$"
   ]
  },
  {
   "cell_type": "markdown",
   "id": "ae1a3a12",
   "metadata": {
    "cell_style": "split"
   },
   "source": [
    "## [Neo-Hookean model](https://ratel.micromorph.org/doc/modeling/models/neo-hookean/)\n",
    "Strain energy density\n",
    "  \\begin{aligned}\n",
    "    \\psi \\left(\\mathbf{E} \\right) &= \\frac{\\lambda}{2} \\left( \\log J \\right)^2 - \\mu \\log J + \\frac \\mu 2 \\left( \\operatorname{trace} \\mathbf{C} - 3 \\right) \\\\\n",
    "                             &= \\frac{\\lambda}{2} \\left( \\log J \\right)^2 - \\mu \\log J + \\mu \\operatorname{trace} \\mathbf{E},\n",
    "  \\end{aligned}\n",
    "\n",
    "$$\\mathbf S = \\frac{\\partial \\psi}{\\partial \\mathbf E}$$"
   ]
  },
  {
   "cell_type": "markdown",
   "id": "44f4b2b0",
   "metadata": {
    "slideshow": {
     "slide_type": "slide"
    }
   },
   "source": [
    "# Nonlinear solid mechanics"
   ]
  },
  {
   "cell_type": "markdown",
   "id": "d9d51c31",
   "metadata": {
    "cell_style": "split",
    "slideshow": {
     "slide_type": ""
    }
   },
   "source": [
    "\n",
    "<video src=\"img/schwarz-q2-5x5x5-t20-l2-r2.webm\" width=\"90%\" autoplay controls loop />"
   ]
  },
  {
   "cell_type": "markdown",
   "id": "88619101",
   "metadata": {
    "cell_style": "split"
   },
   "source": [
    "## Industrial state of practice\n",
    "\n",
    "* Low order finite elements: $Q_1$ (trilinear) hexahedra, $P_2$ (quadratic) tetrahedra.\n",
    "* Assembled matrices, sparse direct and algebraic multigrid solvers\n",
    "\n",
    "## Myths\n",
    "\n",
    "* High order doesn't help because real problems have singularities.\n",
    "* Matrix-free methods are just for high order problems"
   ]
  },
  {
   "cell_type": "markdown",
   "id": "a98cb8bb",
   "metadata": {
    "slideshow": {
     "slide_type": "slide"
    }
   },
   "source": [
    "# Industrial models are riddled with singularities"
   ]
  },
  {
   "cell_type": "markdown",
   "id": "34163c4e",
   "metadata": {
    "cell_style": "split"
   },
   "source": [
    "<img src=\"img/gordon-bell-2004-structure.png\" />"
   ]
  },
  {
   "cell_type": "markdown",
   "id": "6bb720f9",
   "metadata": {
    "cell_style": "split"
   },
   "source": [
    "* Every reentrant corner\n",
    "* Every Dirichlet (fixed/clamped) to Neumann boundary transitien\n",
    "\n",
    "\n",
    "(From Bhardwaj et al, 2002.)"
   ]
  },
  {
   "cell_type": "markdown",
   "id": "384421ce",
   "metadata": {
    "slideshow": {
     "slide_type": "slide"
    }
   },
   "source": [
    "# The mathematician's way: $hp$ adaptive finite elements\n",
    "\n",
    "Elliptic PDE always have singularities at reentrant corners (and Dirichlet to Neumann boundary transitions)."
   ]
  },
  {
   "cell_type": "markdown",
   "id": "4575a31a",
   "metadata": {
    "cell_style": "split"
   },
   "source": [
    "<img src=\"https://www.dealii.org/images/steps/developer/step-27-solution.png\" width=\"80%\" />"
   ]
  },
  {
   "cell_type": "markdown",
   "id": "5862750d",
   "metadata": {
    "cell_style": "split"
   },
   "source": [
    "![](img/DemkowiczRachowiczDevloo-hp-loglog-2002.png)\n",
    "![](img/DemkowiczRachowiczDevloo-hp-loglin-2002.png)"
   ]
  },
  {
   "cell_type": "markdown",
   "id": "251315b7",
   "metadata": {
    "slideshow": {
     "slide_type": "slide"
    }
   },
   "source": [
    "# How does it work?\n",
    "\n",
    "High order to resolve when solution is smooth, tiny low-order elements near singularities.\n",
    "\n",
    "![Deal.II hp refinement](img/dealii-hp-refinement.png)\n",
    "\n",
    "([source: Deal.II step 27](https://dealii.org/developer/doxygen/deal.II/step_27.html))"
   ]
  },
  {
   "cell_type": "markdown",
   "id": "7108bab9",
   "metadata": {
    "slideshow": {
     "slide_type": "slide"
    }
   },
   "source": [
    "# What meshes do engineers use?"
   ]
  },
  {
   "cell_type": "markdown",
   "id": "c248f066",
   "metadata": {
    "cell_style": "split",
    "slideshow": {
     "slide_type": ""
    }
   },
   "source": [
    "<img src=\"https://images.ansys.com/is/image/ansys/fundamentals-of-fea-meshing-cages-motorcycle-pump?&wid=866&op_usm=0.9,1.0,20,0&fit=constrain,0\" width=\"100%\" />\n",
    "\n",
    "[source: Ansys blog](https://www.ansys.com/blog/fundamentals-of-fea-meshing-for-structural-analysis)"
   ]
  },
  {
   "cell_type": "markdown",
   "id": "6c2be782",
   "metadata": {
    "cell_style": "split"
   },
   "source": [
    "<video src=\"img/one-hole-traction-20220222.webm\" autoplay controls loop />"
   ]
  },
  {
   "cell_type": "markdown",
   "id": "5537bf56",
   "metadata": {
    "slideshow": {
     "slide_type": "slide"
    }
   },
   "source": [
    "# Approximation constants are good for high order\n",
    "\n",
    "<img src=\"img/accuracy_study_annotated.svg\" width=\"85%\" />"
   ]
  },
  {
   "cell_type": "markdown",
   "id": "fbfa9f69",
   "metadata": {
    "slideshow": {
     "slide_type": "subslide"
    }
   },
   "source": [
    "# Spurious stress singularities"
   ]
  },
  {
   "cell_type": "markdown",
   "id": "3fc8722e",
   "metadata": {
    "cell_style": "split",
    "slideshow": {
     "slide_type": ""
    }
   },
   "source": [
    "<img src=\"img/refinement_mesh.png\" width=\"100%\" />"
   ]
  },
  {
   "cell_type": "markdown",
   "id": "5064c5fc",
   "metadata": {
    "cell_style": "split"
   },
   "source": [
    "* Geometric model has a round cylinder, no singularity\n",
    "* Linear meshes have weak reentrant corners\n",
    "* Moving to quadratic geometry elements is generally good enough\n",
    "* Gmsh supports arbitrary order"
   ]
  },
  {
   "cell_type": "markdown",
   "id": "1f3e6c6b",
   "metadata": {
    "slideshow": {
     "slide_type": "slide"
    }
   },
   "source": [
    "# Why matrix-free?\n",
    "\n",
    "* Assembled matrices need at least 4 bytes transferred per flop. Hardware does 10 flops per byte.\n",
    "* Matrix-free methods store and move less data, compute faster.\n",
    "\n",
    "<img src=\"img/flop-per-byte-dp-2022.svg\" class=\"floatleft\" />\n",
    "<img src=\"img/TensorVsAssembly-qstore.svg\" class=\"floatright\" />"
   ]
  },
  {
   "cell_type": "markdown",
   "id": "5db71b0e",
   "metadata": {
    "slideshow": {
     "slide_type": "slide"
    }
   },
   "source": [
    "# Matrix-free is faster for $Q_1$ elements\n",
    "\n",
    "<img src=\"img/schwarz-apply.svg\" width=\"100%\" />"
   ]
  },
  {
   "cell_type": "markdown",
   "id": "5130c1c0",
   "metadata": {
    "slideshow": {
     "slide_type": "slide"
    }
   },
   "source": [
    "# $p$-multigrid algorithm and cost breakdown"
   ]
  },
  {
   "cell_type": "markdown",
   "id": "d0e4b7c8",
   "metadata": {
    "cell_style": "split"
   },
   "source": [
    "<img src=\"img/p-mg-cycle.png\" width=\"80%\" />"
   ]
  },
  {
   "cell_type": "markdown",
   "id": "836193b9",
   "metadata": {
    "cell_style": "split"
   },
   "source": [
    "<img src=\"img/op_schematic.svg\" width=\"80%\" />"
   ]
  },
  {
   "cell_type": "markdown",
   "id": "059db6b0",
   "metadata": {
    "slideshow": {
     "slide_type": "slide"
    }
   },
   "source": [
    "# Nonlinear solve efficiency"
   ]
  },
  {
   "cell_type": "markdown",
   "id": "64fee56a",
   "metadata": {
    "cell_style": "split",
    "slideshow": {
     "slide_type": ""
    }
   },
   "source": [
    "## $Q_2$ elements\n",
    "<img src=\"img/schwarz-q2-t20-r2-l2-SNESSolve.svg\" />"
   ]
  },
  {
   "cell_type": "markdown",
   "id": "fc1ba15e",
   "metadata": {
    "cell_style": "split"
   },
   "source": [
    "## $Q_3$ elements\n",
    "<img src=\"img/schwarz-q3-t20-r2-l1-SNESSolve.svg\" />"
   ]
  },
  {
   "cell_type": "markdown",
   "id": "1bda1eca",
   "metadata": {
    "slideshow": {
     "slide_type": "slide"
    }
   },
   "source": [
    "# Linear solve efficiency"
   ]
  },
  {
   "cell_type": "markdown",
   "id": "75a0626f",
   "metadata": {
    "cell_style": "split",
    "slideshow": {
     "slide_type": ""
    }
   },
   "source": [
    "## $Q_2$ elements\n",
    "<img src=\"img/schwarz-q2-t20-r2-l2-KSPSolve.svg\" />"
   ]
  },
  {
   "cell_type": "markdown",
   "id": "2cc93461",
   "metadata": {
    "cell_style": "split"
   },
   "source": [
    "## $Q_3$ elements\n",
    "<img src=\"img/schwarz-q3-t20-r2-l1-KSPSolve.svg\" />"
   ]
  },
  {
   "cell_type": "markdown",
   "id": "da65b080",
   "metadata": {},
   "source": [
    "* Coarse solver is hypre BoomerAMG tuned configured for elasticity; thanks Victor Paludetto\n",
    "Magri."
   ]
  },
  {
   "cell_type": "markdown",
   "id": "6c4afa4f",
   "metadata": {
    "slideshow": {
     "slide_type": "slide"
    }
   },
   "source": [
    "# Preconditioner setup efficiency"
   ]
  },
  {
   "cell_type": "markdown",
   "id": "02140279",
   "metadata": {
    "cell_style": "split",
    "slideshow": {
     "slide_type": ""
    }
   },
   "source": [
    "## $Q_2$ elements\n",
    "<img src=\"img/schwarz-q2-t20-r2-l2-PCSetUp.svg\" />"
   ]
  },
  {
   "cell_type": "markdown",
   "id": "17f51a5e",
   "metadata": {
    "cell_style": "split"
   },
   "source": [
    "## $Q_3$ elements\n",
    "<img src=\"img/schwarz-q3-t20-r2-l1-PCSetUp.svg\" />"
   ]
  },
  {
   "cell_type": "markdown",
   "id": "c8ff417c",
   "metadata": {
    "slideshow": {
     "slide_type": "slide"
    }
   },
   "source": [
    "# One node of Crusher vs historical Gordon Bell\n",
    "## 184 MDoF $Q_2$ elements nonlinear analysis in seconds"
   ]
  },
  {
   "cell_type": "markdown",
   "id": "93cbaf42",
   "metadata": {
    "cell_style": "center"
   },
   "source": [
    "## 2002 Gordon Bell (Bhardwaj et al)\n",
    "\n",
    "<img src=\"img/gordon-bell-2002-mems.png\" width=\"400%\" />\n",
    "\n",
    "<img src=\"img/gordon-bell-2002-mems-table.png\" width=\"100%\" />"
   ]
  },
  {
   "cell_type": "markdown",
   "id": "19385106",
   "metadata": {
    "cell_style": "split"
   },
   "source": [
    "## 2004 Gordon Bell (Adams et al)\n",
    "\n",
    "<img src=\"img/gordon-bell-2004-bone.png\" width=\"70%\" />\n",
    "\n",
    "<img src=\"img/gordon-bell-2004-bone-scaling.jpg\" width=\"100%\" />"
   ]
  },
  {
   "cell_type": "markdown",
   "id": "e6f633ef",
   "metadata": {
    "cell_style": "split",
    "slideshow": {
     "slide_type": "slide"
    }
   },
   "source": [
    "# Old performance model\n",
    "\n",
    "## Iterative solvers: Bandwidth\n",
    "* SpMV arithmetic intensity of 1/6 flop/byte\n",
    "* Preconditioners also mostly bandwidth\n",
    "  * Architectural latency a big problem on GPUs, especially for sparse triangular solves.\n",
    "  * Sparse matrix-matrix products for AMG setup\n",
    "  \n",
    "## Direct solvers: Bandwidth and Dense compute\n",
    "* Leaf work in sparse direct solves\n",
    "* Dense factorization of supernodes\n",
    "  * Fundamentally nonscalable, granularity on GPUs is already too big to apply on subdomains\n",
    "* Research on H-matrix approximations (e.g., in STRUMPACK)"
   ]
  },
  {
   "cell_type": "markdown",
   "id": "c96d56ed",
   "metadata": {
    "cell_style": "split",
    "slideshow": {
     "slide_type": "fragment"
    }
   },
   "source": [
    "# New performance model\n",
    "\n",
    "## Still mostly bandwidth\n",
    "\n",
    "* Reduce storage needed at quadrature points\n",
    "  * Half the cost of a sparse matrix already for linear elements\n",
    "  * Big efficiency gains for high order\n",
    "* Assembled coarse levels are much smaller.\n",
    "\n",
    "## Compute\n",
    "\n",
    "* Kernel fusion is necessary\n",
    "* Balance vectorization with cache/occupancy\n",
    "* $O(n)$, but benefits from BLIS-like abstractions\n",
    "| BLIS | libCEED |\n",
    "|------|---------|\n",
    "| packing | batched element restriction |\n",
    "| microkernel | basis action |\n",
    "| ? | user-provided qfunctions |\n"
   ]
  },
  {
   "cell_type": "markdown",
   "id": "ce32c641",
   "metadata": {
    "slideshow": {
     "slide_type": "slide"
    }
   },
   "source": [
    "# Solids: efficient matrix-free Jacobians\n",
    "## cf. [Davydov et al. (2020)](https://doi.org/10.1002/nme.6336)\n",
    "\n",
    "<img src=\"img/libceed-solids-initial-current.png\" width=\"80%\" />\n",
    "<img src=\"img/libceed-solids-jacobian-table.png\" width=\"80%\" />"
   ]
  },
  {
   "cell_type": "markdown",
   "id": "31536b79",
   "metadata": {
    "slideshow": {
     "slide_type": "slide"
    }
   },
   "source": [
    "# Stable formulations for large-deformation solid mechanics"
   ]
  },
  {
   "cell_type": "markdown",
   "id": "3377791f",
   "metadata": {
    "cell_style": "split"
   },
   "source": [
    "Solving for $\\mathbf u(\\mathbf X)$. Let $H = \\frac{\\partial \\mathbf u}{\\partial \\mathbf X}$ (displacement gradient) and $F = I + H$ (deformation gradient).\n",
    "\n",
    "## Textbook approach\n",
    "\n",
    "* Stress as a function of $F$:\n",
    "$J = \\operatorname{det} F$, $C = F^T F$\n",
    "$$S = \\lambda \\log J\\, C^{-1} + \\mu (I - C^{-1})$$\n",
    "\n",
    "Unstable for small strain, $F \\approx I$ and $J \\approx 1$.\n",
    "\n",
    "## Stable approach\n",
    "* Stable strain calculation\n",
    "$$E = \\underbrace{(C - I)/2}_{\\text{unstable}} = (H + H^T + H^T H)/2$$\n",
    "* Compute $J_{-1} = J - 1$ in a stable way\n",
    "* Stress\n",
    "$$S = \\lambda \\operatorname{\\tt log1p}J_{-1}\\, C^{-1} + 2 \\mu C^{-1} E$$"
   ]
  },
  {
   "cell_type": "markdown",
   "id": "ebc4fe52",
   "metadata": {
    "cell_style": "split"
   },
   "source": [
    "<img src=\"img/stable-neo-hookean.svg\" width=\"100%\" />\n",
    "\n",
    "This opens the door to dynamic mixed precision algorithms, with computationally intensive physics evaluated using single precision."
   ]
  },
  {
   "cell_type": "markdown",
   "id": "d7000a10",
   "metadata": {
    "cell_style": "center",
    "hideCode": true,
    "hidePrompt": true,
    "slideshow": {
     "slide_type": "slide"
    }
   },
   "source": [
    "# Outlook: https://ratel.micromorph.org\n",
    "\n",
    "* You can move from $Q_1$ to $Q_2$ elements for about 2x cost (despite 8x more DoFs)\n",
    "* Mesh to resolve geometry, $p$-refine to pragmatic accuracy\n",
    "* libCEED isn't just for high order; already 2x operator apply benefit for $Q_1$\n",
    "* Gordon Bell scale from 20 years ago $\\mapsto$ interactive on a workstation (if you can buy MI250X 😊)\n",
    "* $p$-multigrid, low-memory representation of matrix-free Jacobian\n",
    "* Multi-node GPU on CUDA and ROCm\n",
    "* Also good for implicit dynamics"
   ]
  },
  {
   "cell_type": "markdown",
   "id": "b734c64d",
   "metadata": {
    "cell_style": "split",
    "hideCode": true,
    "hidePrompt": true,
    "slideshow": {
     "slide_type": ""
    }
   },
   "source": [
    "<video src=\"img/schwarz-pendulum.webm\" autoplay loop controls width=\"100%\" />"
   ]
  },
  {
   "cell_type": "markdown",
   "id": "988fb6f5",
   "metadata": {
    "cell_style": "split"
   },
   "source": [
    "<img src=\"img/libceed-epoxy-traction-20210829.gif\" width=\"80%\" />"
   ]
  }
 ],
 "metadata": {
  "@webio": {
   "lastCommId": null,
   "lastKernelId": null
  },
  "celltoolbar": "Slideshow",
  "kernelspec": {
   "display_name": "Julia 1.9.3",
   "language": "julia",
   "name": "julia-1.9"
  },
  "language_info": {
   "file_extension": ".jl",
   "mimetype": "application/julia",
   "name": "julia",
   "version": "1.9.4"
  },
  "rise": {
   "enable_chalkboard": true
  }
 },
 "nbformat": 4,
 "nbformat_minor": 5
}
